{
 "cells": [
  {
   "cell_type": "markdown",
   "id": "838eceb3",
   "metadata": {},
   "source": [
    "### 1. Install and load packages\n"
   ]
  },
  {
   "cell_type": "code",
   "execution_count": 1,
   "id": "26f19e9c",
   "metadata": {},
   "outputs": [
    {
     "name": "stdout",
     "output_type": "stream",
     "text": [
      "Downloading emoji data ...\n",
      "... OK (Got response in 0.62 seconds)\n",
      "Writing emoji data to C:\\Users\\kbyc\\.demoji\\codes.json ...\n",
      "... OK\n"
     ]
    },
    {
     "name": "stderr",
     "output_type": "stream",
     "text": [
      "[nltk_data] Downloading package stopwords to\n",
      "[nltk_data]     C:\\Users\\kbyc\\AppData\\Roaming\\nltk_data...\n",
      "[nltk_data]   Package stopwords is already up-to-date!\n",
      "[nltk_data] Downloading package wordnet to\n",
      "[nltk_data]     C:\\Users\\kbyc\\AppData\\Roaming\\nltk_data...\n",
      "[nltk_data]   Package wordnet is already up-to-date!\n"
     ]
    }
   ],
   "source": [
    "import pandas as pd\n",
    "import snscrape.modules.twitter as sntwitter\n",
    "import itertools\n",
    "from datetime import datetime,date\n",
    "import demoji\n",
    "import emoji\n",
    "demoji.download_codes()\n",
    "import string\n",
    "import re\n",
    "import nltk\n",
    "nltk.download('stopwords')\n",
    "from nltk.stem.porter import PorterStemmer\n",
    "from nltk.stem import WordNetLemmatizer\n",
    "nltk.download('wordnet')\n",
    "\n",
    "from io import StringIO"
   ]
  },
  {
   "cell_type": "code",
   "execution_count": 2,
   "id": "b8fb0beb",
   "metadata": {},
   "outputs": [
    {
     "name": "stderr",
     "output_type": "stream",
     "text": [
      "[nltk_data] Downloading package averaged_perceptron_tagger to\n",
      "[nltk_data]     C:\\Users\\kbyc\\AppData\\Roaming\\nltk_data...\n",
      "[nltk_data]   Package averaged_perceptron_tagger is already up-to-\n",
      "[nltk_data]       date!\n"
     ]
    },
    {
     "data": {
      "text/plain": [
       "True"
      ]
     },
     "execution_count": 2,
     "metadata": {},
     "output_type": "execute_result"
    }
   ],
   "source": [
    "from nltk.corpus import wordnet\n",
    "from nltk.stem import WordNetLemmatizer\n",
    "nltk.download('averaged_perceptron_tagger')"
   ]
  },
  {
   "cell_type": "code",
   "execution_count": 3,
   "id": "de5e3f09",
   "metadata": {},
   "outputs": [],
   "source": [
    "import matplotlib.pyplot as plt\n",
    "import seaborn as sns"
   ]
  },
  {
   "cell_type": "code",
   "execution_count": 4,
   "id": "6e9770ce",
   "metadata": {},
   "outputs": [],
   "source": [
    "from textblob import TextBlob\n",
    "import sys\n",
    "import os"
   ]
  },
  {
   "cell_type": "code",
   "execution_count": 5,
   "id": "f5515a0b",
   "metadata": {},
   "outputs": [],
   "source": [
    "#!pip install textblob"
   ]
  },
  {
   "cell_type": "code",
   "execution_count": 6,
   "id": "4d70d1bb",
   "metadata": {},
   "outputs": [],
   "source": [
    "#pip install pyspellchecker\n"
   ]
  },
  {
   "cell_type": "code",
   "execution_count": 7,
   "id": "d22c886a",
   "metadata": {},
   "outputs": [],
   "source": [
    "#pip install emoji"
   ]
  },
  {
   "cell_type": "markdown",
   "id": "f1443975",
   "metadata": {},
   "source": [
    "### 2. Load data\n",
    "    Add the missing days from "
   ]
  },
  {
   "cell_type": "code",
   "execution_count": 8,
   "id": "12e96c94",
   "metadata": {},
   "outputs": [],
   "source": [
    "df_17 = pd.read_csv('BTC_2017_NEW')\n",
    "df_18 = pd.read_csv('BTC_2018_NEW')\n",
    "df_19 = pd.read_csv('BTC_2019_v2')\n",
    "df_20_07 = pd.read_csv('BTC_2020_07')\n",
    "df_20 = pd.read_csv('BTC_2020_v2')\n"
   ]
  },
  {
   "cell_type": "code",
   "execution_count": 9,
   "id": "4f6c8ceb",
   "metadata": {},
   "outputs": [],
   "source": [
    "df_list = [df_20, df_20_07, df_19, df_18, df_17]"
   ]
  },
  {
   "cell_type": "code",
   "execution_count": 10,
   "id": "778f388a",
   "metadata": {},
   "outputs": [
    {
     "name": "stdout",
     "output_type": "stream",
     "text": [
      "[        Unnamed: 0  Unnamed: 0.1  \\\n",
      "0                0             0   \n",
      "1                1             1   \n",
      "2                2             2   \n",
      "3                3             3   \n",
      "4                4             4   \n",
      "...            ...           ...   \n",
      "998343      998343        998343   \n",
      "998344      998344        998344   \n",
      "998345      998345        998345   \n",
      "998346      998346        998346   \n",
      "998347      998347        998347   \n",
      "\n",
      "                                                      url  \\\n",
      "0       https://twitter.com/bitcoinpanda69/status/1407...   \n",
      "1       https://twitter.com/cryptolosophy/status/14078...   \n",
      "2       https://twitter.com/tantonomini/status/1407850...   \n",
      "3       https://twitter.com/Anthony04092882/status/140...   \n",
      "4       https://twitter.com/tantonomini/status/1407850...   \n",
      "...                                                   ...   \n",
      "998343  https://twitter.com/SatoshiFlipper/status/1280...   \n",
      "998344  https://twitter.com/BITCOIN_FEG/status/1280290...   \n",
      "998345  https://twitter.com/Handykrypt/status/12802906...   \n",
      "998346  https://twitter.com/BagsyBot/status/1280290657...   \n",
      "998347  https://twitter.com/FIatEarthMaps/status/12802...   \n",
      "\n",
      "                             date  \\\n",
      "0       2021-06-23 23:59:57+00:00   \n",
      "1       2021-06-23 23:59:09+00:00   \n",
      "2       2021-06-23 23:59:08+00:00   \n",
      "3       2021-06-23 23:58:21+00:00   \n",
      "4       2021-06-23 23:57:28+00:00   \n",
      "...                           ...   \n",
      "998343  2020-07-07 00:02:11+00:00   \n",
      "998344  2020-07-07 00:01:26+00:00   \n",
      "998345  2020-07-07 00:00:54+00:00   \n",
      "998346  2020-07-07 00:00:53+00:00   \n",
      "998347  2020-07-07 00:00:16+00:00   \n",
      "\n",
      "                                                  content  \\\n",
      "0       fooo isn't underwater\\n\\nfooo's entire net wor...   \n",
      "1       Jejudoge CMC listing is Live! Currently Voted ...   \n",
      "2       When people say “bitcoin is MySpace, something...   \n",
      "3       @CryptoGodJohn #BTC Bullish &amp; @CentricRise...   \n",
      "4       HEX, BTC, ETH annual charts. B and E might be ...   \n",
      "...                                                   ...   \n",
      "998343  That's a nice daily close for $BTC 👊👊 https://...   \n",
      "998344   @Ironplay8 Wait $GRNF first always remember this   \n",
      "998345  It is a mathematical impossibility to try to c...   \n",
      "998346  Binance $LINK / BTC (Chainlink)\\n\\nNew All-Tim...   \n",
      "998347  ⚠️SCAMMER CLOWN ALERT⚠️\\n\\nREPORT\\n\\n⚠️⚠️ @Leg...   \n",
      "\n",
      "                                          renderedContent  \\\n",
      "0       fooo isn't underwater\\n\\nfooo's entire net wor...   \n",
      "1       Jejudoge CMC listing is Live! Currently Voted ...   \n",
      "2       When people say “bitcoin is MySpace, something...   \n",
      "3       @CryptoGodJohn #BTC Bullish &amp; @CentricRise...   \n",
      "4       HEX, BTC, ETH annual charts. B and E might be ...   \n",
      "...                                                   ...   \n",
      "998343  That's a nice daily close for $BTC 👊👊 https://...   \n",
      "998344   @Ironplay8 Wait $GRNF first always remember this   \n",
      "998345  It is a mathematical impossibility to try to c...   \n",
      "998346  Binance $LINK / BTC (Chainlink)\\n\\nNew All-Tim...   \n",
      "998347  ⚠️SCAMMER CLOWN ALERT⚠️\\n\\nREPORT\\n\\n⚠️⚠️ @Leg...   \n",
      "\n",
      "                         id  \\\n",
      "0       1407850949410971654   \n",
      "1       1407850746767417345   \n",
      "2       1407850743944646658   \n",
      "3       1407850546795589642   \n",
      "4       1407850323515936769   \n",
      "...                     ...   \n",
      "998343  1280290980789354497   \n",
      "998344  1280290794780442625   \n",
      "998345  1280290659992207365   \n",
      "998346  1280290657081360384   \n",
      "998347  1280290501825105922   \n",
      "\n",
      "                                                     user  replyCount  \\\n",
      "0       {'username': 'bitcoinpanda69', 'id': 104956721...           6   \n",
      "1       {'username': 'cryptolosophy', 'id': 9538981939...           1   \n",
      "2       {'username': 'tantonomini', 'id': 313059177, '...           3   \n",
      "3       {'username': 'Anthony04092882', 'id': 13405433...           1   \n",
      "4       {'username': 'tantonomini', 'id': 313059177, '...           0   \n",
      "...                                                   ...         ...   \n",
      "998343  {'username': 'SatoshiFlipper', 'id': 944961548...          12   \n",
      "998344  {'username': 'BITCOIN_FEG', 'id': 560524288, '...           0   \n",
      "998345  {'username': 'Handykrypt', 'id': 1229768226, '...          14   \n",
      "998346  {'username': 'BagsyBot', 'id': 997621595249299...           0   \n",
      "998347  {'username': 'FIatEarthMaps', 'id': 131587377,...          10   \n",
      "\n",
      "        retweetCount  ...                                              media  \\\n",
      "0                  1  ...                                                NaN   \n",
      "1                 10  ...                                                NaN   \n",
      "2                  6  ...                                                NaN   \n",
      "3                  6  ...  [{'previewUrl': 'https://pbs.twimg.com/media/E...   \n",
      "4                  2  ...  [{'previewUrl': 'https://pbs.twimg.com/media/E...   \n",
      "...              ...  ...                                                ...   \n",
      "998343            20  ...  [{'previewUrl': 'https://pbs.twimg.com/media/E...   \n",
      "998344             1  ...                                                NaN   \n",
      "998345            21  ...                                                NaN   \n",
      "998346             2  ...  [{'previewUrl': 'https://pbs.twimg.com/media/E...   \n",
      "998347            84  ...                                                NaN   \n",
      "\n",
      "        retweetedTweet                                        quotedTweet  \\\n",
      "0                  NaN  {'url': 'https://twitter.com/MeiTrades/status/...   \n",
      "1                  NaN                                                NaN   \n",
      "2                  NaN                                                NaN   \n",
      "3                  NaN                                                NaN   \n",
      "4                  NaN                                                NaN   \n",
      "...                ...                                                ...   \n",
      "998343             NaN                                                NaN   \n",
      "998344             NaN                                                NaN   \n",
      "998345             NaN                                                NaN   \n",
      "998346             NaN                                                NaN   \n",
      "998347             NaN                                                NaN   \n",
      "\n",
      "       inReplyToTweetId                                      inReplyToUser  \\\n",
      "0                   NaN                                                NaN   \n",
      "1                   NaN                                                NaN   \n",
      "2                   NaN                                                NaN   \n",
      "3          1.407850e+18  {'username': 'CryptoGodJohn', 'id': 210623431,...   \n",
      "4                   NaN                                                NaN   \n",
      "...                 ...                                                ...   \n",
      "998343              NaN                                                NaN   \n",
      "998344     1.280273e+18  {'username': 'Ironplay8', 'id': 11263349718310...   \n",
      "998345              NaN                                                NaN   \n",
      "998346              NaN                                                NaN   \n",
      "998347              NaN                                                NaN   \n",
      "\n",
      "                                           mentionedUsers coordinates place  \\\n",
      "0                                                     NaN         NaN   NaN   \n",
      "1       [{'username': 'OTC_Bitcoin', 'id': 18873970, '...         NaN   NaN   \n",
      "2                                                     NaN         NaN   NaN   \n",
      "3       [{'username': 'CryptoGodJohn', 'id': 210623431...         NaN   NaN   \n",
      "4                                                     NaN         NaN   NaN   \n",
      "...                                                   ...         ...   ...   \n",
      "998343                                                NaN         NaN   NaN   \n",
      "998344  [{'username': 'Ironplay8', 'id': 1126334971831...         NaN   NaN   \n",
      "998345                                                NaN         NaN   NaN   \n",
      "998346                                                NaN         NaN   NaN   \n",
      "998347  [{'username': 'LegitMrdadex', 'id': 1277730226...         NaN   NaN   \n",
      "\n",
      "                                                 hashtags  cashtags  \n",
      "0                                                     NaN       NaN  \n",
      "1                                            ['jejudoge']       NaN  \n",
      "2                                                     NaN       NaN  \n",
      "3       ['BTC', 'CNR', 'CNS', 'binance', 'BinanceSmart...       NaN  \n",
      "4                                                     NaN       NaN  \n",
      "...                                                   ...       ...  \n",
      "998343                                                NaN   ['BTC']  \n",
      "998344                                                NaN  ['GRNF']  \n",
      "998345                                        ['bitcoin']       NaN  \n",
      "998346                                                NaN  ['LINK']  \n",
      "998347                                                NaN       NaN  \n",
      "\n",
      "[998348 rows x 29 columns],        Unnamed: 0                                                url  \\\n",
      "0               0  https://twitter.com/OTC_Bitcoin/status/1280290...   \n",
      "1               1  https://twitter.com/NakamotoQuotes/status/1280...   \n",
      "2               2  https://twitter.com/NewCreationCap/status/1280...   \n",
      "3               3  https://twitter.com/lovecelticwoman/status/128...   \n",
      "4               4  https://twitter.com/TheGuySwann/status/1280289...   \n",
      "...           ...                                                ...   \n",
      "17258       17258  https://twitter.com/stephanlivera/status/12755...   \n",
      "17259       17259  https://twitter.com/Panama_TJ/status/127558027...   \n",
      "17260       17260  https://twitter.com/BTCsessions/status/1275580...   \n",
      "17261       17261  https://twitter.com/MessariCrypto/status/12755...   \n",
      "17262       17262  https://twitter.com/binance/status/12755793921...   \n",
      "\n",
      "                            date  \\\n",
      "0      2020-07-06 23:58:23+00:00   \n",
      "1      2020-07-06 23:57:06+00:00   \n",
      "2      2020-07-06 23:55:57+00:00   \n",
      "3      2020-07-06 23:55:39+00:00   \n",
      "4      2020-07-06 23:54:25+00:00   \n",
      "...                          ...   \n",
      "17258  2020-06-24 00:03:51+00:00   \n",
      "17259  2020-06-24 00:03:31+00:00   \n",
      "17260  2020-06-24 00:03:13+00:00   \n",
      "17261  2020-06-24 00:00:27+00:00   \n",
      "17262  2020-06-24 00:00:00+00:00   \n",
      "\n",
      "                                                 content  \\\n",
      "0      @ScottAdamsSays Funny how liberals are for lyn...   \n",
      "1      I've developed a new open source P2P e-cash sy...   \n",
      "2      Episode 98: @quant_network Deep Dive! $QNT The...   \n",
      "3      👆Follow my friends👇 \\n@MarEthr \\n@italianostyl...   \n",
      "4      @katyaandme @canyonoutlook @JackMallers @steph...   \n",
      "...                                                  ...   \n",
      "17258  Bitcoin permeating further into pop culture ht...   \n",
      "17259  #Bitcoin metrics, all bullish! https://t.co/36...   \n",
      "17260  Thanks for the new article @emylacapra! This w...   \n",
      "17261  .@twobitidiot will be live with @Ledger CEO @_...   \n",
      "17262  #BinanceFutures \"Top Traders\" positions on the...   \n",
      "\n",
      "                                         renderedContent                   id  \\\n",
      "0      @ScottAdamsSays Funny how liberals are for lyn...  1280290027524681728   \n",
      "1      I've developed a new open source P2P e-cash sy...  1280289704051687427   \n",
      "2      Episode 98: @quant_network Deep Dive! $QNT The...  1280289412006522881   \n",
      "3      👆Follow my friends👇 \\n@MarEthr \\n@italianostyl...  1280289337020571653   \n",
      "4      @katyaandme @canyonoutlook @JackMallers @steph...  1280289027900522496   \n",
      "...                                                  ...                  ...   \n",
      "17258  Bitcoin permeating further into pop culture tw...  1275580360181477377   \n",
      "17259  #Bitcoin metrics, all bullish! https://t.co/36...  1275580274714324999   \n",
      "17260  Thanks for the new article @emylacapra! This w...  1275580202060414976   \n",
      "17261  .@twobitidiot will be live with @Ledger CEO @_...  1275579502912045056   \n",
      "17262  #BinanceFutures \"Top Traders\" positions on the...  1275579392161390593   \n",
      "\n",
      "                                                    user  replyCount  \\\n",
      "0      {'username': 'OTC_Bitcoin', 'id': 18873970, 'd...           5   \n",
      "1      {'username': 'NakamotoQuotes', 'id': 941674227...           0   \n",
      "2      {'username': 'NewCreationCap', 'id': 49865304,...           1   \n",
      "3      {'username': 'lovecelticwoman', 'id': 11233741...           1   \n",
      "4      {'username': 'TheGuySwann', 'id': 2402535456, ...           5   \n",
      "...                                                  ...         ...   \n",
      "17258  {'username': 'stephanlivera', 'id': 230517800,...           2   \n",
      "17259  {'username': 'Panama_TJ', 'id': 326226858, 'di...           3   \n",
      "17260  {'username': 'BTCsessions', 'id': 2298103730, ...           0   \n",
      "17261  {'username': 'MessariCrypto', 'id': 412587524,...           0   \n",
      "17262  {'username': 'binance', 'id': 8778079354930339...          10   \n",
      "\n",
      "       retweetCount  likeCount  ...  \\\n",
      "0                14        131  ...   \n",
      "1                 5         21  ...   \n",
      "2                 1          9  ...   \n",
      "3                 4          8  ...   \n",
      "4                 4         30  ...   \n",
      "...             ...        ...  ...   \n",
      "17258             3         25  ...   \n",
      "17259             4         31  ...   \n",
      "17260             3          5  ...   \n",
      "17261             9         24  ...   \n",
      "17262            23         79  ...   \n",
      "\n",
      "                                                   media  retweetedTweet  \\\n",
      "0                                                    NaN             NaN   \n",
      "1                                                    NaN             NaN   \n",
      "2      [{'previewUrl': 'https://pbs.twimg.com/media/E...             NaN   \n",
      "3      [{'previewUrl': 'https://pbs.twimg.com/media/E...             NaN   \n",
      "4                                                    NaN             NaN   \n",
      "...                                                  ...             ...   \n",
      "17258                                                NaN             NaN   \n",
      "17259  [{'previewUrl': 'https://pbs.twimg.com/media/E...             NaN   \n",
      "17260                                                NaN             NaN   \n",
      "17261                                                NaN             NaN   \n",
      "17262                                                NaN             NaN   \n",
      "\n",
      "                                             quotedTweet inReplyToTweetId  \\\n",
      "0                                                    NaN     1.280289e+18   \n",
      "1                                                    NaN              NaN   \n",
      "2                                                    NaN              NaN   \n",
      "3                                                    NaN              NaN   \n",
      "4                                                    NaN     1.280288e+18   \n",
      "...                                                  ...              ...   \n",
      "17258  {'url': 'https://twitter.com/Mr_Mike_Jones/sta...              NaN   \n",
      "17259                                                NaN              NaN   \n",
      "17260                                                NaN              NaN   \n",
      "17261                                                NaN              NaN   \n",
      "17262                                                NaN              NaN   \n",
      "\n",
      "                                           inReplyToUser  \\\n",
      "0      {'username': 'ScottAdamsSays', 'id': 285346153...   \n",
      "1                                                    NaN   \n",
      "2                                                    NaN   \n",
      "3                                                    NaN   \n",
      "4      {'username': 'katyaandme', 'id': 9827920129601...   \n",
      "...                                                  ...   \n",
      "17258                                                NaN   \n",
      "17259                                                NaN   \n",
      "17260                                                NaN   \n",
      "17261                                                NaN   \n",
      "17262                                                NaN   \n",
      "\n",
      "                                          mentionedUsers coordinates place  \\\n",
      "0      [{'username': 'ScottAdamsSays', 'id': 28534615...         NaN   NaN   \n",
      "1                                                    NaN         NaN   NaN   \n",
      "2      [{'username': 'quant_network', 'id': 790295332...         NaN   NaN   \n",
      "3      [{'username': 'MarEthr', 'id': 64845075, 'disp...         NaN   NaN   \n",
      "4      [{'username': 'katyaandme', 'id': 982792012960...         NaN   NaN   \n",
      "...                                                  ...         ...   ...   \n",
      "17258                                                NaN         NaN   NaN   \n",
      "17259                                                NaN         NaN   NaN   \n",
      "17260  [{'username': 'emylacapra', 'id': 257983139, '...         NaN   NaN   \n",
      "17261  [{'username': 'twobitidiot', 'id': 2193616844,...         NaN   NaN   \n",
      "17262                                                NaN         NaN   NaN   \n",
      "\n",
      "                                            hashtags  \\\n",
      "0                                                NaN   \n",
      "1                                                NaN   \n",
      "2      ['XRP', 'BTC', 'ETH', 'Corda', 'Hyperlegder']   \n",
      "3                         ['TEAMSTALLION', 'family']   \n",
      "4                           ['Bitcoin', 'Lightning']   \n",
      "...                                              ...   \n",
      "17258                                            NaN   \n",
      "17259                                    ['Bitcoin']   \n",
      "17260                                    ['Bitcoin']   \n",
      "17261                                    ['Bitcoin']   \n",
      "17262                             ['BinanceFutures']   \n",
      "\n",
      "                                                cashtags  \n",
      "0                                                    NaN  \n",
      "1                                                    NaN  \n",
      "2                                         ['QNT', 'XLM']  \n",
      "3                                                    NaN  \n",
      "4                                                    NaN  \n",
      "...                                                  ...  \n",
      "17258                                                NaN  \n",
      "17259                                                NaN  \n",
      "17260                                                NaN  \n",
      "17261                                                NaN  \n",
      "17262  ['BTC', 'ETH', 'XRP', 'TRX', 'LINK', 'ADA', 'X...  \n",
      "\n",
      "[17263 rows x 28 columns],         Unnamed: 0                                                url  \\\n",
      "0                0  https://twitter.com/Fikri7810/status/127557904...   \n",
      "1                1  https://twitter.com/Bullishdotio/status/127557...   \n",
      "2                2  https://twitter.com/LiGHT_MiLDS/status/1275577...   \n",
      "3                3  https://twitter.com/shark_bitcoin/status/12755...   \n",
      "4                4  https://twitter.com/BitcoinBF/status/127557698...   \n",
      "...            ...                                                ...   \n",
      "447049      447049  https://twitter.com/ercwl/status/1142946565704...   \n",
      "447050      447050  https://twitter.com/DigitalNomadInv/status/114...   \n",
      "447051      447051  https://twitter.com/blknoiz06/status/114294655...   \n",
      "447052      447052  https://twitter.com/HeliosPlatform/status/1142...   \n",
      "447053      447053  https://twitter.com/NuggetsNewsAU/status/11429...   \n",
      "\n",
      "                             date  \\\n",
      "0       2020-06-23 23:58:38+00:00   \n",
      "1       2020-06-23 23:56:42+00:00   \n",
      "2       2020-06-23 23:54:00+00:00   \n",
      "3       2020-06-23 23:53:59+00:00   \n",
      "4       2020-06-23 23:50:26+00:00   \n",
      "...                           ...   \n",
      "447049  2019-06-24 00:04:30+00:00   \n",
      "447050  2019-06-24 00:04:28+00:00   \n",
      "447051  2019-06-24 00:04:28+00:00   \n",
      "447052  2019-06-24 00:01:21+00:00   \n",
      "447053  2019-06-24 00:00:00+00:00   \n",
      "\n",
      "                                                  content  \\\n",
      "0       $$ QUICK AIRDROP $$\\n\\nNew user sign up get 50...   \n",
      "1       @chainlink partnered with a whole country toda...   \n",
      "2       @XVGWhaleReal I have a feeling that $XVG will ...   \n",
      "3       I see interesting movements in altcoin #ASW in...   \n",
      "4         Solid advice 😂 #bitcoin https://t.co/w9EmWmBeHl   \n",
      "...                                                   ...   \n",
      "447049  If Facebook's blockchain handles 1,000 tps, th...   \n",
      "447050  @AndrewNation13 @stephenchip @annaliz_george @...   \n",
      "447051  btc got me buying bottles at 5pm bro https://t...   \n",
      "447052  Reminder of one of our currently running airdr...   \n",
      "447053  Why is #Bitcoin so valuable? \\n\\nw/ 👨‍🚀@AlexSa...   \n",
      "\n",
      "                                          renderedContent  \\\n",
      "0       $$ QUICK AIRDROP $$\\n\\nNew user sign up get 50...   \n",
      "1       @chainlink partnered with a whole country toda...   \n",
      "2       @XVGWhaleReal I have a feeling that $XVG will ...   \n",
      "3       I see interesting movements in altcoin #ASW in...   \n",
      "4       Solid advice 😂 #bitcoin twitter.com/jimbocoin/...   \n",
      "...                                                   ...   \n",
      "447049  If Facebook's blockchain handles 1,000 tps, th...   \n",
      "447050  @AndrewNation13 @stephenchip @annaliz_george @...   \n",
      "447051  btc got me buying bottles at 5pm bro twitter.c...   \n",
      "447052  Reminder of one of our currently running airdr...   \n",
      "447053  Why is #Bitcoin so valuable? \\n\\nw/ 👨‍🚀@AlexSa...   \n",
      "\n",
      "                         id  \\\n",
      "0       1275579047695679488   \n",
      "1       1275578558065315843   \n",
      "2       1275577878592122885   \n",
      "3       1275577875345952773   \n",
      "4       1275576983670394881   \n",
      "...                     ...   \n",
      "447049  1142946565704822784   \n",
      "447050  1142946555831304192   \n",
      "447051  1142946555579772929   \n",
      "447052  1142945769550278656   \n",
      "447053  1142945430717784064   \n",
      "\n",
      "                                                     user  replyCount  \\\n",
      "0       {'username': 'Fikri7810', 'id': 83600851706450...           3   \n",
      "1       {'username': 'Bullishdotio', 'id': 11232907545...           2   \n",
      "2       {'username': 'LiGHT_MiLDS', 'id': 124480922558...           0   \n",
      "3       {'username': 'shark_bitcoin', 'id': 2355410258...           0   \n",
      "4       {'username': 'BitcoinBF', 'id': 10772658335488...           2   \n",
      "...                                                   ...         ...   \n",
      "447049  {'username': 'ercwl', 'id': 467535591, 'displa...          16   \n",
      "447050  {'username': 'DigitalNomadInv', 'id': 42961116...           0   \n",
      "447051  {'username': 'blknoiz06', 'id': 973261472, 'di...           0   \n",
      "447052  {'username': 'HeliosPlatform', 'id': 996525718...           3   \n",
      "447053  {'username': 'NuggetsNewsAU', 'id': 1011414882...           3   \n",
      "\n",
      "        retweetCount  likeCount  ...  \\\n",
      "0                 36         14  ...   \n",
      "1                  1          7  ...   \n",
      "2                  1         11  ...   \n",
      "3                  7         15  ...   \n",
      "4                  1          9  ...   \n",
      "...              ...        ...  ...   \n",
      "447049            37        262  ...   \n",
      "447050             1          6  ...   \n",
      "447051             1          6  ...   \n",
      "447052            17         32  ...   \n",
      "447053             6         25  ...   \n",
      "\n",
      "                                                    media  retweetedTweet  \\\n",
      "0                                                     NaN             NaN   \n",
      "1                                                     NaN             NaN   \n",
      "2                                                     NaN             NaN   \n",
      "3       [{'previewUrl': 'https://pbs.twimg.com/media/E...             NaN   \n",
      "4                                                     NaN             NaN   \n",
      "...                                                   ...             ...   \n",
      "447049                                                NaN             NaN   \n",
      "447050                                                NaN             NaN   \n",
      "447051                                                NaN             NaN   \n",
      "447052  [{'previewUrl': 'https://pbs.twimg.com/media/D...             NaN   \n",
      "447053  [{'thumbnailUrl': 'https://pbs.twimg.com/ampli...             NaN   \n",
      "\n",
      "                                              quotedTweet inReplyToTweetId  \\\n",
      "0                                                     NaN              NaN   \n",
      "1                                                     NaN              NaN   \n",
      "2                                                     NaN     1.275576e+18   \n",
      "3                                                     NaN              NaN   \n",
      "4       {'url': 'https://twitter.com/jimbocoin/status/...              NaN   \n",
      "...                                                   ...              ...   \n",
      "447049  {'url': 'https://twitter.com/TheEconomist/stat...              NaN   \n",
      "447050                                                NaN     1.142502e+18   \n",
      "447051  {'url': 'https://twitter.com/chad_alt/status/1...              NaN   \n",
      "447052                                                NaN              NaN   \n",
      "447053                                                NaN              NaN   \n",
      "\n",
      "                                            inReplyToUser  \\\n",
      "0                                                     NaN   \n",
      "1                                                     NaN   \n",
      "2       {'username': 'XVGWhaleReal', 'id': 94895863377...   \n",
      "3                                                     NaN   \n",
      "4                                                     NaN   \n",
      "...                                                   ...   \n",
      "447049                                                NaN   \n",
      "447050  {'username': 'AndrewNation13', 'id': 112197180...   \n",
      "447051                                                NaN   \n",
      "447052                                                NaN   \n",
      "447053                                                NaN   \n",
      "\n",
      "                                           mentionedUsers coordinates place  \\\n",
      "0       [{'username': 'Fikri7810', 'id': 8360085170645...         NaN   NaN   \n",
      "1       [{'username': 'chainlink', 'id': 1530530365, '...         NaN   NaN   \n",
      "2       [{'username': 'XVGWhaleReal', 'id': 9489586337...         NaN   NaN   \n",
      "3       [{'username': 'HtmlBunker', 'id': 991029455857...         NaN   NaN   \n",
      "4                                                     NaN         NaN   NaN   \n",
      "...                                                   ...         ...   ...   \n",
      "447049                                                NaN         NaN   NaN   \n",
      "447050  [{'username': 'AndrewNation13', 'id': 11219718...         NaN   NaN   \n",
      "447051                                                NaN         NaN   NaN   \n",
      "447052                                                NaN         NaN   NaN   \n",
      "447053  [{'username': 'AlexSaundersAU', 'id': 62181631...         NaN   NaN   \n",
      "\n",
      "                                                 hashtags  cashtags  \n",
      "0                                                     NaN       NaN  \n",
      "1                                                     NaN  ['link']  \n",
      "2                                                     NaN   ['XVG']  \n",
      "3       ['ASW', 'HTMLCOIN', 'HTMLcoin', 'HTML5', 'Exch...       NaN  \n",
      "4                                             ['bitcoin']       NaN  \n",
      "...                                                   ...       ...  \n",
      "447049                                                NaN       NaN  \n",
      "447050                                                NaN       NaN  \n",
      "447051                                                NaN       NaN  \n",
      "447052  ['crypto', 'airdrop', 'heliosprotocol', 'bitco...       NaN  \n",
      "447053                                        ['Bitcoin']       NaN  \n",
      "\n",
      "[447054 rows x 28 columns],         Unnamed: 0                                                url  \\\n",
      "0                0  https://twitter.com/WishfulTH1NKin/status/1142...   \n",
      "1                1  https://twitter.com/StopAndDecrypt/status/1142...   \n",
      "2                2  https://twitter.com/Lukooie/status/11429446545...   \n",
      "3                3  https://twitter.com/cryptocomicon/status/11429...   \n",
      "4                4  https://twitter.com/WishfulTH1NKin/status/1142...   \n",
      "...            ...                                                ...   \n",
      "348013      348013  https://twitter.com/TheCryptoCandy/status/1010...   \n",
      "348014      348014  https://twitter.com/Daniel30918860/status/1010...   \n",
      "348015      348015  https://twitter.com/nopara73/status/1010675230...   \n",
      "348016      348016  https://twitter.com/PAYERAio/status/1010673939...   \n",
      "348017      348017  https://twitter.com/verasitytech/status/101067...   \n",
      "\n",
      "                             date  \\\n",
      "0       2019-06-23 23:59:08+00:00   \n",
      "1       2019-06-23 23:58:14+00:00   \n",
      "2       2019-06-23 23:56:55+00:00   \n",
      "3       2019-06-23 23:55:42+00:00   \n",
      "4       2019-06-23 23:53:53+00:00   \n",
      "...                           ...   \n",
      "348013  2018-06-24 00:07:18+00:00   \n",
      "348014  2018-06-24 00:07:05+00:00   \n",
      "348015  2018-06-24 00:05:27+00:00   \n",
      "348016  2018-06-24 00:00:19+00:00   \n",
      "348017  2018-06-24 00:00:03+00:00   \n",
      "\n",
      "                                                  content  \\\n",
      "0       Watching #OTC #Bitcoin tickers \\n\\n$BFCH being...   \n",
      "1       Ethereum is \"competition\".\\nLitecoin is \"compe...   \n",
      "2       Definitely on a winner with @ApolloCurrency! #...   \n",
      "3       @roysebag Actually, Bitcoin has demystified ta...   \n",
      "4       @Murray_Trader @PennyStockPower Been snagging ...   \n",
      "...                                                   ...   \n",
      "348013  #Game of #Coins\\n\\nOne of my favorite Memes. 😍...   \n",
      "348014  This really is pretty amazeballs \\nGreat to se...   \n",
      "348015  \"Thank GNU for coming to the show!\" Bitcoin Ca...   \n",
      "348016  🔥🔥Do you know we have a 25% referral-program f...   \n",
      "348017  \"Verasity's team are seasoned professionals wi...   \n",
      "\n",
      "                                          renderedContent  \\\n",
      "0       Watching #OTC #Bitcoin tickers \\n\\n$BFCH being...   \n",
      "1       Ethereum is \"competition\".\\nLitecoin is \"compe...   \n",
      "2       Definitely on a winner with @ApolloCurrency! #...   \n",
      "3       @roysebag Actually, Bitcoin has demystified ta...   \n",
      "4       @Murray_Trader @PennyStockPower Been snagging ...   \n",
      "...                                                   ...   \n",
      "348013  #Game of #Coins\\n\\nOne of my favorite Memes. 😍...   \n",
      "348014  This really is pretty amazeballs \\nGreat to se...   \n",
      "348015  \"Thank GNU for coming to the show!\" Bitcoin Ca...   \n",
      "348016  🔥🔥Do you know we have a 25% referral-program f...   \n",
      "348017  \"Verasity's team are seasoned professionals wi...   \n",
      "\n",
      "                         id  \\\n",
      "0       1142945214874738688   \n",
      "1       1142944988462047238   \n",
      "2       1142944654557507584   \n",
      "3       1142944351372189696   \n",
      "4       1142943894134546433   \n",
      "...                     ...   \n",
      "348013  1010675698875424769   \n",
      "348014  1010675644441612288   \n",
      "348015  1010675230610780160   \n",
      "348016  1010673939201380352   \n",
      "348017  1010673874516705280   \n",
      "\n",
      "                                                     user  replyCount  \\\n",
      "0       {'username': 'WishfulTH1NKin', 'id': 878030218...           2   \n",
      "1       {'username': 'StopAndDecrypt', 'id': 904485444...           6   \n",
      "2       {'username': 'Lukooie', 'id': 773963922, 'disp...           1   \n",
      "3       {'username': 'cryptocomicon', 'id': 9245112101...           1   \n",
      "4       {'username': 'WishfulTH1NKin', 'id': 878030218...           0   \n",
      "...                                                   ...         ...   \n",
      "348013  {'username': 'TheCryptoCandy', 'id': 996085631...           6   \n",
      "348014  {'username': 'Daniel30918860', 'id': 945059404...           0   \n",
      "348015  {'username': 'nopara73', 'id': 2800803747, 'di...           0   \n",
      "348016  {'username': 'PAYERAio', 'id': 982545593515036...           3   \n",
      "348017  {'username': 'verasitytech', 'id': 95328471694...           7   \n",
      "\n",
      "        retweetCount  likeCount  ...  \\\n",
      "0                  3         11  ...   \n",
      "1                  7         80  ...   \n",
      "2                  4         14  ...   \n",
      "3                  1          7  ...   \n",
      "4                  2          6  ...   \n",
      "...              ...        ...  ...   \n",
      "348013            17         44  ...   \n",
      "348014             3         12  ...   \n",
      "348015             2          9  ...   \n",
      "348016            21        112  ...   \n",
      "348017            32         43  ...   \n",
      "\n",
      "                                                    media  retweetedTweet  \\\n",
      "0       [{'previewUrl': 'https://pbs.twimg.com/media/D...             NaN   \n",
      "1                                                     NaN             NaN   \n",
      "2       [{'previewUrl': 'https://pbs.twimg.com/media/D...             NaN   \n",
      "3                                                     NaN             NaN   \n",
      "4                                                     NaN             NaN   \n",
      "...                                                   ...             ...   \n",
      "348013  [{'previewUrl': 'https://pbs.twimg.com/media/D...             NaN   \n",
      "348014                                                NaN             NaN   \n",
      "348015                                                NaN             NaN   \n",
      "348016  [{'previewUrl': 'https://pbs.twimg.com/media/D...             NaN   \n",
      "348017  [{'previewUrl': 'https://pbs.twimg.com/media/D...             NaN   \n",
      "\n",
      "                                              quotedTweet inReplyToTweetId  \\\n",
      "0                                                     NaN              NaN   \n",
      "1       {'url': 'https://twitter.com/jeffreyatucker/st...              NaN   \n",
      "2                                                     NaN              NaN   \n",
      "3                                                     NaN     1.142748e+18   \n",
      "4                                                     NaN     1.142881e+18   \n",
      "...                                                   ...              ...   \n",
      "348013                                                NaN              NaN   \n",
      "348014                                                NaN              NaN   \n",
      "348015                                                NaN              NaN   \n",
      "348016                                                NaN              NaN   \n",
      "348017                                                NaN              NaN   \n",
      "\n",
      "                                            inReplyToUser  \\\n",
      "0                                                     NaN   \n",
      "1                                                     NaN   \n",
      "2                                                     NaN   \n",
      "3       {'username': 'roysebag', 'id': 2788377974, 'di...   \n",
      "4       {'username': 'Murray_Trader', 'id': 126352571,...   \n",
      "...                                                   ...   \n",
      "348013                                                NaN   \n",
      "348014                                                NaN   \n",
      "348015                                                NaN   \n",
      "348016                                                NaN   \n",
      "348017                                                NaN   \n",
      "\n",
      "                                           mentionedUsers coordinates place  \\\n",
      "0                                                     NaN         NaN   NaN   \n",
      "1                                                     NaN         NaN   NaN   \n",
      "2       [{'username': 'ApolloCurrency', 'id': 95091965...         NaN   NaN   \n",
      "3       [{'username': 'roysebag', 'id': 2788377974, 'd...         NaN   NaN   \n",
      "4       [{'username': 'Murray_Trader', 'id': 126352571...         NaN   NaN   \n",
      "...                                                   ...         ...   ...   \n",
      "348013  [{'username': 'GameOfThrones', 'id': 180463340...         NaN   NaN   \n",
      "348014                                                NaN         NaN   NaN   \n",
      "348015  [{'username': 'mikeinspace', 'id': 49321996, '...         NaN   NaN   \n",
      "348016                                                NaN         NaN   NaN   \n",
      "348017                                                NaN         NaN   NaN   \n",
      "\n",
      "                                                 hashtags  \\\n",
      "0                                      ['OTC', 'Bitcoin']   \n",
      "1                                                     NaN   \n",
      "2       ['apl', 'APOLLOCURRENCY', 'coinmarketcap', 'HO...   \n",
      "3                                                     NaN   \n",
      "4                                             ['bitcoin']   \n",
      "...                                                   ...   \n",
      "348013  ['Game', 'Coins', 'Bitcoin', 'BTC', 'Ethereum'...   \n",
      "348014                                                NaN   \n",
      "348015                                                NaN   \n",
      "348016  ['payera', 'shopera', 'cardera', 'bitcoin', 'e...   \n",
      "348017                  ['NextGenVideo', 'Crypto', 'ICO']   \n",
      "\n",
      "                                        cashtags  \n",
      "0       ['BFCH', 'NDYN', 'UNSS', 'TCEL', 'XALL']  \n",
      "1                                            NaN  \n",
      "2                                            NaN  \n",
      "3                                            NaN  \n",
      "4                                       ['UNSS']  \n",
      "...                                          ...  \n",
      "348013                                       NaN  \n",
      "348014                                       NaN  \n",
      "348015                                       NaN  \n",
      "348016                                       NaN  \n",
      "348017                     ['VRA', 'BTC', 'ETH']  \n",
      "\n",
      "[348018 rows x 28 columns],         Unnamed: 0                                                url  \\\n",
      "0                0  https://twitter.com/CryptoSays/status/10106738...   \n",
      "1                1  https://twitter.com/SalihSarikaya/status/10106...   \n",
      "2                2  https://twitter.com/iGYousafzai/status/1010673...   \n",
      "3                3  https://twitter.com/itscharliemar/status/10106...   \n",
      "4                4  https://twitter.com/RussHarben/status/10106729...   \n",
      "...            ...                                                ...   \n",
      "386451      386451  https://twitter.com/technology/status/87841412...   \n",
      "386452      386452  https://twitter.com/ArtByteMe/status/878413276...   \n",
      "386453      386453  https://twitter.com/TheEconomist/status/878412...   \n",
      "386454      386454  https://twitter.com/bitstein/status/8784115527...   \n",
      "386455      386455  https://twitter.com/bitstein/status/8784087970...   \n",
      "\n",
      "                             date  \\\n",
      "0       2018-06-23 23:59:48+00:00   \n",
      "1       2018-06-23 23:58:50+00:00   \n",
      "2       2018-06-23 23:57:55+00:00   \n",
      "3       2018-06-23 23:57:01+00:00   \n",
      "4       2018-06-23 23:56:30+00:00   \n",
      "...                           ...   \n",
      "386451  2017-06-24 00:47:02+00:00   \n",
      "386452  2017-06-24 00:43:39+00:00   \n",
      "386453  2017-06-24 00:41:17+00:00   \n",
      "386454  2017-06-24 00:36:48+00:00   \n",
      "386455  2017-06-24 00:25:51+00:00   \n",
      "\n",
      "                                                  content  \\\n",
      "0       “The amount of fiat that has been printed sinc...   \n",
      "1       Is #Bitcoin Dead 2018? When Will #BTC Recover?...   \n",
      "2       Cryptov8 [CRV8] - The Need of Time - Bringing ...   \n",
      "3       Don't forget Alt coins like $LTC $ETH $NEO $EO...   \n",
      "4       Buying a small amount of bitcoin every day als...   \n",
      "...                                                   ...   \n",
      "386451  Bitcoin startup Blockchain raises $40 million ...   \n",
      "386452  ArtByte digital currency supports #artists aro...   \n",
      "386453  What if the bitcoin bubble bursts? https://t.c...   \n",
      "386454  Currently: One bitcoin could feed me ground be...   \n",
      "386455  \"If you don't eat yer meat, you can't have any...   \n",
      "\n",
      "                                          renderedContent  \\\n",
      "0       “The amount of fiat that has been printed sinc...   \n",
      "1       Is #Bitcoin Dead 2018? When Will #BTC Recover?...   \n",
      "2       Cryptov8 [CRV8] - The Need of Time - Bringing ...   \n",
      "3       Don't forget Alt coins like $LTC $ETH $NEO $EO...   \n",
      "4       Buying a small amount of bitcoin every day als...   \n",
      "...                                                   ...   \n",
      "386451  Bitcoin startup Blockchain raises $40 million ...   \n",
      "386452  ArtByte digital currency supports #artists aro...   \n",
      "386453  What if the bitcoin bubble bursts? econ.st/2t0...   \n",
      "386454  Currently: One bitcoin could feed me ground be...   \n",
      "386455  \"If you don't eat yer meat, you can't have any...   \n",
      "\n",
      "                         id  \\\n",
      "0       1010673811857870849   \n",
      "1       1010673568563146753   \n",
      "2       1010673337176031235   \n",
      "3       1010673111514087424   \n",
      "4       1010672981498974208   \n",
      "...                     ...   \n",
      "386451   878414126699212800   \n",
      "386452   878413276849348612   \n",
      "386453   878412677495783425   \n",
      "386454   878411552793272322   \n",
      "386455   878408797034827777   \n",
      "\n",
      "                                                     user  replyCount  \\\n",
      "0       {'username': 'CryptoSays', 'id': 8795460464305...           1   \n",
      "1       {'username': 'SalihSarikaya', 'id': 84860555, ...          10   \n",
      "2       {'username': 'iGYousafzai', 'id': 2904270408, ...           0   \n",
      "3       {'username': 'itscharliemar', 'id': 4732395115...           0   \n",
      "4       {'username': 'RussHarben', 'id': 590436391, 'd...           1   \n",
      "...                                                   ...         ...   \n",
      "386451  {'username': 'technology', 'id': 21272440, 'di...           0   \n",
      "386452  {'username': 'ArtByteMe', 'id': 3377478437, 'd...           0   \n",
      "386453  {'username': 'TheEconomist', 'id': 5988062, 'd...          18   \n",
      "386454  {'username': 'bitstein', 'id': 820282353436200...           1   \n",
      "386455  {'username': 'bitstein', 'id': 820282353436200...           1   \n",
      "\n",
      "        retweetCount  likeCount  ...  \\\n",
      "0                  5         33  ...   \n",
      "1                 32         73  ...   \n",
      "2                  9         15  ...   \n",
      "3                 11         65  ...   \n",
      "4                  3          8  ...   \n",
      "...              ...        ...  ...   \n",
      "386451            15         18  ...   \n",
      "386452             6         10  ...   \n",
      "386453            98        147  ...   \n",
      "386454             8         23  ...   \n",
      "386455             3         21  ...   \n",
      "\n",
      "                                                    media  retweetedTweet  \\\n",
      "0                                                     NaN             NaN   \n",
      "1                                                     NaN             NaN   \n",
      "2                                                     NaN             NaN   \n",
      "3                                                     NaN             NaN   \n",
      "4                                                     NaN             NaN   \n",
      "...                                                   ...             ...   \n",
      "386451  [{'previewUrl': 'https://pbs.twimg.com/media/D...             NaN   \n",
      "386452  [{'previewUrl': 'https://pbs.twimg.com/media/D...             NaN   \n",
      "386453                                                NaN             NaN   \n",
      "386454                                                NaN             NaN   \n",
      "386455                                                NaN             NaN   \n",
      "\n",
      "                                              quotedTweet inReplyToTweetId  \\\n",
      "0                                                     NaN     1.010672e+18   \n",
      "1                                                     NaN              NaN   \n",
      "2                                                     NaN              NaN   \n",
      "3       {'url': 'https://twitter.com/itscharliemar/sta...              NaN   \n",
      "4                                                     NaN     1.010671e+18   \n",
      "...                                                   ...              ...   \n",
      "386451                                                NaN              NaN   \n",
      "386452                                                NaN              NaN   \n",
      "386453                                                NaN              NaN   \n",
      "386454                                                NaN              NaN   \n",
      "386455                                                NaN              NaN   \n",
      "\n",
      "                                            inReplyToUser mentionedUsers  \\\n",
      "0       {'username': 'CryptoSays', 'id': 8795460464305...            NaN   \n",
      "1                                                     NaN            NaN   \n",
      "2                                                     NaN            NaN   \n",
      "3                                                     NaN            NaN   \n",
      "4       {'username': 'RussHarben', 'id': 590436391, 'd...            NaN   \n",
      "...                                                   ...            ...   \n",
      "386451                                                NaN            NaN   \n",
      "386452                                                NaN            NaN   \n",
      "386453                                                NaN            NaN   \n",
      "386454                                                NaN            NaN   \n",
      "386455                                                NaN            NaN   \n",
      "\n",
      "       coordinates place                                           hashtags  \\\n",
      "0              NaN   NaN                                                NaN   \n",
      "1              NaN   NaN                                 ['Bitcoin', 'BTC']   \n",
      "2              NaN   NaN  ['Banking', 'Steemit', 'crypto', 'bitcoin', 'b...   \n",
      "3              NaN   NaN                                                NaN   \n",
      "4              NaN   NaN                                                NaN   \n",
      "...            ...   ...                                                ...   \n",
      "386451         NaN   NaN                                                NaN   \n",
      "386452         NaN   NaN  ['artists', 'art', 'music', 'dance', 'writer',...   \n",
      "386453         NaN   NaN                                                NaN   \n",
      "386454         NaN   NaN                                                NaN   \n",
      "386455         NaN   NaN                                                NaN   \n",
      "\n",
      "                                                 cashtags  \n",
      "0                                                     NaN  \n",
      "1                                                     NaN  \n",
      "2                                                     NaN  \n",
      "3       ['LTC', 'ETH', 'NEO', 'EOS', 'NPXS', 'SNM', 'T...  \n",
      "4                                                     NaN  \n",
      "...                                                   ...  \n",
      "386451                                                NaN  \n",
      "386452                                                NaN  \n",
      "386453                                                NaN  \n",
      "386454                                                NaN  \n",
      "386455                                                NaN  \n",
      "\n"
     ]
    },
    {
     "name": "stdout",
     "output_type": "stream",
     "text": [
      "[386456 rows x 28 columns]]\n"
     ]
    }
   ],
   "source": [
    "print(df_list)"
   ]
  },
  {
   "cell_type": "markdown",
   "id": "b8b7e517",
   "metadata": {},
   "source": [
    "### 3. Merge data"
   ]
  },
  {
   "cell_type": "code",
   "execution_count": 11,
   "id": "949db0ee",
   "metadata": {},
   "outputs": [],
   "source": [
    "df_btc = pd.concat(df_list)"
   ]
  },
  {
   "cell_type": "code",
   "execution_count": 12,
   "id": "41ab261d",
   "metadata": {},
   "outputs": [],
   "source": [
    "df_btc.reset_index(drop=True, inplace=True)"
   ]
  },
  {
   "cell_type": "code",
   "execution_count": 13,
   "id": "a65115ab",
   "metadata": {},
   "outputs": [
    {
     "name": "stdout",
     "output_type": "stream",
     "text": [
      "         Unnamed: 0  Unnamed: 0.1  \\\n",
      "0                 0           0.0   \n",
      "1                 1           1.0   \n",
      "2                 2           2.0   \n",
      "3                 3           3.0   \n",
      "4                 4           4.0   \n",
      "...             ...           ...   \n",
      "2197134      386451           NaN   \n",
      "2197135      386452           NaN   \n",
      "2197136      386453           NaN   \n",
      "2197137      386454           NaN   \n",
      "2197138      386455           NaN   \n",
      "\n",
      "                                                       url  \\\n",
      "0        https://twitter.com/bitcoinpanda69/status/1407...   \n",
      "1        https://twitter.com/cryptolosophy/status/14078...   \n",
      "2        https://twitter.com/tantonomini/status/1407850...   \n",
      "3        https://twitter.com/Anthony04092882/status/140...   \n",
      "4        https://twitter.com/tantonomini/status/1407850...   \n",
      "...                                                    ...   \n",
      "2197134  https://twitter.com/technology/status/87841412...   \n",
      "2197135  https://twitter.com/ArtByteMe/status/878413276...   \n",
      "2197136  https://twitter.com/TheEconomist/status/878412...   \n",
      "2197137  https://twitter.com/bitstein/status/8784115527...   \n",
      "2197138  https://twitter.com/bitstein/status/8784087970...   \n",
      "\n",
      "                              date  \\\n",
      "0        2021-06-23 23:59:57+00:00   \n",
      "1        2021-06-23 23:59:09+00:00   \n",
      "2        2021-06-23 23:59:08+00:00   \n",
      "3        2021-06-23 23:58:21+00:00   \n",
      "4        2021-06-23 23:57:28+00:00   \n",
      "...                            ...   \n",
      "2197134  2017-06-24 00:47:02+00:00   \n",
      "2197135  2017-06-24 00:43:39+00:00   \n",
      "2197136  2017-06-24 00:41:17+00:00   \n",
      "2197137  2017-06-24 00:36:48+00:00   \n",
      "2197138  2017-06-24 00:25:51+00:00   \n",
      "\n",
      "                                                   content  \\\n",
      "0        fooo isn't underwater\\n\\nfooo's entire net wor...   \n",
      "1        Jejudoge CMC listing is Live! Currently Voted ...   \n",
      "2        When people say “bitcoin is MySpace, something...   \n",
      "3        @CryptoGodJohn #BTC Bullish &amp; @CentricRise...   \n",
      "4        HEX, BTC, ETH annual charts. B and E might be ...   \n",
      "...                                                    ...   \n",
      "2197134  Bitcoin startup Blockchain raises $40 million ...   \n",
      "2197135  ArtByte digital currency supports #artists aro...   \n",
      "2197136  What if the bitcoin bubble bursts? https://t.c...   \n",
      "2197137  Currently: One bitcoin could feed me ground be...   \n",
      "2197138  \"If you don't eat yer meat, you can't have any...   \n",
      "\n",
      "                                           renderedContent  \\\n",
      "0        fooo isn't underwater\\n\\nfooo's entire net wor...   \n",
      "1        Jejudoge CMC listing is Live! Currently Voted ...   \n",
      "2        When people say “bitcoin is MySpace, something...   \n",
      "3        @CryptoGodJohn #BTC Bullish &amp; @CentricRise...   \n",
      "4        HEX, BTC, ETH annual charts. B and E might be ...   \n",
      "...                                                    ...   \n",
      "2197134  Bitcoin startup Blockchain raises $40 million ...   \n",
      "2197135  ArtByte digital currency supports #artists aro...   \n",
      "2197136  What if the bitcoin bubble bursts? econ.st/2t0...   \n",
      "2197137  Currently: One bitcoin could feed me ground be...   \n",
      "2197138  \"If you don't eat yer meat, you can't have any...   \n",
      "\n",
      "                          id  \\\n",
      "0        1407850949410971654   \n",
      "1        1407850746767417345   \n",
      "2        1407850743944646658   \n",
      "3        1407850546795589642   \n",
      "4        1407850323515936769   \n",
      "...                      ...   \n",
      "2197134   878414126699212800   \n",
      "2197135   878413276849348612   \n",
      "2197136   878412677495783425   \n",
      "2197137   878411552793272322   \n",
      "2197138   878408797034827777   \n",
      "\n",
      "                                                      user  replyCount  \\\n",
      "0        {'username': 'bitcoinpanda69', 'id': 104956721...           6   \n",
      "1        {'username': 'cryptolosophy', 'id': 9538981939...           1   \n",
      "2        {'username': 'tantonomini', 'id': 313059177, '...           3   \n",
      "3        {'username': 'Anthony04092882', 'id': 13405433...           1   \n",
      "4        {'username': 'tantonomini', 'id': 313059177, '...           0   \n",
      "...                                                    ...         ...   \n",
      "2197134  {'username': 'technology', 'id': 21272440, 'di...           0   \n",
      "2197135  {'username': 'ArtByteMe', 'id': 3377478437, 'd...           0   \n",
      "2197136  {'username': 'TheEconomist', 'id': 5988062, 'd...          18   \n",
      "2197137  {'username': 'bitstein', 'id': 820282353436200...           1   \n",
      "2197138  {'username': 'bitstein', 'id': 820282353436200...           1   \n",
      "\n",
      "         retweetCount  ...                                              media  \\\n",
      "0                   1  ...                                                NaN   \n",
      "1                  10  ...                                                NaN   \n",
      "2                   6  ...                                                NaN   \n",
      "3                   6  ...  [{'previewUrl': 'https://pbs.twimg.com/media/E...   \n",
      "4                   2  ...  [{'previewUrl': 'https://pbs.twimg.com/media/E...   \n",
      "...               ...  ...                                                ...   \n",
      "2197134            15  ...  [{'previewUrl': 'https://pbs.twimg.com/media/D...   \n",
      "2197135             6  ...  [{'previewUrl': 'https://pbs.twimg.com/media/D...   \n",
      "2197136            98  ...                                                NaN   \n",
      "2197137             8  ...                                                NaN   \n",
      "2197138             3  ...                                                NaN   \n",
      "\n",
      "         retweetedTweet                                        quotedTweet  \\\n",
      "0                   NaN  {'url': 'https://twitter.com/MeiTrades/status/...   \n",
      "1                   NaN                                                NaN   \n",
      "2                   NaN                                                NaN   \n",
      "3                   NaN                                                NaN   \n",
      "4                   NaN                                                NaN   \n",
      "...                 ...                                                ...   \n",
      "2197134             NaN                                                NaN   \n",
      "2197135             NaN                                                NaN   \n",
      "2197136             NaN                                                NaN   \n",
      "2197137             NaN                                                NaN   \n",
      "2197138             NaN                                                NaN   \n",
      "\n",
      "        inReplyToTweetId                                      inReplyToUser  \\\n",
      "0                    NaN                                                NaN   \n",
      "1                    NaN                                                NaN   \n",
      "2                    NaN                                                NaN   \n",
      "3           1.407850e+18  {'username': 'CryptoGodJohn', 'id': 210623431,...   \n",
      "4                    NaN                                                NaN   \n",
      "...                  ...                                                ...   \n",
      "2197134              NaN                                                NaN   \n",
      "2197135              NaN                                                NaN   \n",
      "2197136              NaN                                                NaN   \n",
      "2197137              NaN                                                NaN   \n",
      "2197138              NaN                                                NaN   \n",
      "\n",
      "                                            mentionedUsers coordinates place  \\\n",
      "0                                                      NaN         NaN   NaN   \n",
      "1        [{'username': 'OTC_Bitcoin', 'id': 18873970, '...         NaN   NaN   \n",
      "2                                                      NaN         NaN   NaN   \n",
      "3        [{'username': 'CryptoGodJohn', 'id': 210623431...         NaN   NaN   \n",
      "4                                                      NaN         NaN   NaN   \n",
      "...                                                    ...         ...   ...   \n",
      "2197134                                                NaN         NaN   NaN   \n",
      "2197135                                                NaN         NaN   NaN   \n",
      "2197136                                                NaN         NaN   NaN   \n",
      "2197137                                                NaN         NaN   NaN   \n",
      "2197138                                                NaN         NaN   NaN   \n",
      "\n",
      "                                                  hashtags cashtags  \n",
      "0                                                      NaN      NaN  \n",
      "1                                             ['jejudoge']      NaN  \n",
      "2                                                      NaN      NaN  \n",
      "3        ['BTC', 'CNR', 'CNS', 'binance', 'BinanceSmart...      NaN  \n",
      "4                                                      NaN      NaN  \n",
      "...                                                    ...      ...  \n",
      "2197134                                                NaN      NaN  \n",
      "2197135  ['artists', 'art', 'music', 'dance', 'writer',...      NaN  \n",
      "2197136                                                NaN      NaN  \n",
      "2197137                                                NaN      NaN  \n",
      "2197138                                                NaN      NaN  \n",
      "\n"
     ]
    },
    {
     "name": "stdout",
     "output_type": "stream",
     "text": [
      "[2197139 rows x 29 columns]\n"
     ]
    }
   ],
   "source": [
    "print(df_btc)"
   ]
  },
  {
   "cell_type": "markdown",
   "id": "1c9139fa",
   "metadata": {},
   "source": [
    "### 4. Remove unnecessary columns"
   ]
  },
  {
   "cell_type": "code",
   "execution_count": 14,
   "id": "20c493d7",
   "metadata": {},
   "outputs": [
    {
     "name": "stdout",
     "output_type": "stream",
     "text": [
      "                              date  \\\n",
      "0        2021-06-23 23:59:57+00:00   \n",
      "1        2021-06-23 23:59:09+00:00   \n",
      "2        2021-06-23 23:59:08+00:00   \n",
      "3        2021-06-23 23:58:21+00:00   \n",
      "4        2021-06-23 23:57:28+00:00   \n",
      "...                            ...   \n",
      "2197134  2017-06-24 00:47:02+00:00   \n",
      "2197135  2017-06-24 00:43:39+00:00   \n",
      "2197136  2017-06-24 00:41:17+00:00   \n",
      "2197137  2017-06-24 00:36:48+00:00   \n",
      "2197138  2017-06-24 00:25:51+00:00   \n",
      "\n",
      "                                                   content  retweetCount  \\\n",
      "0        fooo isn't underwater\\n\\nfooo's entire net wor...             1   \n",
      "1        Jejudoge CMC listing is Live! Currently Voted ...            10   \n",
      "2        When people say “bitcoin is MySpace, something...             6   \n",
      "3        @CryptoGodJohn #BTC Bullish &amp; @CentricRise...             6   \n",
      "4        HEX, BTC, ETH annual charts. B and E might be ...             2   \n",
      "...                                                    ...           ...   \n",
      "2197134  Bitcoin startup Blockchain raises $40 million ...            15   \n",
      "2197135  ArtByte digital currency supports #artists aro...             6   \n",
      "2197136  What if the bitcoin bubble bursts? https://t.c...            98   \n",
      "2197137  Currently: One bitcoin could feed me ground be...             8   \n",
      "2197138  \"If you don't eat yer meat, you can't have any...             3   \n",
      "\n",
      "         likeCount  \n",
      "0               43  \n",
      "1               15  \n",
      "2               53  \n",
      "3               17  \n",
      "4               20  \n",
      "...            ...  \n",
      "2197134         18  \n",
      "2197135         10  \n",
      "2197136        147  \n",
      "2197137         23  \n",
      "2197138         21  \n",
      "\n",
      "[2197139 rows x 4 columns]\n"
     ]
    }
   ],
   "source": [
    "#Remove unnecessary columns\n",
    "df_col = df_btc[['date', 'content', 'retweetCount', 'likeCount']]\n",
    "print(df_col)"
   ]
  },
  {
   "cell_type": "code",
   "execution_count": 15,
   "id": "72badff0",
   "metadata": {},
   "outputs": [
    {
     "name": "stdout",
     "output_type": "stream",
     "text": [
      "                              date  \\\n",
      "0        2021-06-23 23:59:57+00:00   \n",
      "1        2021-06-23 23:59:09+00:00   \n",
      "2        2021-06-23 23:59:08+00:00   \n",
      "3        2021-06-23 23:58:21+00:00   \n",
      "4        2021-06-23 23:57:28+00:00   \n",
      "...                            ...   \n",
      "2197134  2017-06-24 00:47:02+00:00   \n",
      "2197135  2017-06-24 00:43:39+00:00   \n",
      "2197136  2017-06-24 00:41:17+00:00   \n",
      "2197137  2017-06-24 00:36:48+00:00   \n",
      "2197138  2017-06-24 00:25:51+00:00   \n",
      "\n",
      "                                                   content  retweetCount  \\\n",
      "0        fooo isn't underwater\\n\\nfooo's entire net wor...             1   \n",
      "1        Jejudoge CMC listing is Live! Currently Voted ...            10   \n",
      "2        When people say “bitcoin is MySpace, something...             6   \n",
      "3        @CryptoGodJohn #BTC Bullish &amp; @CentricRise...             6   \n",
      "4        HEX, BTC, ETH annual charts. B and E might be ...             2   \n",
      "...                                                    ...           ...   \n",
      "2197134  Bitcoin startup Blockchain raises $40 million ...            15   \n",
      "2197135  ArtByte digital currency supports #artists aro...             6   \n",
      "2197136  What if the bitcoin bubble bursts? https://t.c...            98   \n",
      "2197137  Currently: One bitcoin could feed me ground be...             8   \n",
      "2197138  \"If you don't eat yer meat, you can't have any...             3   \n",
      "\n",
      "         likeCount  \n",
      "0               43  \n",
      "1               15  \n",
      "2               53  \n",
      "3               17  \n",
      "4               20  \n",
      "...            ...  \n",
      "2197134         18  \n",
      "2197135         10  \n",
      "2197136        147  \n",
      "2197137         23  \n",
      "2197138         21  \n",
      "\n",
      "[2195405 rows x 4 columns]\n"
     ]
    }
   ],
   "source": [
    "#Filter out the tweets that are below our threshold of relevance\n",
    "df_1 = df_col[(df_col['retweetCount'] > 0) | (df_col['likeCount'] > 4)]\n",
    "print(df_1)\n"
   ]
  },
  {
   "cell_type": "code",
   "execution_count": 16,
   "id": "f99bd5b5",
   "metadata": {},
   "outputs": [
    {
     "name": "stdout",
     "output_type": "stream",
     "text": [
      "                              date  \\\n",
      "0        2021-06-23 23:59:57+00:00   \n",
      "1        2021-06-23 23:59:09+00:00   \n",
      "2        2021-06-23 23:59:08+00:00   \n",
      "3        2021-06-23 23:58:21+00:00   \n",
      "4        2021-06-23 23:57:28+00:00   \n",
      "...                            ...   \n",
      "2197134  2017-06-24 00:47:02+00:00   \n",
      "2197135  2017-06-24 00:43:39+00:00   \n",
      "2197136  2017-06-24 00:41:17+00:00   \n",
      "2197137  2017-06-24 00:36:48+00:00   \n",
      "2197138  2017-06-24 00:25:51+00:00   \n",
      "\n",
      "                                                   content  \n",
      "0        fooo isn't underwater\\n\\nfooo's entire net wor...  \n",
      "1        Jejudoge CMC listing is Live! Currently Voted ...  \n",
      "2        When people say “bitcoin is MySpace, something...  \n",
      "3        @CryptoGodJohn #BTC Bullish &amp; @CentricRise...  \n",
      "4        HEX, BTC, ETH annual charts. B and E might be ...  \n",
      "...                                                    ...  \n",
      "2197134  Bitcoin startup Blockchain raises $40 million ...  \n",
      "2197135  ArtByte digital currency supports #artists aro...  \n",
      "2197136  What if the bitcoin bubble bursts? https://t.c...  \n",
      "2197137  Currently: One bitcoin could feed me ground be...  \n",
      "2197138  \"If you don't eat yer meat, you can't have any...  \n",
      "\n",
      "[2195405 rows x 2 columns]\n"
     ]
    }
   ],
   "source": [
    "#Remove the last 2 columns\n",
    "df_col2 = df_1[['date', 'content']]\n",
    "print(df_col2)\n"
   ]
  },
  {
   "cell_type": "code",
   "execution_count": 17,
   "id": "f1f22b50",
   "metadata": {},
   "outputs": [
    {
     "name": "stdout",
     "output_type": "stream",
     "text": [
      "0          2021-06-23\n",
      "1          2021-06-23\n",
      "2          2021-06-23\n",
      "3          2021-06-23\n",
      "4          2021-06-23\n",
      "              ...    \n",
      "2197134    2017-06-24\n",
      "2197135    2017-06-24\n",
      "2197136    2017-06-24\n",
      "2197137    2017-06-24\n",
      "2197138    2017-06-24\n",
      "Name: date, Length: 2195405, dtype: object\n"
     ]
    }
   ],
   "source": [
    "df_col3 = pd.to_datetime(df_col2['date']).dt.date\n",
    "print(df_col3)\n"
   ]
  },
  {
   "cell_type": "code",
   "execution_count": 18,
   "id": "2cc6b3ed",
   "metadata": {},
   "outputs": [
    {
     "name": "stderr",
     "output_type": "stream",
     "text": [
      "<ipython-input-18-5c8cbc12c59c>:1: SettingWithCopyWarning: \n",
      "A value is trying to be set on a copy of a slice from a DataFrame.\n",
      "Try using .loc[row_indexer,col_indexer] = value instead\n",
      "\n",
      "See the caveats in the documentation: https://pandas.pydata.org/pandas-docs/stable/user_guide/indexing.html#returning-a-view-versus-a-copy\n",
      "  df_col2['Date'] = df_col3\n"
     ]
    },
    {
     "name": "stdout",
     "output_type": "stream",
     "text": [
      "               Date                                            content\n",
      "0        2021-06-23  fooo isn't underwater\\n\\nfooo's entire net wor...\n",
      "1        2021-06-23  Jejudoge CMC listing is Live! Currently Voted ...\n",
      "2        2021-06-23  When people say “bitcoin is MySpace, something...\n",
      "3        2021-06-23  @CryptoGodJohn #BTC Bullish &amp; @CentricRise...\n",
      "4        2021-06-23  HEX, BTC, ETH annual charts. B and E might be ...\n",
      "...             ...                                                ...\n",
      "2197134  2017-06-24  Bitcoin startup Blockchain raises $40 million ...\n",
      "2197135  2017-06-24  ArtByte digital currency supports #artists aro...\n",
      "2197136  2017-06-24  What if the bitcoin bubble bursts? https://t.c...\n",
      "2197137  2017-06-24  Currently: One bitcoin could feed me ground be...\n",
      "2197138  2017-06-24  \"If you don't eat yer meat, you can't have any...\n",
      "\n",
      "[2195405 rows x 2 columns]\n"
     ]
    }
   ],
   "source": [
    "df_col2['Date'] = df_col3\n",
    "\n",
    "df_2 = df_col2[['Date', 'content']]\n",
    "print(df_2)\n"
   ]
  },
  {
   "cell_type": "code",
   "execution_count": 19,
   "id": "c915e701",
   "metadata": {},
   "outputs": [],
   "source": [
    "df_2.reset_index(drop=True, inplace=True)"
   ]
  },
  {
   "cell_type": "code",
   "execution_count": 20,
   "id": "700359fc",
   "metadata": {},
   "outputs": [
    {
     "name": "stdout",
     "output_type": "stream",
     "text": [
      "               Date                                            content\n",
      "0        2021-06-23  fooo isn't underwater\\n\\nfooo's entire net wor...\n",
      "1        2021-06-23  Jejudoge CMC listing is Live! Currently Voted ...\n",
      "2        2021-06-23  When people say “bitcoin is MySpace, something...\n",
      "3        2021-06-23  @CryptoGodJohn #BTC Bullish &amp; @CentricRise...\n",
      "4        2021-06-23  HEX, BTC, ETH annual charts. B and E might be ...\n",
      "...             ...                                                ...\n",
      "2195400  2017-06-24  Bitcoin startup Blockchain raises $40 million ...\n",
      "2195401  2017-06-24  ArtByte digital currency supports #artists aro...\n",
      "2195402  2017-06-24  What if the bitcoin bubble bursts? https://t.c...\n",
      "2195403  2017-06-24  Currently: One bitcoin could feed me ground be...\n",
      "2195404  2017-06-24  \"If you don't eat yer meat, you can't have any...\n",
      "\n",
      "[2195405 rows x 2 columns]\n"
     ]
    }
   ],
   "source": [
    "print(df_2)"
   ]
  },
  {
   "cell_type": "code",
   "execution_count": 21,
   "id": "04f4a993",
   "metadata": {},
   "outputs": [],
   "source": [
    "#df_2.to_csv('BTC_2')"
   ]
  },
  {
   "cell_type": "markdown",
   "id": "9c68226b",
   "metadata": {},
   "source": [
    "### 5. Rename content column"
   ]
  },
  {
   "cell_type": "code",
   "execution_count": 22,
   "id": "8d39eddd",
   "metadata": {},
   "outputs": [],
   "source": [
    "df_2_example = df_2"
   ]
  },
  {
   "cell_type": "code",
   "execution_count": 24,
   "id": "2fd70ee3",
   "metadata": {},
   "outputs": [],
   "source": [
    "df_example = df_2_example"
   ]
  },
  {
   "cell_type": "code",
   "execution_count": 25,
   "id": "624be385",
   "metadata": {},
   "outputs": [
    {
     "name": "stdout",
     "output_type": "stream",
     "text": [
      "               Date                                            content\n",
      "0        2021-06-23  fooo isn't underwater\\n\\nfooo's entire net wor...\n",
      "1        2021-06-23  Jejudoge CMC listing is Live! Currently Voted ...\n",
      "2        2021-06-23  When people say “bitcoin is MySpace, something...\n",
      "3        2021-06-23  @CryptoGodJohn #BTC Bullish &amp; @CentricRise...\n",
      "4        2021-06-23  HEX, BTC, ETH annual charts. B and E might be ...\n",
      "...             ...                                                ...\n",
      "2195400  2017-06-24  Bitcoin startup Blockchain raises $40 million ...\n",
      "2195401  2017-06-24  ArtByte digital currency supports #artists aro...\n",
      "2195402  2017-06-24  What if the bitcoin bubble bursts? https://t.c...\n",
      "2195403  2017-06-24  Currently: One bitcoin could feed me ground be...\n",
      "2195404  2017-06-24  \"If you don't eat yer meat, you can't have any...\n",
      "\n",
      "[2195405 rows x 2 columns]\n"
     ]
    }
   ],
   "source": [
    "print(df_example)"
   ]
  },
  {
   "cell_type": "code",
   "execution_count": 26,
   "id": "989a6aad",
   "metadata": {},
   "outputs": [],
   "source": [
    "df_example = df_example.rename(columns={'content':'content_ex'})"
   ]
  },
  {
   "cell_type": "code",
   "execution_count": 27,
   "id": "7d3ee737",
   "metadata": {},
   "outputs": [
    {
     "name": "stdout",
     "output_type": "stream",
     "text": [
      "               Date                                         content_ex\n",
      "0        2021-06-23  fooo isn't underwater\\n\\nfooo's entire net wor...\n",
      "1        2021-06-23  Jejudoge CMC listing is Live! Currently Voted ...\n",
      "2        2021-06-23  When people say “bitcoin is MySpace, something...\n",
      "3        2021-06-23  @CryptoGodJohn #BTC Bullish &amp; @CentricRise...\n",
      "4        2021-06-23  HEX, BTC, ETH annual charts. B and E might be ...\n",
      "...             ...                                                ...\n",
      "2195400  2017-06-24  Bitcoin startup Blockchain raises $40 million ...\n",
      "2195401  2017-06-24  ArtByte digital currency supports #artists aro...\n",
      "2195402  2017-06-24  What if the bitcoin bubble bursts? https://t.c...\n",
      "2195403  2017-06-24  Currently: One bitcoin could feed me ground be...\n",
      "2195404  2017-06-24  \"If you don't eat yer meat, you can't have any...\n",
      "\n",
      "[2195405 rows x 2 columns]\n"
     ]
    }
   ],
   "source": [
    "print(df_example)"
   ]
  },
  {
   "cell_type": "markdown",
   "id": "04b33420",
   "metadata": {},
   "source": [
    "### 6. Emoji"
   ]
  },
  {
   "cell_type": "code",
   "execution_count": 29,
   "id": "f5902f6c",
   "metadata": {},
   "outputs": [],
   "source": [
    "str_emoji = df_example['content_ex'].to_csv()"
   ]
  },
  {
   "cell_type": "code",
   "execution_count": 30,
   "id": "0a074f3b",
   "metadata": {},
   "outputs": [],
   "source": [
    "str_demoji = emoji.demojize(str_emoji)"
   ]
  },
  {
   "cell_type": "code",
   "execution_count": 31,
   "id": "906479ad",
   "metadata": {},
   "outputs": [
    {
     "name": "stderr",
     "output_type": "stream",
     "text": [
      "IOPub data rate exceeded.\n",
      "The notebook server will temporarily stop sending output\n",
      "to the client in order to avoid crashing it.\n",
      "To change this limit, set the config variable\n",
      "`--NotebookApp.iopub_data_rate_limit`.\n",
      "\n",
      "Current values:\n",
      "NotebookApp.iopub_data_rate_limit=1000000.0 (bytes/sec)\n",
      "NotebookApp.rate_limit_window=3.0 (secs)\n",
      "\n"
     ]
    },
    {
     "name": "stdout",
     "output_type": "stream",
     "text": [
      "\n"
     ]
    }
   ],
   "source": [
    "print(str_demoji)"
   ]
  },
  {
   "cell_type": "code",
   "execution_count": 32,
   "id": "025608f2",
   "metadata": {},
   "outputs": [
    {
     "name": "stdout",
     "output_type": "stream",
     "text": [
      "         Unnamed: 0                                         content_ex\n",
      "0                 0  fooo isn't underwater\\n\\nfooo's entire net wor...\n",
      "1                 1  Jejudoge CMC listing is Live! Currently Voted ...\n",
      "2                 2  When people say “bitcoin is MySpace, something...\n",
      "3                 3  @CryptoGodJohn #BTC Bullish &amp; @CentricRise...\n",
      "4                 4  HEX, BTC, ETH annual charts. B and E might be ...\n",
      "...             ...                                                ...\n",
      "2195400     2195400  Bitcoin startup Blockchain raises $40 million ...\n",
      "2195401     2195401  ArtByte digital currency supports #artists aro...\n",
      "2195402     2195402  What if the bitcoin bubble bursts? https://t.c...\n",
      "2195403     2195403  Currently: One bitcoin could feed me ground be...\n",
      "2195404     2195404  \"If you don't eat yer meat, you can't have any...\n",
      "\n",
      "[2195405 rows x 2 columns]\n"
     ]
    }
   ],
   "source": [
    "df_demoji = pd.read_csv(StringIO(str_demoji))\n",
    "print(df_demoji)"
   ]
  },
  {
   "cell_type": "code",
   "execution_count": 33,
   "id": "5ad452ab",
   "metadata": {},
   "outputs": [
    {
     "name": "stdout",
     "output_type": "stream",
     "text": [
      "               Date                                         content_ex  \\\n",
      "0        2021-06-23  fooo isn't underwater\\n\\nfooo's entire net wor...   \n",
      "1        2021-06-23  Jejudoge CMC listing is Live! Currently Voted ...   \n",
      "2        2021-06-23  When people say “bitcoin is MySpace, something...   \n",
      "3        2021-06-23  @CryptoGodJohn #BTC Bullish &amp; @CentricRise...   \n",
      "4        2021-06-23  HEX, BTC, ETH annual charts. B and E might be ...   \n",
      "...             ...                                                ...   \n",
      "2195400  2017-06-24  Bitcoin startup Blockchain raises $40 million ...   \n",
      "2195401  2017-06-24  ArtByte digital currency supports #artists aro...   \n",
      "2195402  2017-06-24  What if the bitcoin bubble bursts? https://t.c...   \n",
      "2195403  2017-06-24  Currently: One bitcoin could feed me ground be...   \n",
      "2195404  2017-06-24  \"If you don't eat yer meat, you can't have any...   \n",
      "\n",
      "                                            content_demoji  \n",
      "0        fooo isn't underwater\\n\\nfooo's entire net wor...  \n",
      "1        Jejudoge CMC listing is Live! Currently Voted ...  \n",
      "2        When people say “bitcoin is MySpace, something...  \n",
      "3        @CryptoGodJohn #BTC Bullish &amp; @CentricRise...  \n",
      "4        HEX, BTC, ETH annual charts. B and E might be ...  \n",
      "...                                                    ...  \n",
      "2195400  Bitcoin startup Blockchain raises $40 million ...  \n",
      "2195401  ArtByte digital currency supports #artists aro...  \n",
      "2195402  What if the bitcoin bubble bursts? https://t.c...  \n",
      "2195403  Currently: One bitcoin could feed me ground be...  \n",
      "2195404  \"If you don't eat yer meat, you can't have any...  \n",
      "\n",
      "[2195405 rows x 3 columns]\n"
     ]
    }
   ],
   "source": [
    "df_example['content_demoji'] = df_demoji['content_ex']\n",
    "print(df_example)"
   ]
  },
  {
   "cell_type": "code",
   "execution_count": 34,
   "id": "b7a004ea",
   "metadata": {},
   "outputs": [
    {
     "name": "stdout",
     "output_type": "stream",
     "text": [
      "               Date                                         content_ex  \\\n",
      "0        2021-06-23  fooo isn't underwater\\n\\nfooo's entire net wor...   \n",
      "1        2021-06-23  Jejudoge CMC listing is Live! Currently Voted ...   \n",
      "2        2021-06-23  When people say “bitcoin is MySpace, something...   \n",
      "3        2021-06-23  @CryptoGodJohn #BTC Bullish &amp; @CentricRise...   \n",
      "4        2021-06-23  HEX, BTC, ETH annual charts. B and E might be ...   \n",
      "...             ...                                                ...   \n",
      "2195400  2017-06-24  Bitcoin startup Blockchain raises $40 million ...   \n",
      "2195401  2017-06-24  ArtByte digital currency supports #artists aro...   \n",
      "2195402  2017-06-24  What if the bitcoin bubble bursts? https://t.c...   \n",
      "2195403  2017-06-24  Currently: One bitcoin could feed me ground be...   \n",
      "2195404  2017-06-24  \"If you don't eat yer meat, you can't have any...   \n",
      "\n",
      "                                            content_demoji  \n",
      "0        fooo isn't underwater\\n\\nfooo's entire net wor...  \n",
      "1        Jejudoge CMC listing is Live! Currently Voted ...  \n",
      "2        When people say “bitcoin is MySpace, something...  \n",
      "3        @CryptoGodJohn #BTC Bullish &amp; @CentricRise...  \n",
      "4        HEX, BTC, ETH annual charts. B and E might be ...  \n",
      "...                                                    ...  \n",
      "2195400  Bitcoin startup Blockchain raises $40 million ...  \n",
      "2195401  ArtByte digital currency supports #artists aro...  \n",
      "2195402  What if the bitcoin bubble bursts? https://t.c...  \n",
      "2195403  Currently: One bitcoin could feed me ground be...  \n",
      "2195404  \"If you don't eat yer meat, you can't have any...  \n",
      "\n",
      "[2195405 rows x 3 columns]\n"
     ]
    }
   ],
   "source": [
    "df_final = df_example[['Date', 'content_ex', 'content_demoji']]\n",
    "print(df_final)"
   ]
  },
  {
   "cell_type": "markdown",
   "id": "73145646",
   "metadata": {},
   "source": [
    "### Remove URL"
   ]
  },
  {
   "cell_type": "code",
   "execution_count": 35,
   "id": "221eb212",
   "metadata": {},
   "outputs": [],
   "source": [
    "def remove_urls(text):\n",
    "    url_pattern = re.compile(r'https?://\\S+|www\\.\\S+')\n",
    "    return url_pattern.sub(r'', text)\n",
    "\n",
    "df_final[\"content_url\"] = df_final[\"content_demoji\"].apply(lambda text: remove_urls(text))"
   ]
  },
  {
   "cell_type": "code",
   "execution_count": 36,
   "id": "92d592b0",
   "metadata": {},
   "outputs": [
    {
     "name": "stdout",
     "output_type": "stream",
     "text": [
      "This daily close could be one for the ages with funding still negative. $36500 $BTC &amp; $2250 $ETH not out of the question. Fire up, winter isn't coming. :fire::sparkler::chart_increasing: https://t.co/7webUh9voX\n",
      "This daily close could be one for the ages with funding still negative. $36500 $BTC &amp; $2250 $ETH not out of the question. Fire up, winter isn't coming. :fire::sparkler::chart_increasing: \n"
     ]
    }
   ],
   "source": [
    "print(df_final.loc[28,'content_demoji'])\n",
    "\n",
    "print(df_final.loc[28,'content_url'])"
   ]
  },
  {
   "cell_type": "markdown",
   "id": "a84aaf05",
   "metadata": {},
   "source": [
    "### Cleaning"
   ]
  },
  {
   "cell_type": "code",
   "execution_count": 37,
   "id": "93f5f49c",
   "metadata": {},
   "outputs": [],
   "source": [
    "#target cleaning for emoji\n",
    "\n",
    "df_final[\"content_demoji_clean\"] = df_final[\"content_url\"].replace(r\"_\", \" \", regex=True)\n",
    "df_final[\"content_demoji_clean\"] = df_final[\"content_demoji_clean\"].replace(r\":\", \" \", regex=True)"
   ]
  },
  {
   "cell_type": "code",
   "execution_count": 38,
   "id": "85637612",
   "metadata": {},
   "outputs": [
    {
     "name": "stdout",
     "output_type": "stream",
     "text": [
      "This daily close could be one for the ages with funding still negative. $36500 $BTC &amp; $2250 $ETH not out of the question. Fire up, winter isn't coming. :fire::sparkler::chart_increasing: https://t.co/7webUh9voX\n",
      "This daily close could be one for the ages with funding still negative. $36500 $BTC &amp; $2250 $ETH not out of the question. Fire up, winter isn't coming.  fire  sparkler  chart increasing  \n"
     ]
    }
   ],
   "source": [
    "print(df_final.loc[28,'content_demoji'])\n",
    "\n",
    "print(df_final.loc[28,'content_demoji_clean'])"
   ]
  },
  {
   "cell_type": "markdown",
   "id": "a890e0f9",
   "metadata": {},
   "source": [
    "### Replace contractions with the full form"
   ]
  },
  {
   "cell_type": "code",
   "execution_count": 39,
   "id": "e151e954",
   "metadata": {},
   "outputs": [],
   "source": [
    "cList = {\n",
    "  \"ain’t\": \"am not\",\n",
    "  \"aren’t\": \"are not\",\n",
    "  \"can’t\": \"cannot\",\n",
    "  \"can’t’ve\": \"cannot have\",\n",
    "  \"’cause\": \"because\",\n",
    "  \"could’ve\": \"could have\",\n",
    "  \"couldn’t\": \"could not\",\n",
    "  \"couldn’t’ve\": \"could not have\",\n",
    "  \"didn’t\": \"did not\",\n",
    "  \"doesn’t\": \"does not\",\n",
    "  \"don’t\": \"do not\",\n",
    "  \"hadn’t\": \"had not\",\n",
    "  \"hadn’t’ve\": \"had not have\",\n",
    "  \"hasn’t\": \"has not\",\n",
    "  \"haven’t\": \"have not\",\n",
    "  \"he’d\": \"he would\",\n",
    "  \"he’d’ve\": \"he would have\",\n",
    "  \"he’ll\": \"he will\",\n",
    "  \"he’ll’ve\": \"he will have\",\n",
    "  \"he’s\": \"he is\",\n",
    "  \"how’d\": \"how did\",\n",
    "  \"how’d’y\": \"how do you\",\n",
    "  \"how’ll\": \"how will\",\n",
    "  \"how’s\": \"how is\",\n",
    "  \"i’d\": \"i would\",\n",
    "  \"i’d’ve\": \"i would have\",\n",
    "  \"i’ll\": \"i will\",\n",
    "  \"i’ll’ve\": \"i will have\",\n",
    "  \"i’m\": \"i am\",\n",
    "  \"i’ve\": \"i have\",\n",
    "  \"isn’t\": \"is not\",\n",
    "  \"it’d\": \"it had\",\n",
    "  \"it’d’ve\": \"it would have\",\n",
    "  \"it’ll\": \"it will\",\n",
    "  \"it’ll’ve\": \"it will have\",\n",
    "  \"it’s\": \"it is\",\n",
    "  \"let’s\": \"let us\",\n",
    "  \"ma’am\": \"madam\",\n",
    "  \"mayn’t\": \"may not\",\n",
    "  \"might’ve\": \"might have\",\n",
    "  \"mightn’t\": \"might not\",\n",
    "  \"mightn’t’ve\": \"might not have\",\n",
    "  \"must’ve\": \"must have\",\n",
    "  \"mustn’t\": \"must not\",\n",
    "  \"mustn’t’ve\": \"must not have\",\n",
    "  \"needn’t\": \"need not\",\n",
    "  \"needn’t’ve\": \"need not have\",\n",
    "  \"o’clock\": \"of the clock\",\n",
    "  \"oughtn’t\": \"ought not\",\n",
    "  \"oughtn’t’ve\": \"ought not have\",\n",
    "  \"shan’t\": \"shall not\",\n",
    "  \"sha’n’t\": \"shall not\",\n",
    "  \"shan’t’ve\": \"shall not have\",\n",
    "  \"she’d\": \"she would\",\n",
    "  \"she’d’ve\": \"she would have\",\n",
    "  \"she’ll\": \"she will\",\n",
    "  \"she’ll’ve\": \"she will have\",\n",
    "  \"she’s\": \"she is\",\n",
    "  \"should’ve\": \"should have\",\n",
    "  \"shouldn’t\": \"should not\",\n",
    "  \"shouldn’t’ve\": \"should not have\",\n",
    "  \"so’ve\": \"so have\",\n",
    "  \"so’s\": \"so is\",\n",
    "  \"that’d\": \"that would\",\n",
    "  \"that’d’ve\": \"that would have\",\n",
    "  \"that’s\": \"that is\",\n",
    "  \"there’d\": \"there had\",\n",
    "  \"there’d’ve\": \"there would have\",\n",
    "  \"there’s\": \"there is\",\n",
    "  \"they’d\": \"they would\",\n",
    "  \"they’d’ve\": \"they would have\",\n",
    "  \"they’ll\": \"they will\",\n",
    "  \"they’ll’ve\": \"they will have\",\n",
    "  \"they’re\": \"they are\",\n",
    "  \"they’ve\": \"they have\",\n",
    "  \"to’ve\": \"to have\",\n",
    "  \"wasn’t\": \"was not\",\n",
    "  \"we’d\": \"we had\",\n",
    "  \"we’d’ve\": \"we would have\",\n",
    "  \"we’ll\": \"we will\",\n",
    "  \"we’ll’ve\": \"we will have\",\n",
    "  \"we’re\": \"we are\",\n",
    "  \"we’ve\": \"we have\",\n",
    "  \"weren’t\": \"were not\",\n",
    "  \"what’ll\": \"what will\",\n",
    "  \"what’ll've\": \"what will have\",\n",
    "  \"what’re\": \"what are\",\n",
    "  \"what’s\": \"what is\",\n",
    "  \"what’ve\": \"what have\",\n",
    "  \"when’s\": \"when is\",\n",
    "  \"when’ve\": \"when have\",\n",
    "  \"where’d\": \"where did\",\n",
    "  \"where’s\": \"where is\",\n",
    "  \"where’ve\": \"where have\",\n",
    "  \"who’ll\": \"who will\",\n",
    "  \"who’ll've\": \"who will have\",\n",
    "  \"who’s\": \"who is\",\n",
    "  \"who’ve\": \"who have\",\n",
    "  \"why’s\": \"why is\",\n",
    "  \"why’ve\": \"why have\",\n",
    "  \"will’ve\": \"will have\",\n",
    "  \"won’t\": \"will not\",\n",
    "  \"won’t've\": \"will not have\",\n",
    "  \"would’ve\": \"would have\",\n",
    "  \"wouldn’t\": \"would not\",\n",
    "  \"wouldn’t've\": \"would not have\",\n",
    "  \"y’all\": \"you all\",\n",
    "  \"y’alls\": \"you alls\",\n",
    "  \"y’all’d\": \"you all would\",\n",
    "  \"y’all’d’ve\": \"you all would have\",\n",
    "  \"y’all’re\": \"you all are\",\n",
    "  \"y’all’ve\": \"you all have\",\n",
    "  \"you’d\": \"you had\",\n",
    "  \"you’d’ve\": \"you would have\",\n",
    "  \"you’ll\": \"you you will\",\n",
    "  \"you’ll’ve\": \"you you will have\",\n",
    "  \"you’re\": \"you are\",\n",
    "  \"you’ve\": \"you have\",\n",
    "    \"ain't\": \"am not\",\n",
    "  \"aren't\": \"are not\",\n",
    "  \"can't\": \"cannot\",\n",
    "  \"can't've\": \"cannot have\",\n",
    "  \"'cause\": \"because\",\n",
    "  \"could've\": \"could have\",\n",
    "  \"couldn't\": \"could not\",\n",
    "  \"couldn't've\": \"could not have\",\n",
    "  \"didn't\": \"did not\",\n",
    "  \"doesn't\": \"does not\",\n",
    "  \"don't\": \"do not\",\n",
    "  \"hadn't\": \"had not\",\n",
    "  \"hadn't've\": \"had not have\",\n",
    "  \"hasn't\": \"has not\",\n",
    "  \"haven't\": \"have not\",\n",
    "  \"he'd\": \"he would\",\n",
    "  \"he'd've\": \"he would have\",\n",
    "  \"he'll\": \"he will\",\n",
    "  \"he'll've\": \"he will have\",\n",
    "  \"he's\": \"he is\",\n",
    "  \"how'd\": \"how did\",\n",
    "  \"how'd'y\": \"how do you\",\n",
    "  \"how'll\": \"how will\",\n",
    "  \"how's\": \"how is\",\n",
    "  \"i'd\": \"i would\",\n",
    "  \"i'd've\": \"i would have\",\n",
    "  \"i'll\": \"i will\",\n",
    "  \"i'll've\": \"i will have\",\n",
    "  \"i'm\": \"i am\",\n",
    "  \"i've\": \"i have\",\n",
    "  \"isn't\": \"is not\",\n",
    "  \"it'd\": \"it had\",\n",
    "  \"it'd've\": \"it would have\",\n",
    "  \"it'll\": \"it will\",\n",
    "  \"it'll've\": \"it will have\",\n",
    "  \"it's\": \"it is\",\n",
    "  \"let's\": \"let us\",\n",
    "  \"ma'am\": \"madam\",\n",
    "  \"mayn't\": \"may not\",\n",
    "  \"might've\": \"might have\",\n",
    "  \"mightn't\": \"might not\",\n",
    "  \"mightn't've\": \"might not have\",\n",
    "  \"must've\": \"must have\",\n",
    "  \"mustn't\": \"must not\",\n",
    "  \"mustn't've\": \"must not have\",\n",
    "  \"needn't\": \"need not\",\n",
    "  \"needn't've\": \"need not have\",\n",
    "  \"o'clock\": \"of the clock\",\n",
    "  \"oughtn't\": \"ought not\",\n",
    "  \"oughtn't've\": \"ought not have\",\n",
    "  \"shan't\": \"shall not\",\n",
    "  \"sha'n't\": \"shall not\",\n",
    "  \"shan't've\": \"shall not have\",\n",
    "  \"she'd\": \"she would\",\n",
    "  \"she'd've\": \"she would have\",\n",
    "  \"she'll\": \"she will\",\n",
    "  \"she'll've\": \"she will have\",\n",
    "  \"she's\": \"she is\",\n",
    "  \"should've\": \"should have\",\n",
    "  \"shouldn't\": \"should not\",\n",
    "  \"shouldn't've\": \"should not have\",\n",
    "  \"so've\": \"so have\",\n",
    "  \"so's\": \"so is\",\n",
    "  \"that'd\": \"that would\",\n",
    "  \"that'd've\": \"that would have\",\n",
    "  \"that's\": \"that is\",\n",
    "  \"there'd\": \"there had\",\n",
    "  \"there'd've\": \"there would have\",\n",
    "  \"there's\": \"there is\",\n",
    "  \"they'd\": \"they would\",\n",
    "  \"they'd've\": \"they would have\",\n",
    "  \"they'll\": \"they will\",\n",
    "  \"they'll've\": \"they will have\",\n",
    "  \"they're\": \"they are\",\n",
    "  \"they've\": \"they have\",\n",
    "  \"to've\": \"to have\",\n",
    "  \"wasn't\": \"was not\",\n",
    "  \"we'd\": \"we had\",\n",
    "  \"we'd've\": \"we would have\",\n",
    "  \"we'll\": \"we will\",\n",
    "  \"we'll've\": \"we will have\",\n",
    "  \"we're\": \"we are\",\n",
    "  \"we've\": \"we have\",\n",
    "  \"weren't\": \"were not\",\n",
    "  \"what'll\": \"what will\",\n",
    "  \"what'll've\": \"what will have\",\n",
    "  \"what're\": \"what are\",\n",
    "  \"what's\": \"what is\",\n",
    "  \"what've\": \"what have\",\n",
    "  \"when's\": \"when is\",\n",
    "  \"when've\": \"when have\",\n",
    "  \"where'd\": \"where did\",\n",
    "  \"where's\": \"where is\",\n",
    "  \"where've\": \"where have\",\n",
    "  \"who'll\": \"who will\",\n",
    "  \"who'll've\": \"who will have\",\n",
    "  \"who's\": \"who is\",\n",
    "  \"who've\": \"who have\",\n",
    "  \"why's\": \"why is\",\n",
    "  \"why've\": \"why have\",\n",
    "  \"will've\": \"will have\",\n",
    "  \"won't\": \"will not\",\n",
    "  \"won't've\": \"will not have\",\n",
    "  \"would've\": \"would have\",\n",
    "  \"wouldn't\": \"would not\",\n",
    "  \"wouldn't've\": \"would not have\",\n",
    "  \"y'all\": \"you all\",\n",
    "  \"y'alls\": \"you alls\",\n",
    "  \"y'all'd\": \"you all would\",\n",
    "  \"y'all'd've\": \"you all would have\",\n",
    "  \"y'all're\": \"you all are\",\n",
    "  \"y'all've\": \"you all have\",\n",
    "  \"you'd\": \"you had\",\n",
    "  \"you'd've\": \"you would have\",\n",
    "  \"you'll\": \"you you will\",\n",
    "  \"you'll've\": \"you you will have\",\n",
    "  \"you're\": \"you are\",\n",
    "  \"you've\": \"you have\"\n",
    "}\n"
   ]
  },
  {
   "cell_type": "code",
   "execution_count": 40,
   "id": "b59523e9",
   "metadata": {},
   "outputs": [],
   "source": [
    "c_re = re.compile('(%s)' % '|'.join(cList.keys()))\n",
    " \n",
    "def expandContractions(text, c_re=c_re):\n",
    "    def replace(match):\n",
    "        return cList[match.group(0)]\n",
    "    return c_re.sub(replace, text.lower())\n",
    " \n",
    "df_final['content_contr'] = df_final['content_demoji_clean'].apply(lambda text: expandContractions(text))\n",
    " "
   ]
  },
  {
   "cell_type": "code",
   "execution_count": 41,
   "id": "69882906",
   "metadata": {},
   "outputs": [
    {
     "name": "stdout",
     "output_type": "stream",
     "text": [
      "fooo isn't underwater\n",
      "\n",
      "fooo's entire net worth is up 450x from March 2020 still\n",
      "\n",
      "fooo hasn't been underwater in anything for years now\n",
      "\n",
      "trading spot vs btc pair in 2020\n",
      "\n",
      "literally hodling in 2021\n",
      "\n",
      "without leverage this game becomes vomitously easy \n",
      "fooo is not underwater\n",
      "\n",
      "fooo's entire net worth is up 450x from march 2020 still\n",
      "\n",
      "fooo has not been underwater in anything for years now\n",
      "\n",
      "trading spot vs btc pair in 2020\n",
      "\n",
      "literally hodling in 2021\n",
      "\n",
      "without leverage this game becomes vomitously easy \n"
     ]
    }
   ],
   "source": [
    "print(df_final.loc[0,'content_demoji_clean'])\n",
    "\n",
    "print(df_final.loc[0,'content_contr'])"
   ]
  },
  {
   "cell_type": "code",
   "execution_count": 42,
   "id": "29c27ccc",
   "metadata": {},
   "outputs": [
    {
     "name": "stderr",
     "output_type": "stream",
     "text": [
      "<ipython-input-42-3ea86378f6eb>:2: FutureWarning: The default value of regex will change from True to False in a future version.\n",
      "  df_final['content_clean'] = df_final['content_contr'].str.replace(\"[^a-zA-Z#]\", \" \")\n"
     ]
    }
   ],
   "source": [
    "# remove special characters, numbers and punctuations\n",
    "df_final['content_clean'] = df_final['content_contr'].str.replace(\"[^a-zA-Z#]\", \" \")"
   ]
  },
  {
   "cell_type": "code",
   "execution_count": 43,
   "id": "d229a4ce",
   "metadata": {},
   "outputs": [
    {
     "name": "stderr",
     "output_type": "stream",
     "text": [
      "[nltk_data] Downloading package stopwords to\n",
      "[nltk_data]     C:\\Users\\kbyc\\AppData\\Roaming\\nltk_data...\n",
      "[nltk_data]   Package stopwords is already up-to-date!\n",
      "[nltk_data] Downloading package punkt to\n",
      "[nltk_data]     C:\\Users\\kbyc\\AppData\\Roaming\\nltk_data...\n",
      "[nltk_data]   Package punkt is already up-to-date!\n"
     ]
    },
    {
     "data": {
      "text/plain": [
       "True"
      ]
     },
     "execution_count": 43,
     "metadata": {},
     "output_type": "execute_result"
    }
   ],
   "source": [
    "import nltk\n",
    "nltk.download('stopwords')\n",
    "from nltk.corpus import stopwords\n",
    "\n",
    "from nltk.tokenize import word_tokenize\n",
    "\n",
    "import nltk\n",
    "nltk.download('punkt')"
   ]
  },
  {
   "cell_type": "code",
   "execution_count": 44,
   "id": "588fc17f",
   "metadata": {},
   "outputs": [
    {
     "name": "stdout",
     "output_type": "stream",
     "text": [
      "True\n"
     ]
    }
   ],
   "source": [
    "stop_words = set(stopwords.words('english'))\n",
    "print('not' in stop_words)"
   ]
  },
  {
   "cell_type": "code",
   "execution_count": 45,
   "id": "70022b0f",
   "metadata": {},
   "outputs": [],
   "source": [
    "#Removing 'no' and 'not' to handle word negations\n",
    "stop_words.remove('not')\n",
    "stop_words.remove('no')"
   ]
  },
  {
   "cell_type": "code",
   "execution_count": 46,
   "id": "2219b56e",
   "metadata": {},
   "outputs": [
    {
     "name": "stdout",
     "output_type": "stream",
     "text": [
      "False\n"
     ]
    }
   ],
   "source": [
    "print('no' in stop_words)"
   ]
  },
  {
   "cell_type": "code",
   "execution_count": 47,
   "id": "eb2970d2",
   "metadata": {},
   "outputs": [],
   "source": [
    "def preprocess_tweet_text(tweet):\n",
    "\n",
    "    #convert to lowercase\n",
    "    tweet = tweet.lower()\n",
    "    \n",
    "    #remove any urls\n",
    "    #tweet = re.sub(r\"https\\S+|www\\S+|https\\S+\",\"\", tweet, flags=re.MULTILINE)\n",
    "    \n",
    "    #remove punctuations\n",
    "    tweet = tweet.translate(str.maketrans(\" \", \" \", string.punctuation))\n",
    "    \n",
    "    #remove user @ refreneces and '#' from tweet\n",
    "    tweet = re.sub(r'\\@\\w+|\\#', \"\", tweet)\n",
    "    \n",
    "    # remove special characters, numbers and punctuations\n",
    "    tweet = re.sub(r\"[^a-zA-Z]\",\" \",tweet)\n",
    "    \n",
    "    #remove stopwords\n",
    "    tweet_tokens = word_tokenize(tweet)\n",
    "    filtered_words = [word for word in tweet_tokens if word not in stop_words]\n",
    "    \n",
    "    #lemmatizing \n",
    "    lemmatizer = WordNetLemmatizer()\n",
    "    lemma_words = [lemmatizer.lemmatize(w, pos='a') for w in filtered_words]\n",
    "    \n",
    "    return \" \".join(lemma_words)\n",
    "\n"
   ]
  },
  {
   "cell_type": "code",
   "execution_count": 48,
   "id": "413dc20a",
   "metadata": {},
   "outputs": [],
   "source": [
    "df_final[\"content_clean_2\"] = df_final[\"content_clean\"].apply(lambda tweet: preprocess_tweet_text(tweet))"
   ]
  },
  {
   "cell_type": "code",
   "execution_count": 49,
   "id": "c9b27c0b",
   "metadata": {},
   "outputs": [
    {
     "name": "stdout",
     "output_type": "stream",
     "text": [
      "This daily close could be one for the ages with funding still negative. $36500 $BTC &amp; $2250 $ETH not out of the question. Fire up, winter isn't coming. 🔥🎇📈 https://t.co/7webUh9voX\n",
      "daily close could one ages funding still negative btc amp eth not question fire winter not coming fire sparkler chart increasing\n"
     ]
    }
   ],
   "source": [
    "print(df_final.loc[28,'content_ex'])\n",
    "\n",
    "print(df_final.loc[28,'content_clean_2'])"
   ]
  },
  {
   "cell_type": "code",
   "execution_count": 50,
   "id": "1af808af",
   "metadata": {},
   "outputs": [
    {
     "name": "stdout",
     "output_type": "stream",
     "text": [
      "@FinancialTimes Anyone who can have there bitcoin taken from them has not done enough research in how to properly secure it.   Leaving it on exchange is like leaving $s in a bank, it can be confiscated at any time.   Secure your keys and there is nothing that can be done to take them from you.\n",
      "financialtimes anyone bitcoin taken not done enough research properly secure leaving exchange like leaving bank confiscated time secure keys nothing done take\n"
     ]
    }
   ],
   "source": [
    "print(df_final.loc[100,'content_ex'])\n",
    "\n",
    "print(df_final.loc[100,'content_clean_2'])"
   ]
  },
  {
   "cell_type": "code",
   "execution_count": 51,
   "id": "0dd3d209",
   "metadata": {},
   "outputs": [],
   "source": [
    "#df_final.to_csv('BTC_FINAL')"
   ]
  },
  {
   "cell_type": "markdown",
   "id": "e974dc40",
   "metadata": {},
   "source": [
    "### Remove single letters"
   ]
  },
  {
   "cell_type": "code",
   "execution_count": 52,
   "id": "6472a59e",
   "metadata": {},
   "outputs": [
    {
     "name": "stderr",
     "output_type": "stream",
     "text": [
      "<ipython-input-52-ccd6a1d9b9c8>:1: FutureWarning: The default value of regex will change from True to False in a future version.\n",
      "  df_final['content_clean_3'] = df_final['content_clean_2'].str.replace(r'\\b\\w\\b', '').str.replace(r'\\s+', ' ')\n"
     ]
    }
   ],
   "source": [
    "df_final['content_clean_3'] = df_final['content_clean_2'].str.replace(r'\\b\\w\\b', '').str.replace(r'\\s+', ' ')"
   ]
  },
  {
   "cell_type": "markdown",
   "id": "63eb8df7",
   "metadata": {},
   "source": [
    "### Bigrams"
   ]
  },
  {
   "cell_type": "code",
   "execution_count": 53,
   "id": "abf01bff",
   "metadata": {},
   "outputs": [],
   "source": [
    "# Extract only clean text\n",
    "clean_tweets = pd.DataFrame(df_final.content_clean_3)"
   ]
  },
  {
   "cell_type": "code",
   "execution_count": 54,
   "id": "6d7ac210",
   "metadata": {},
   "outputs": [],
   "source": [
    "bigram_measures = nltk.collocations.BigramAssocMeasures()\n",
    "finder = nltk.collocations.BigramCollocationFinder.from_documents([comment.split() for comment in clean_tweets.content_clean_3])\n",
    "# Filter only those that occur at least 50 times\n",
    "finder.apply_freq_filter(50)\n",
    "bigram_scores = finder.score_ngrams(bigram_measures.raw_freq)"
   ]
  },
  {
   "cell_type": "code",
   "execution_count": 55,
   "id": "eabc9979",
   "metadata": {},
   "outputs": [],
   "source": [
    "bigram_freq = pd.DataFrame(bigram_scores)\n",
    "bigram_freq.columns = ['bigram', 'raw_freq']\n",
    "bigram_freq.sort_values(by='raw_freq', axis = 0, ascending = False, inplace = True)"
   ]
  },
  {
   "cell_type": "code",
   "execution_count": 56,
   "id": "552008e0",
   "metadata": {},
   "outputs": [],
   "source": [
    "import warnings\n",
    "warnings.filterwarnings(\"ignore\", category=DeprecationWarning) "
   ]
  },
  {
   "cell_type": "code",
   "execution_count": 57,
   "id": "fe69ed71",
   "metadata": {},
   "outputs": [
    {
     "data": {
      "text/html": [
       "<div>\n",
       "<style scoped>\n",
       "    .dataframe tbody tr th:only-of-type {\n",
       "        vertical-align: middle;\n",
       "    }\n",
       "\n",
       "    .dataframe tbody tr th {\n",
       "        vertical-align: top;\n",
       "    }\n",
       "\n",
       "    .dataframe thead th {\n",
       "        text-align: right;\n",
       "    }\n",
       "</style>\n",
       "<table border=\"1\" class=\"dataframe\">\n",
       "  <thead>\n",
       "    <tr style=\"text-align: right;\">\n",
       "      <th></th>\n",
       "      <th>bigram</th>\n",
       "      <th>raw_freq</th>\n",
       "    </tr>\n",
       "  </thead>\n",
       "  <tbody>\n",
       "    <tr>\n",
       "      <th>0</th>\n",
       "      <td>(btc, eth)</td>\n",
       "      <td>0.002749</td>\n",
       "    </tr>\n",
       "    <tr>\n",
       "      <th>1</th>\n",
       "      <td>(index, pointing)</td>\n",
       "      <td>0.001618</td>\n",
       "    </tr>\n",
       "    <tr>\n",
       "      <th>2</th>\n",
       "      <td>(backhand, index)</td>\n",
       "      <td>0.001586</td>\n",
       "    </tr>\n",
       "    <tr>\n",
       "      <th>3</th>\n",
       "      <td>(bitcoin, btc)</td>\n",
       "      <td>0.001467</td>\n",
       "    </tr>\n",
       "    <tr>\n",
       "      <th>4</th>\n",
       "      <td>(btc, bitcoin)</td>\n",
       "      <td>0.001138</td>\n",
       "    </tr>\n",
       "  </tbody>\n",
       "</table>\n",
       "</div>"
      ],
      "text/plain": [
       "              bigram  raw_freq\n",
       "0         (btc, eth)  0.002749\n",
       "1  (index, pointing)  0.001618\n",
       "2  (backhand, index)  0.001586\n",
       "3     (bitcoin, btc)  0.001467\n",
       "4     (btc, bitcoin)  0.001138"
      ]
     },
     "execution_count": 57,
     "metadata": {},
     "output_type": "execute_result"
    }
   ],
   "source": [
    "bigram_freq.head()"
   ]
  },
  {
   "cell_type": "code",
   "execution_count": 58,
   "id": "a36dd91b",
   "metadata": {},
   "outputs": [
    {
     "name": "stdout",
     "output_type": "stream",
     "text": [
      "                      bigram  raw_freq\n",
      "0                 (btc, eth)  0.002749\n",
      "1          (index, pointing)  0.001618\n",
      "2          (backhand, index)  0.001586\n",
      "3             (bitcoin, btc)  0.001467\n",
      "4             (btc, bitcoin)  0.001138\n",
      "...                      ...       ...\n",
      "65696     (expiration, date)  0.000001\n",
      "65695  (expensive, transact)  0.000001\n",
      "65694          (expect, not)  0.000001\n",
      "65693    (expect, fireworks)  0.000001\n",
      "66688          (zoot, bcash)  0.000001\n",
      "\n",
      "[66689 rows x 2 columns]\n"
     ]
    }
   ],
   "source": [
    "print(bigram_freq)"
   ]
  },
  {
   "cell_type": "code",
   "execution_count": 59,
   "id": "41eca472",
   "metadata": {},
   "outputs": [
    {
     "data": {
      "text/html": [
       "<div>\n",
       "<style scoped>\n",
       "    .dataframe tbody tr th:only-of-type {\n",
       "        vertical-align: middle;\n",
       "    }\n",
       "\n",
       "    .dataframe tbody tr th {\n",
       "        vertical-align: top;\n",
       "    }\n",
       "\n",
       "    .dataframe thead th {\n",
       "        text-align: right;\n",
       "    }\n",
       "</style>\n",
       "<table border=\"1\" class=\"dataframe\">\n",
       "  <thead>\n",
       "    <tr style=\"text-align: right;\">\n",
       "      <th></th>\n",
       "      <th>bigram</th>\n",
       "      <th>raw_freq</th>\n",
       "    </tr>\n",
       "  </thead>\n",
       "  <tbody>\n",
       "    <tr>\n",
       "      <th>80</th>\n",
       "      <td>(buying, bitcoin)</td>\n",
       "      <td>0.000250</td>\n",
       "    </tr>\n",
       "    <tr>\n",
       "      <th>81</th>\n",
       "      <td>(pointing, backhand)</td>\n",
       "      <td>0.000248</td>\n",
       "    </tr>\n",
       "    <tr>\n",
       "      <th>82</th>\n",
       "      <td>(not, even)</td>\n",
       "      <td>0.000247</td>\n",
       "    </tr>\n",
       "    <tr>\n",
       "      <th>83</th>\n",
       "      <td>(not, know)</td>\n",
       "      <td>0.000243</td>\n",
       "    </tr>\n",
       "    <tr>\n",
       "      <th>84</th>\n",
       "      <td>(hundred, points)</td>\n",
       "      <td>0.000238</td>\n",
       "    </tr>\n",
       "    <tr>\n",
       "      <th>85</th>\n",
       "      <td>(bull, run)</td>\n",
       "      <td>0.000232</td>\n",
       "    </tr>\n",
       "    <tr>\n",
       "      <th>86</th>\n",
       "      <td>(unknown, wallet)</td>\n",
       "      <td>0.000230</td>\n",
       "    </tr>\n",
       "    <tr>\n",
       "      <th>87</th>\n",
       "      <td>(bull, market)</td>\n",
       "      <td>0.000230</td>\n",
       "    </tr>\n",
       "    <tr>\n",
       "      <th>88</th>\n",
       "      <td>(bitcoin, litecoin)</td>\n",
       "      <td>0.000228</td>\n",
       "    </tr>\n",
       "    <tr>\n",
       "      <th>89</th>\n",
       "      <td>(store, value)</td>\n",
       "      <td>0.000228</td>\n",
       "    </tr>\n",
       "    <tr>\n",
       "      <th>90</th>\n",
       "      <td>(ethereum, eth)</td>\n",
       "      <td>0.000227</td>\n",
       "    </tr>\n",
       "    <tr>\n",
       "      <th>91</th>\n",
       "      <td>(michael, saylor)</td>\n",
       "      <td>0.000226</td>\n",
       "    </tr>\n",
       "    <tr>\n",
       "      <th>92</th>\n",
       "      <td>(blue, diamond)</td>\n",
       "      <td>0.000226</td>\n",
       "    </tr>\n",
       "    <tr>\n",
       "      <th>93</th>\n",
       "      <td>(not, get)</td>\n",
       "      <td>0.000224</td>\n",
       "    </tr>\n",
       "    <tr>\n",
       "      <th>94</th>\n",
       "      <td>(usd, transferred)</td>\n",
       "      <td>0.000224</td>\n",
       "    </tr>\n",
       "    <tr>\n",
       "      <th>95</th>\n",
       "      <td>(no, one)</td>\n",
       "      <td>0.000222</td>\n",
       "    </tr>\n",
       "    <tr>\n",
       "      <th>96</th>\n",
       "      <td>(coinkit, mon)</td>\n",
       "      <td>0.000221</td>\n",
       "    </tr>\n",
       "    <tr>\n",
       "      <th>97</th>\n",
       "      <td>(short, term)</td>\n",
       "      <td>0.000217</td>\n",
       "    </tr>\n",
       "    <tr>\n",
       "      <th>98</th>\n",
       "      <td>(blockchain, cryptocurrency)</td>\n",
       "      <td>0.000216</td>\n",
       "    </tr>\n",
       "    <tr>\n",
       "      <th>99</th>\n",
       "      <td>(heart, eyes)</td>\n",
       "      <td>0.000215</td>\n",
       "    </tr>\n",
       "    <tr>\n",
       "      <th>100</th>\n",
       "      <td>(first, time)</td>\n",
       "      <td>0.000215</td>\n",
       "    </tr>\n",
       "    <tr>\n",
       "      <th>101</th>\n",
       "      <td>(raising, hands)</td>\n",
       "      <td>0.000215</td>\n",
       "    </tr>\n",
       "    <tr>\n",
       "      <th>102</th>\n",
       "      <td>(would, not)</td>\n",
       "      <td>0.000212</td>\n",
       "    </tr>\n",
       "    <tr>\n",
       "      <th>103</th>\n",
       "      <td>(blockchain, btc)</td>\n",
       "      <td>0.000210</td>\n",
       "    </tr>\n",
       "    <tr>\n",
       "      <th>104</th>\n",
       "      <td>(btc, xrp)</td>\n",
       "      <td>0.000210</td>\n",
       "    </tr>\n",
       "    <tr>\n",
       "      <th>105</th>\n",
       "      <td>(price, bitcoin)</td>\n",
       "      <td>0.000209</td>\n",
       "    </tr>\n",
       "    <tr>\n",
       "      <th>106</th>\n",
       "      <td>(face, heart)</td>\n",
       "      <td>0.000208</td>\n",
       "    </tr>\n",
       "    <tr>\n",
       "      <th>107</th>\n",
       "      <td>(elon, musk)</td>\n",
       "      <td>0.000207</td>\n",
       "    </tr>\n",
       "    <tr>\n",
       "      <th>108</th>\n",
       "      <td>(years, ago)</td>\n",
       "      <td>0.000206</td>\n",
       "    </tr>\n",
       "    <tr>\n",
       "      <th>109</th>\n",
       "      <td>(dollar, banknote)</td>\n",
       "      <td>0.000205</td>\n",
       "    </tr>\n",
       "    <tr>\n",
       "      <th>110</th>\n",
       "      <td>(small, blue)</td>\n",
       "      <td>0.000202</td>\n",
       "    </tr>\n",
       "    <tr>\n",
       "      <th>111</th>\n",
       "      <td>(bear, market)</td>\n",
       "      <td>0.000202</td>\n",
       "    </tr>\n",
       "    <tr>\n",
       "      <th>112</th>\n",
       "      <td>(join, us)</td>\n",
       "      <td>0.000198</td>\n",
       "    </tr>\n",
       "    <tr>\n",
       "      <th>113</th>\n",
       "      <td>(xrp, btc)</td>\n",
       "      <td>0.000198</td>\n",
       "    </tr>\n",
       "    <tr>\n",
       "      <th>114</th>\n",
       "      <td>(ltc, eth)</td>\n",
       "      <td>0.000197</td>\n",
       "    </tr>\n",
       "    <tr>\n",
       "      <th>115</th>\n",
       "      <td>(btc, ethereum)</td>\n",
       "      <td>0.000197</td>\n",
       "    </tr>\n",
       "    <tr>\n",
       "      <th>116</th>\n",
       "      <td>(mon, btc)</td>\n",
       "      <td>0.000196</td>\n",
       "    </tr>\n",
       "    <tr>\n",
       "      <th>117</th>\n",
       "      <td>(buy, btc)</td>\n",
       "      <td>0.000193</td>\n",
       "    </tr>\n",
       "    <tr>\n",
       "      <th>118</th>\n",
       "      <td>(box, check)</td>\n",
       "      <td>0.000190</td>\n",
       "    </tr>\n",
       "    <tr>\n",
       "      <th>119</th>\n",
       "      <td>(check, box)</td>\n",
       "      <td>0.000190</td>\n",
       "    </tr>\n",
       "  </tbody>\n",
       "</table>\n",
       "</div>"
      ],
      "text/plain": [
       "                           bigram  raw_freq\n",
       "80              (buying, bitcoin)  0.000250\n",
       "81           (pointing, backhand)  0.000248\n",
       "82                    (not, even)  0.000247\n",
       "83                    (not, know)  0.000243\n",
       "84              (hundred, points)  0.000238\n",
       "85                    (bull, run)  0.000232\n",
       "86              (unknown, wallet)  0.000230\n",
       "87                 (bull, market)  0.000230\n",
       "88            (bitcoin, litecoin)  0.000228\n",
       "89                 (store, value)  0.000228\n",
       "90                (ethereum, eth)  0.000227\n",
       "91              (michael, saylor)  0.000226\n",
       "92                (blue, diamond)  0.000226\n",
       "93                     (not, get)  0.000224\n",
       "94             (usd, transferred)  0.000224\n",
       "95                      (no, one)  0.000222\n",
       "96                 (coinkit, mon)  0.000221\n",
       "97                  (short, term)  0.000217\n",
       "98   (blockchain, cryptocurrency)  0.000216\n",
       "99                  (heart, eyes)  0.000215\n",
       "100                 (first, time)  0.000215\n",
       "101              (raising, hands)  0.000215\n",
       "102                  (would, not)  0.000212\n",
       "103             (blockchain, btc)  0.000210\n",
       "104                    (btc, xrp)  0.000210\n",
       "105              (price, bitcoin)  0.000209\n",
       "106                 (face, heart)  0.000208\n",
       "107                  (elon, musk)  0.000207\n",
       "108                  (years, ago)  0.000206\n",
       "109            (dollar, banknote)  0.000205\n",
       "110                 (small, blue)  0.000202\n",
       "111                (bear, market)  0.000202\n",
       "112                    (join, us)  0.000198\n",
       "113                    (xrp, btc)  0.000198\n",
       "114                    (ltc, eth)  0.000197\n",
       "115               (btc, ethereum)  0.000197\n",
       "116                    (mon, btc)  0.000196\n",
       "117                    (buy, btc)  0.000193\n",
       "118                  (box, check)  0.000190\n",
       "119                  (check, box)  0.000190"
      ]
     },
     "execution_count": 59,
     "metadata": {},
     "output_type": "execute_result"
    }
   ],
   "source": [
    "bigram_freq[80:120]"
   ]
  },
  {
   "cell_type": "code",
   "execution_count": 60,
   "id": "4300f217",
   "metadata": {},
   "outputs": [],
   "source": [
    "# Can set pmi threshold to whatever makes sense - eyeball through and select threshold where n-grams stop making sense\n",
    "# choose top 500 ngrams in this case ranked by PMI that have noun like structures\n",
    "filtered_bigram = bigram_freq[bigram_freq.apply(lambda bigram: bigram.raw_freq > 0, axis = 1)][:500]"
   ]
  },
  {
   "cell_type": "code",
   "execution_count": 61,
   "id": "c34f5b04",
   "metadata": {},
   "outputs": [
    {
     "data": {
      "text/html": [
       "<div>\n",
       "<style scoped>\n",
       "    .dataframe tbody tr th:only-of-type {\n",
       "        vertical-align: middle;\n",
       "    }\n",
       "\n",
       "    .dataframe tbody tr th {\n",
       "        vertical-align: top;\n",
       "    }\n",
       "\n",
       "    .dataframe thead th {\n",
       "        text-align: right;\n",
       "    }\n",
       "</style>\n",
       "<table border=\"1\" class=\"dataframe\">\n",
       "  <thead>\n",
       "    <tr style=\"text-align: right;\">\n",
       "      <th></th>\n",
       "      <th>bigram</th>\n",
       "      <th>raw_freq</th>\n",
       "    </tr>\n",
       "  </thead>\n",
       "  <tbody>\n",
       "    <tr>\n",
       "      <th>0</th>\n",
       "      <td>(btc, eth)</td>\n",
       "      <td>0.002749</td>\n",
       "    </tr>\n",
       "    <tr>\n",
       "      <th>1</th>\n",
       "      <td>(index, pointing)</td>\n",
       "      <td>0.001618</td>\n",
       "    </tr>\n",
       "    <tr>\n",
       "      <th>2</th>\n",
       "      <td>(backhand, index)</td>\n",
       "      <td>0.001586</td>\n",
       "    </tr>\n",
       "    <tr>\n",
       "      <th>3</th>\n",
       "      <td>(bitcoin, btc)</td>\n",
       "      <td>0.001467</td>\n",
       "    </tr>\n",
       "    <tr>\n",
       "      <th>4</th>\n",
       "      <td>(btc, bitcoin)</td>\n",
       "      <td>0.001138</td>\n",
       "    </tr>\n",
       "    <tr>\n",
       "      <th>5</th>\n",
       "      <td>(rocket, rocket)</td>\n",
       "      <td>0.001098</td>\n",
       "    </tr>\n",
       "    <tr>\n",
       "      <th>6</th>\n",
       "      <td>(bitcoin, ethereum)</td>\n",
       "      <td>0.001094</td>\n",
       "    </tr>\n",
       "    <tr>\n",
       "      <th>7</th>\n",
       "      <td>(check, mark)</td>\n",
       "      <td>0.001045</td>\n",
       "    </tr>\n",
       "    <tr>\n",
       "      <th>8</th>\n",
       "      <td>(police, car)</td>\n",
       "      <td>0.000993</td>\n",
       "    </tr>\n",
       "    <tr>\n",
       "      <th>9</th>\n",
       "      <td>(car, light)</td>\n",
       "      <td>0.000989</td>\n",
       "    </tr>\n",
       "  </tbody>\n",
       "</table>\n",
       "</div>"
      ],
      "text/plain": [
       "                bigram  raw_freq\n",
       "0           (btc, eth)  0.002749\n",
       "1    (index, pointing)  0.001618\n",
       "2    (backhand, index)  0.001586\n",
       "3       (bitcoin, btc)  0.001467\n",
       "4       (btc, bitcoin)  0.001138\n",
       "5     (rocket, rocket)  0.001098\n",
       "6  (bitcoin, ethereum)  0.001094\n",
       "7        (check, mark)  0.001045\n",
       "8        (police, car)  0.000993\n",
       "9         (car, light)  0.000989"
      ]
     },
     "execution_count": 61,
     "metadata": {},
     "output_type": "execute_result"
    }
   ],
   "source": [
    "filtered_bigram.head(10)"
   ]
  },
  {
   "cell_type": "code",
   "execution_count": 62,
   "id": "ad0a255e",
   "metadata": {},
   "outputs": [],
   "source": [
    "bigrams = [' '.join(x) for x in filtered_bigram.bigram.values if len(x[0]) > 2 or len(x[1]) > 2]"
   ]
  },
  {
   "cell_type": "code",
   "execution_count": 63,
   "id": "f3fb4c22",
   "metadata": {},
   "outputs": [
    {
     "data": {
      "text/plain": [
       "['btc eth',\n",
       " 'index pointing',\n",
       " 'backhand index',\n",
       " 'bitcoin btc',\n",
       " 'btc bitcoin',\n",
       " 'rocket rocket',\n",
       " 'bitcoin ethereum',\n",
       " 'check mark',\n",
       " 'police car',\n",
       " 'car light',\n",
       " 'skin tone',\n",
       " 'smiling face',\n",
       " 'money bag',\n",
       " 'mark button',\n",
       " 'bitcoin not',\n",
       " 'tears joy',\n",
       " 'face tears',\n",
       " 'eth btc',\n",
       " 'buy bitcoin',\n",
       " 'let us']"
      ]
     },
     "execution_count": 63,
     "metadata": {},
     "output_type": "execute_result"
    }
   ],
   "source": [
    "# examples of bigrams\n",
    "bigrams[:20]"
   ]
  },
  {
   "cell_type": "code",
   "execution_count": 64,
   "id": "4f411c2f",
   "metadata": {},
   "outputs": [],
   "source": [
    "# Concatenate n-grams\n",
    "def replace_ngram(x):\n",
    "    for gram in bigrams:\n",
    "        x = x.replace(gram, '_'.join(gram.split()))\n",
    "    return x"
   ]
  },
  {
   "cell_type": "code",
   "execution_count": 65,
   "id": "621377b6",
   "metadata": {},
   "outputs": [],
   "source": [
    "tweets_w_ngrams = clean_tweets.copy()"
   ]
  },
  {
   "cell_type": "code",
   "execution_count": 66,
   "id": "35ebd843",
   "metadata": {},
   "outputs": [],
   "source": [
    "tweets_w_ngrams.content_clean_3 = tweets_w_ngrams.content_clean_3.map(lambda x: replace_ngram(x))"
   ]
  },
  {
   "cell_type": "code",
   "execution_count": 67,
   "id": "174d339d",
   "metadata": {},
   "outputs": [],
   "source": [
    "# tokenize reviews \n",
    "tweets_w_ngrams = tweets_w_ngrams.content_clean_3.map(lambda x: [word for word in x.split()])"
   ]
  },
  {
   "cell_type": "code",
   "execution_count": 68,
   "id": "e4598a86",
   "metadata": {},
   "outputs": [
    {
     "data": {
      "text/plain": [
       "0    [fooo, not, underwater, fooo, entire, net, wor...\n",
       "1    [jejudoge, cmc, listing, live, currently, vote...\n",
       "2    [people, say_bitcoin, myspace, something, gon_...\n",
       "3    [cryptogodjohn, btc, bullish, amp, centricrise...\n",
       "4    [hex, btc_eth, annual, charts, might, sign, co...\n",
       "Name: content_clean_3, dtype: object"
      ]
     },
     "execution_count": 68,
     "metadata": {},
     "output_type": "execute_result"
    }
   ],
   "source": [
    "tweets_w_ngrams.head()"
   ]
  },
  {
   "cell_type": "code",
   "execution_count": 69,
   "id": "d62b7f87",
   "metadata": {},
   "outputs": [],
   "source": [
    "for i in range (len(tweets_w_ngrams)):\n",
    "    tweets_w_ngrams[i] = \" \".join(tweets_w_ngrams[i])\n",
    "    \n",
    "df_final['tweets_w_ngrams'] = tweets_w_ngrams"
   ]
  },
  {
   "cell_type": "code",
   "execution_count": 70,
   "id": "2d724698",
   "metadata": {},
   "outputs": [
    {
     "name": "stdout",
     "output_type": "stream",
     "text": [
      "fooo not underwater fooo entire net worth march still fooo not underwater anything years trading spot vs btc pair literally hodling without leverage game becomes vomitously easy\n",
      "fooo not underwater fooo entire net worth march still fooo not underwater anything years trading spot vs_btc_pair literally hodling without leverage game becomes vomitously easy\n"
     ]
    }
   ],
   "source": [
    "print(df_final.loc[0,'content_clean_3'])\n",
    "\n",
    "print(df_final.loc[0,'tweets_w_ngrams'])"
   ]
  },
  {
   "cell_type": "code",
   "execution_count": null,
   "id": "66b17f7a",
   "metadata": {},
   "outputs": [],
   "source": []
  },
  {
   "cell_type": "markdown",
   "id": "0eb412f5",
   "metadata": {},
   "source": [
    "### Tokenization"
   ]
  },
  {
   "cell_type": "code",
   "execution_count": 71,
   "id": "4d92d5aa",
   "metadata": {},
   "outputs": [],
   "source": [
    "tokenized_tweet = df_final['content_clean_3'].apply(lambda x: x.split())"
   ]
  },
  {
   "cell_type": "code",
   "execution_count": 72,
   "id": "9e464d79",
   "metadata": {},
   "outputs": [
    {
     "data": {
      "text/plain": [
       "0    [fooo, not, underwater, fooo, entire, net, wor...\n",
       "1    [jejudoge, cmc, listing, live, currently, vote...\n",
       "2    [people, say, bitcoin, myspace, something, gon...\n",
       "3    [cryptogodjohn, btc, bullish, amp, centricrise...\n",
       "4    [hex, btc, eth, annual, charts, might, sign, c...\n",
       "Name: content_clean_3, dtype: object"
      ]
     },
     "execution_count": 72,
     "metadata": {},
     "output_type": "execute_result"
    }
   ],
   "source": [
    "tokenized_tweet.head()\n"
   ]
  },
  {
   "cell_type": "code",
   "execution_count": 73,
   "id": "186352e8",
   "metadata": {
    "scrolled": true
   },
   "outputs": [
    {
     "data": {
      "text/html": [
       "<div>\n",
       "<style scoped>\n",
       "    .dataframe tbody tr th:only-of-type {\n",
       "        vertical-align: middle;\n",
       "    }\n",
       "\n",
       "    .dataframe tbody tr th {\n",
       "        vertical-align: top;\n",
       "    }\n",
       "\n",
       "    .dataframe thead th {\n",
       "        text-align: right;\n",
       "    }\n",
       "</style>\n",
       "<table border=\"1\" class=\"dataframe\">\n",
       "  <thead>\n",
       "    <tr style=\"text-align: right;\">\n",
       "      <th></th>\n",
       "      <th>Date</th>\n",
       "      <th>content_ex</th>\n",
       "      <th>content_demoji</th>\n",
       "      <th>content_url</th>\n",
       "      <th>content_demoji_clean</th>\n",
       "      <th>content_contr</th>\n",
       "      <th>content_clean</th>\n",
       "      <th>content_clean_2</th>\n",
       "      <th>content_clean_3</th>\n",
       "      <th>tweets_w_ngrams</th>\n",
       "      <th>content_tokenize</th>\n",
       "    </tr>\n",
       "  </thead>\n",
       "  <tbody>\n",
       "    <tr>\n",
       "      <th>0</th>\n",
       "      <td>2021-06-23</td>\n",
       "      <td>fooo isn't underwater\\n\\nfooo's entire net wor...</td>\n",
       "      <td>fooo isn't underwater\\n\\nfooo's entire net wor...</td>\n",
       "      <td>fooo isn't underwater\\n\\nfooo's entire net wor...</td>\n",
       "      <td>fooo isn't underwater\\n\\nfooo's entire net wor...</td>\n",
       "      <td>fooo is not underwater\\n\\nfooo's entire net wo...</td>\n",
       "      <td>fooo is not underwater  fooo s entire net wort...</td>\n",
       "      <td>fooo not underwater fooo entire net worth x ma...</td>\n",
       "      <td>fooo not underwater fooo entire net worth marc...</td>\n",
       "      <td>fooo not underwater fooo entire net worth marc...</td>\n",
       "      <td>fooo not underwater fooo entire net worth marc...</td>\n",
       "    </tr>\n",
       "    <tr>\n",
       "      <th>1</th>\n",
       "      <td>2021-06-23</td>\n",
       "      <td>Jejudoge CMC listing is Live! Currently Voted ...</td>\n",
       "      <td>Jejudoge CMC listing is Live! Currently Voted ...</td>\n",
       "      <td>Jejudoge CMC listing is Live! Currently Voted ...</td>\n",
       "      <td>Jejudoge CMC listing is Live! Currently Voted ...</td>\n",
       "      <td>jejudoge cmc listing is live! currently voted ...</td>\n",
       "      <td>jejudoge cmc listing is live  currently voted ...</td>\n",
       "      <td>jejudoge cmc listing live currently voted comm...</td>\n",
       "      <td>jejudoge cmc listing live currently voted comm...</td>\n",
       "      <td>jejudoge cmc listing live currently voted comm...</td>\n",
       "      <td>jejudoge cmc listing live currently voted comm...</td>\n",
       "    </tr>\n",
       "    <tr>\n",
       "      <th>2</th>\n",
       "      <td>2021-06-23</td>\n",
       "      <td>When people say “bitcoin is MySpace, something...</td>\n",
       "      <td>When people say “bitcoin is MySpace, something...</td>\n",
       "      <td>When people say “bitcoin is MySpace, something...</td>\n",
       "      <td>When people say “bitcoin is MySpace, something...</td>\n",
       "      <td>when people say “bitcoin is myspace, something...</td>\n",
       "      <td>when people say  bitcoin is myspace  something...</td>\n",
       "      <td>people say bitcoin myspace something gon na co...</td>\n",
       "      <td>people say bitcoin myspace something gon na co...</td>\n",
       "      <td>people say_bitcoin myspace something gon_na co...</td>\n",
       "      <td>people say bitcoin myspace something gon na co...</td>\n",
       "    </tr>\n",
       "    <tr>\n",
       "      <th>3</th>\n",
       "      <td>2021-06-23</td>\n",
       "      <td>@CryptoGodJohn #BTC Bullish &amp;amp; @CentricRise...</td>\n",
       "      <td>@CryptoGodJohn #BTC Bullish &amp;amp; @CentricRise...</td>\n",
       "      <td>@CryptoGodJohn #BTC Bullish &amp;amp; @CentricRise...</td>\n",
       "      <td>@CryptoGodJohn #BTC Bullish &amp;amp; @CentricRise...</td>\n",
       "      <td>@cryptogodjohn #btc bullish &amp;amp; @centricrise...</td>\n",
       "      <td>cryptogodjohn #btc bullish  amp   centricrise...</td>\n",
       "      <td>cryptogodjohn btc bullish amp centricrise bull...</td>\n",
       "      <td>cryptogodjohn btc bullish amp centricrise bull...</td>\n",
       "      <td>cryptogodjohn btc bullish amp centricrise bull...</td>\n",
       "      <td>cryptogodjohn btc bullish amp centricrise bull...</td>\n",
       "    </tr>\n",
       "    <tr>\n",
       "      <th>4</th>\n",
       "      <td>2021-06-23</td>\n",
       "      <td>HEX, BTC, ETH annual charts. B and E might be ...</td>\n",
       "      <td>HEX, BTC, ETH annual charts. B and E might be ...</td>\n",
       "      <td>HEX, BTC, ETH annual charts. B and E might be ...</td>\n",
       "      <td>HEX, BTC, ETH annual charts. B and E might be ...</td>\n",
       "      <td>hex, btc, eth annual charts. b and e might be ...</td>\n",
       "      <td>hex  btc  eth annual charts  b and e might be ...</td>\n",
       "      <td>hex btc eth annual charts b e might sign come ...</td>\n",
       "      <td>hex btc eth annual charts might sign come sinc...</td>\n",
       "      <td>hex btc_eth annual charts might sign come sinc...</td>\n",
       "      <td>hex btc eth annual charts might sign come sinc...</td>\n",
       "    </tr>\n",
       "  </tbody>\n",
       "</table>\n",
       "</div>"
      ],
      "text/plain": [
       "         Date                                         content_ex  \\\n",
       "0  2021-06-23  fooo isn't underwater\\n\\nfooo's entire net wor...   \n",
       "1  2021-06-23  Jejudoge CMC listing is Live! Currently Voted ...   \n",
       "2  2021-06-23  When people say “bitcoin is MySpace, something...   \n",
       "3  2021-06-23  @CryptoGodJohn #BTC Bullish &amp; @CentricRise...   \n",
       "4  2021-06-23  HEX, BTC, ETH annual charts. B and E might be ...   \n",
       "\n",
       "                                      content_demoji  \\\n",
       "0  fooo isn't underwater\\n\\nfooo's entire net wor...   \n",
       "1  Jejudoge CMC listing is Live! Currently Voted ...   \n",
       "2  When people say “bitcoin is MySpace, something...   \n",
       "3  @CryptoGodJohn #BTC Bullish &amp; @CentricRise...   \n",
       "4  HEX, BTC, ETH annual charts. B and E might be ...   \n",
       "\n",
       "                                         content_url  \\\n",
       "0  fooo isn't underwater\\n\\nfooo's entire net wor...   \n",
       "1  Jejudoge CMC listing is Live! Currently Voted ...   \n",
       "2  When people say “bitcoin is MySpace, something...   \n",
       "3  @CryptoGodJohn #BTC Bullish &amp; @CentricRise...   \n",
       "4  HEX, BTC, ETH annual charts. B and E might be ...   \n",
       "\n",
       "                                content_demoji_clean  \\\n",
       "0  fooo isn't underwater\\n\\nfooo's entire net wor...   \n",
       "1  Jejudoge CMC listing is Live! Currently Voted ...   \n",
       "2  When people say “bitcoin is MySpace, something...   \n",
       "3  @CryptoGodJohn #BTC Bullish &amp; @CentricRise...   \n",
       "4  HEX, BTC, ETH annual charts. B and E might be ...   \n",
       "\n",
       "                                       content_contr  \\\n",
       "0  fooo is not underwater\\n\\nfooo's entire net wo...   \n",
       "1  jejudoge cmc listing is live! currently voted ...   \n",
       "2  when people say “bitcoin is myspace, something...   \n",
       "3  @cryptogodjohn #btc bullish &amp; @centricrise...   \n",
       "4  hex, btc, eth annual charts. b and e might be ...   \n",
       "\n",
       "                                       content_clean  \\\n",
       "0  fooo is not underwater  fooo s entire net wort...   \n",
       "1  jejudoge cmc listing is live  currently voted ...   \n",
       "2  when people say  bitcoin is myspace  something...   \n",
       "3   cryptogodjohn #btc bullish  amp   centricrise...   \n",
       "4  hex  btc  eth annual charts  b and e might be ...   \n",
       "\n",
       "                                     content_clean_2  \\\n",
       "0  fooo not underwater fooo entire net worth x ma...   \n",
       "1  jejudoge cmc listing live currently voted comm...   \n",
       "2  people say bitcoin myspace something gon na co...   \n",
       "3  cryptogodjohn btc bullish amp centricrise bull...   \n",
       "4  hex btc eth annual charts b e might sign come ...   \n",
       "\n",
       "                                     content_clean_3  \\\n",
       "0  fooo not underwater fooo entire net worth marc...   \n",
       "1  jejudoge cmc listing live currently voted comm...   \n",
       "2  people say bitcoin myspace something gon na co...   \n",
       "3  cryptogodjohn btc bullish amp centricrise bull...   \n",
       "4  hex btc eth annual charts might sign come sinc...   \n",
       "\n",
       "                                     tweets_w_ngrams  \\\n",
       "0  fooo not underwater fooo entire net worth marc...   \n",
       "1  jejudoge cmc listing live currently voted comm...   \n",
       "2  people say_bitcoin myspace something gon_na co...   \n",
       "3  cryptogodjohn btc bullish amp centricrise bull...   \n",
       "4  hex btc_eth annual charts might sign come sinc...   \n",
       "\n",
       "                                    content_tokenize  \n",
       "0  fooo not underwater fooo entire net worth marc...  \n",
       "1  jejudoge cmc listing live currently voted comm...  \n",
       "2  people say bitcoin myspace something gon na co...  \n",
       "3  cryptogodjohn btc bullish amp centricrise bull...  \n",
       "4  hex btc eth annual charts might sign come sinc...  "
      ]
     },
     "execution_count": 73,
     "metadata": {},
     "output_type": "execute_result"
    }
   ],
   "source": [
    "#combine words into single sentence (the code below will provide you with a whole sentance - without a list)\n",
    "for i in range (len(tokenized_tweet)):\n",
    "    tokenized_tweet[i] = \" \".join(tokenized_tweet[i])\n",
    "    \n",
    "df_final['content_tokenize'] = tokenized_tweet\n",
    "df_final.head()\n"
   ]
  },
  {
   "cell_type": "code",
   "execution_count": 74,
   "id": "eb49e1ae",
   "metadata": {},
   "outputs": [
    {
     "name": "stdout",
     "output_type": "stream",
     "text": [
      "Did our taxes with Turbo Tax today and got almost $15 worth of bitcoin in a rebate from @trylolli. Pretty cool. https://t.co/vJ0cYG8Fzq\n",
      "taxes turbo tax today got almost worth bitcoin rebate trylolli pretty cool\n"
     ]
    }
   ],
   "source": [
    "print(df_final.loc[399998,'content_ex'])\n",
    "\n",
    "print(df_final.loc[399998,'content_tokenize'])"
   ]
  },
  {
   "cell_type": "markdown",
   "id": "6aef75fe",
   "metadata": {},
   "source": [
    "### Final dataset for Sentiment Analysis"
   ]
  },
  {
   "cell_type": "code",
   "execution_count": 164,
   "id": "8c9c8c53",
   "metadata": {},
   "outputs": [
    {
     "data": {
      "text/html": [
       "<div>\n",
       "<style scoped>\n",
       "    .dataframe tbody tr th:only-of-type {\n",
       "        vertical-align: middle;\n",
       "    }\n",
       "\n",
       "    .dataframe tbody tr th {\n",
       "        vertical-align: top;\n",
       "    }\n",
       "\n",
       "    .dataframe thead th {\n",
       "        text-align: right;\n",
       "    }\n",
       "</style>\n",
       "<table border=\"1\" class=\"dataframe\">\n",
       "  <thead>\n",
       "    <tr style=\"text-align: right;\">\n",
       "      <th></th>\n",
       "      <th>Date</th>\n",
       "      <th>content_tokenize</th>\n",
       "    </tr>\n",
       "  </thead>\n",
       "  <tbody>\n",
       "    <tr>\n",
       "      <th>0</th>\n",
       "      <td>2021-06-23</td>\n",
       "      <td>fooo not underwater fooo entire net worth marc...</td>\n",
       "    </tr>\n",
       "    <tr>\n",
       "      <th>1</th>\n",
       "      <td>2021-06-23</td>\n",
       "      <td>jejudoge cmc listing live currently voted comm...</td>\n",
       "    </tr>\n",
       "    <tr>\n",
       "      <th>2</th>\n",
       "      <td>2021-06-23</td>\n",
       "      <td>people say bitcoin myspace something gon na co...</td>\n",
       "    </tr>\n",
       "    <tr>\n",
       "      <th>3</th>\n",
       "      <td>2021-06-23</td>\n",
       "      <td>cryptogodjohn btc bullish amp centricrise bull...</td>\n",
       "    </tr>\n",
       "    <tr>\n",
       "      <th>4</th>\n",
       "      <td>2021-06-23</td>\n",
       "      <td>hex btc eth annual charts might sign come sinc...</td>\n",
       "    </tr>\n",
       "    <tr>\n",
       "      <th>5</th>\n",
       "      <td>2021-06-23</td>\n",
       "      <td>fun facts know tell friends based sales millio...</td>\n",
       "    </tr>\n",
       "    <tr>\n",
       "      <th>6</th>\n",
       "      <td>2021-06-23</td>\n",
       "      <td>inflation btc ada latter staking risk free way...</td>\n",
       "    </tr>\n",
       "    <tr>\n",
       "      <th>7</th>\n",
       "      <td>2021-06-23</td>\n",
       "      <td>metx bullish cross day close low bullish rever...</td>\n",
       "    </tr>\n",
       "    <tr>\n",
       "      <th>8</th>\n",
       "      <td>2021-06-23</td>\n",
       "      <td>otc bitcoin first bought jejudoge ethereum jun...</td>\n",
       "    </tr>\n",
       "    <tr>\n",
       "      <th>9</th>\n",
       "      <td>2021-06-23</td>\n",
       "      <td>rip officialmcafee crying face thank keeping u...</td>\n",
       "    </tr>\n",
       "  </tbody>\n",
       "</table>\n",
       "</div>"
      ],
      "text/plain": [
       "         Date                                   content_tokenize\n",
       "0  2021-06-23  fooo not underwater fooo entire net worth marc...\n",
       "1  2021-06-23  jejudoge cmc listing live currently voted comm...\n",
       "2  2021-06-23  people say bitcoin myspace something gon na co...\n",
       "3  2021-06-23  cryptogodjohn btc bullish amp centricrise bull...\n",
       "4  2021-06-23  hex btc eth annual charts might sign come sinc...\n",
       "5  2021-06-23  fun facts know tell friends based sales millio...\n",
       "6  2021-06-23  inflation btc ada latter staking risk free way...\n",
       "7  2021-06-23  metx bullish cross day close low bullish rever...\n",
       "8  2021-06-23  otc bitcoin first bought jejudoge ethereum jun...\n",
       "9  2021-06-23  rip officialmcafee crying face thank keeping u..."
      ]
     },
     "execution_count": 164,
     "metadata": {},
     "output_type": "execute_result"
    }
   ],
   "source": [
    "#Remove unnecessary columns\n",
    "df_3 = df_final[['Date', 'content_tokenize']]\n",
    "df_3.head(10)"
   ]
  },
  {
   "cell_type": "markdown",
   "id": "ad3bc526",
   "metadata": {},
   "source": [
    "### Sentiment Analysis with TEXTBLOB"
   ]
  },
  {
   "cell_type": "code",
   "execution_count": 116,
   "id": "a50e2bb3",
   "metadata": {},
   "outputs": [],
   "source": [
    "#create a function to get subjectivity\n",
    "def getSubjectivity(text):\n",
    "    return TextBlob(text).sentiment.subjectivity\n",
    "\n",
    "#create a function to get the polarity\n",
    "def getPolarity(text):\n",
    "    return TextBlob(text).sentiment.polarity"
   ]
  },
  {
   "cell_type": "code",
   "execution_count": 117,
   "id": "30226f85",
   "metadata": {
    "scrolled": false
   },
   "outputs": [
    {
     "name": "stderr",
     "output_type": "stream",
     "text": [
      "<ipython-input-117-9bd2530ab4bc>:2: SettingWithCopyWarning: \n",
      "A value is trying to be set on a copy of a slice from a DataFrame.\n",
      "Try using .loc[row_indexer,col_indexer] = value instead\n",
      "\n",
      "See the caveats in the documentation: https://pandas.pydata.org/pandas-docs/stable/user_guide/indexing.html#returning-a-view-versus-a-copy\n",
      "  df_3['Subjectivity'] = df_3['content_tokenize'].apply(getSubjectivity)\n"
     ]
    }
   ],
   "source": [
    "#create two new columns \n",
    "df_3['Subjectivity'] = df_3['content_tokenize'].apply(getSubjectivity)"
   ]
  },
  {
   "cell_type": "code",
   "execution_count": 166,
   "id": "5385f7d5",
   "metadata": {
    "scrolled": true
   },
   "outputs": [
    {
     "name": "stderr",
     "output_type": "stream",
     "text": [
      "<ipython-input-166-90ce1f521f09>:1: SettingWithCopyWarning: \n",
      "A value is trying to be set on a copy of a slice from a DataFrame.\n",
      "Try using .loc[row_indexer,col_indexer] = value instead\n",
      "\n",
      "See the caveats in the documentation: https://pandas.pydata.org/pandas-docs/stable/user_guide/indexing.html#returning-a-view-versus-a-copy\n",
      "  df_3['Polarity'] = df_3['content_tokenize'].apply(getPolarity)\n"
     ]
    }
   ],
   "source": [
    "# Create new 'Polarity' column and apply the getPolarity function\n",
    "df_3['Polarity'] = df_3['content_tokenize'].apply(getPolarity)"
   ]
  },
  {
   "cell_type": "code",
   "execution_count": 175,
   "id": "10792f4a",
   "metadata": {
    "scrolled": true
   },
   "outputs": [
    {
     "data": {
      "text/html": [
       "<div>\n",
       "<style scoped>\n",
       "    .dataframe tbody tr th:only-of-type {\n",
       "        vertical-align: middle;\n",
       "    }\n",
       "\n",
       "    .dataframe tbody tr th {\n",
       "        vertical-align: top;\n",
       "    }\n",
       "\n",
       "    .dataframe thead th {\n",
       "        text-align: right;\n",
       "    }\n",
       "</style>\n",
       "<table border=\"1\" class=\"dataframe\">\n",
       "  <thead>\n",
       "    <tr style=\"text-align: right;\">\n",
       "      <th></th>\n",
       "      <th>Date</th>\n",
       "      <th>content_tokenize</th>\n",
       "      <th>Polarity</th>\n",
       "    </tr>\n",
       "  </thead>\n",
       "  <tbody>\n",
       "    <tr>\n",
       "      <th>0</th>\n",
       "      <td>2021-06-23</td>\n",
       "      <td>fooo not underwater fooo entire net worth marc...</td>\n",
       "      <td>0.066667</td>\n",
       "    </tr>\n",
       "    <tr>\n",
       "      <th>1</th>\n",
       "      <td>2021-06-23</td>\n",
       "      <td>jejudoge cmc listing live currently voted comm...</td>\n",
       "      <td>0.068182</td>\n",
       "    </tr>\n",
       "    <tr>\n",
       "      <th>2</th>\n",
       "      <td>2021-06-23</td>\n",
       "      <td>people say bitcoin myspace something gon na co...</td>\n",
       "      <td>0.285714</td>\n",
       "    </tr>\n",
       "    <tr>\n",
       "      <th>3</th>\n",
       "      <td>2021-06-23</td>\n",
       "      <td>cryptogodjohn btc bullish amp centricrise bull...</td>\n",
       "      <td>-0.050000</td>\n",
       "    </tr>\n",
       "    <tr>\n",
       "      <th>4</th>\n",
       "      <td>2021-06-23</td>\n",
       "      <td>hex btc eth annual charts might sign come sinc...</td>\n",
       "      <td>0.222222</td>\n",
       "    </tr>\n",
       "    <tr>\n",
       "      <th>5</th>\n",
       "      <td>2021-06-23</td>\n",
       "      <td>fun facts know tell friends based sales millio...</td>\n",
       "      <td>0.300000</td>\n",
       "    </tr>\n",
       "    <tr>\n",
       "      <th>6</th>\n",
       "      <td>2021-06-23</td>\n",
       "      <td>inflation btc ada latter staking risk free way...</td>\n",
       "      <td>0.150000</td>\n",
       "    </tr>\n",
       "    <tr>\n",
       "      <th>7</th>\n",
       "      <td>2021-06-23</td>\n",
       "      <td>metx bullish cross day close low bullish rever...</td>\n",
       "      <td>0.000000</td>\n",
       "    </tr>\n",
       "    <tr>\n",
       "      <th>8</th>\n",
       "      <td>2021-06-23</td>\n",
       "      <td>otc bitcoin first bought jejudoge ethereum jun...</td>\n",
       "      <td>0.159091</td>\n",
       "    </tr>\n",
       "    <tr>\n",
       "      <th>9</th>\n",
       "      <td>2021-06-23</td>\n",
       "      <td>rip officialmcafee crying face thank keeping u...</td>\n",
       "      <td>0.100000</td>\n",
       "    </tr>\n",
       "  </tbody>\n",
       "</table>\n",
       "</div>"
      ],
      "text/plain": [
       "         Date                                   content_tokenize  Polarity\n",
       "0  2021-06-23  fooo not underwater fooo entire net worth marc...  0.066667\n",
       "1  2021-06-23  jejudoge cmc listing live currently voted comm...  0.068182\n",
       "2  2021-06-23  people say bitcoin myspace something gon na co...  0.285714\n",
       "3  2021-06-23  cryptogodjohn btc bullish amp centricrise bull... -0.050000\n",
       "4  2021-06-23  hex btc eth annual charts might sign come sinc...  0.222222\n",
       "5  2021-06-23  fun facts know tell friends based sales millio...  0.300000\n",
       "6  2021-06-23  inflation btc ada latter staking risk free way...  0.150000\n",
       "7  2021-06-23  metx bullish cross day close low bullish rever...  0.000000\n",
       "8  2021-06-23  otc bitcoin first bought jejudoge ethereum jun...  0.159091\n",
       "9  2021-06-23  rip officialmcafee crying face thank keeping u...  0.100000"
      ]
     },
     "execution_count": 175,
     "metadata": {},
     "output_type": "execute_result"
    }
   ],
   "source": [
    "df_3.head(10)"
   ]
  },
  {
   "cell_type": "code",
   "execution_count": 169,
   "id": "43514d73",
   "metadata": {},
   "outputs": [
    {
     "name": "stdout",
     "output_type": "stream",
     "text": [
      "               Date                                   content_tokenize  \\\n",
      "0        2021-06-23  fooo not underwater fooo entire net worth marc...   \n",
      "1        2021-06-23  jejudoge cmc listing live currently voted comm...   \n",
      "2        2021-06-23  people say bitcoin myspace something gon na co...   \n",
      "3        2021-06-23  cryptogodjohn btc bullish amp centricrise bull...   \n",
      "4        2021-06-23  hex btc eth annual charts might sign come sinc...   \n",
      "...             ...                                                ...   \n",
      "2195400  2017-06-24  bitcoin startup blockchain raises million fres...   \n",
      "2195401  2017-06-24  artbyte digital currency supports artists arou...   \n",
      "2195402  2017-06-24                              bitcoin bubble bursts   \n",
      "2195403  2017-06-24  currently one bitcoin could feed ground beef r...   \n",
      "2195404  2017-06-24  not eat yer meat not bitcoin bitcoin not eat y...   \n",
      "\n",
      "         Polarity  \n",
      "0        0.066667  \n",
      "1        0.068182  \n",
      "2        0.285714  \n",
      "3       -0.050000  \n",
      "4        0.222222  \n",
      "...           ...  \n",
      "2195400  0.300000  \n",
      "2195401  0.000000  \n",
      "2195402  0.000000  \n",
      "2195403 -0.050000  \n",
      "2195404  0.000000  \n",
      "\n",
      "[2195405 rows x 3 columns]\n"
     ]
    }
   ],
   "source": [
    "print(df_3)"
   ]
  },
  {
   "cell_type": "markdown",
   "id": "00c1f8a9",
   "metadata": {},
   "source": [
    "### Group by Date and Sentiment"
   ]
  },
  {
   "cell_type": "code",
   "execution_count": 201,
   "id": "e0de85ac",
   "metadata": {},
   "outputs": [
    {
     "data": {
      "text/html": [
       "<div>\n",
       "<style scoped>\n",
       "    .dataframe tbody tr th:only-of-type {\n",
       "        vertical-align: middle;\n",
       "    }\n",
       "\n",
       "    .dataframe tbody tr th {\n",
       "        vertical-align: top;\n",
       "    }\n",
       "\n",
       "    .dataframe thead th {\n",
       "        text-align: right;\n",
       "    }\n",
       "</style>\n",
       "<table border=\"1\" class=\"dataframe\">\n",
       "  <thead>\n",
       "    <tr style=\"text-align: right;\">\n",
       "      <th></th>\n",
       "      <th>Date</th>\n",
       "      <th>Polarity</th>\n",
       "    </tr>\n",
       "  </thead>\n",
       "  <tbody>\n",
       "    <tr>\n",
       "      <th>0</th>\n",
       "      <td>2017-06-24</td>\n",
       "      <td>0.073669</td>\n",
       "    </tr>\n",
       "    <tr>\n",
       "      <th>1</th>\n",
       "      <td>2017-06-25</td>\n",
       "      <td>0.087462</td>\n",
       "    </tr>\n",
       "    <tr>\n",
       "      <th>2</th>\n",
       "      <td>2017-06-26</td>\n",
       "      <td>0.060505</td>\n",
       "    </tr>\n",
       "    <tr>\n",
       "      <th>3</th>\n",
       "      <td>2017-06-27</td>\n",
       "      <td>0.086527</td>\n",
       "    </tr>\n",
       "    <tr>\n",
       "      <th>4</th>\n",
       "      <td>2017-06-28</td>\n",
       "      <td>0.104599</td>\n",
       "    </tr>\n",
       "  </tbody>\n",
       "</table>\n",
       "</div>"
      ],
      "text/plain": [
       "         Date  Polarity\n",
       "0  2017-06-24  0.073669\n",
       "1  2017-06-25  0.087462\n",
       "2  2017-06-26  0.060505\n",
       "3  2017-06-27  0.086527\n",
       "4  2017-06-28  0.104599"
      ]
     },
     "execution_count": 201,
     "metadata": {},
     "output_type": "execute_result"
    }
   ],
   "source": [
    "df_4 = df_10.groupby(['Date'], as_index = False).mean()\n",
    "df_4.head(5)"
   ]
  },
  {
   "cell_type": "code",
   "execution_count": 205,
   "id": "9d17ec5f",
   "metadata": {},
   "outputs": [],
   "source": [
    "#Create a funstion to compute negative, neutral and positive analysis\n",
    "def getAnalysis(score):\n",
    "    if score < 0:\n",
    "        return 'Negative'\n",
    "    elif score == 0:\n",
    "        return 'Neutral'\n",
    "    else:\n",
    "        return 'Positive'\n",
    "    \n",
    "df_4['Analysis'] = df_4['Polarity'].apply(getAnalysis)"
   ]
  },
  {
   "cell_type": "code",
   "execution_count": 206,
   "id": "b68f0aba",
   "metadata": {},
   "outputs": [
    {
     "data": {
      "text/html": [
       "<div>\n",
       "<style scoped>\n",
       "    .dataframe tbody tr th:only-of-type {\n",
       "        vertical-align: middle;\n",
       "    }\n",
       "\n",
       "    .dataframe tbody tr th {\n",
       "        vertical-align: top;\n",
       "    }\n",
       "\n",
       "    .dataframe thead th {\n",
       "        text-align: right;\n",
       "    }\n",
       "</style>\n",
       "<table border=\"1\" class=\"dataframe\">\n",
       "  <thead>\n",
       "    <tr style=\"text-align: right;\">\n",
       "      <th></th>\n",
       "      <th>Date</th>\n",
       "      <th>Polarity</th>\n",
       "      <th>Analysis</th>\n",
       "    </tr>\n",
       "  </thead>\n",
       "  <tbody>\n",
       "    <tr>\n",
       "      <th>0</th>\n",
       "      <td>2017-06-24</td>\n",
       "      <td>0.073669</td>\n",
       "      <td>Positive</td>\n",
       "    </tr>\n",
       "    <tr>\n",
       "      <th>1</th>\n",
       "      <td>2017-06-25</td>\n",
       "      <td>0.087462</td>\n",
       "      <td>Positive</td>\n",
       "    </tr>\n",
       "    <tr>\n",
       "      <th>2</th>\n",
       "      <td>2017-06-26</td>\n",
       "      <td>0.060505</td>\n",
       "      <td>Positive</td>\n",
       "    </tr>\n",
       "    <tr>\n",
       "      <th>3</th>\n",
       "      <td>2017-06-27</td>\n",
       "      <td>0.086527</td>\n",
       "      <td>Positive</td>\n",
       "    </tr>\n",
       "    <tr>\n",
       "      <th>4</th>\n",
       "      <td>2017-06-28</td>\n",
       "      <td>0.104599</td>\n",
       "      <td>Positive</td>\n",
       "    </tr>\n",
       "  </tbody>\n",
       "</table>\n",
       "</div>"
      ],
      "text/plain": [
       "         Date  Polarity  Analysis\n",
       "0  2017-06-24  0.073669  Positive\n",
       "1  2017-06-25  0.087462  Positive\n",
       "2  2017-06-26  0.060505  Positive\n",
       "3  2017-06-27  0.086527  Positive\n",
       "4  2017-06-28  0.104599  Positive"
      ]
     },
     "execution_count": 206,
     "metadata": {},
     "output_type": "execute_result"
    }
   ],
   "source": [
    "df_4.head(5)"
   ]
  },
  {
   "cell_type": "code",
   "execution_count": 209,
   "id": "2e82d3cb",
   "metadata": {},
   "outputs": [
    {
     "data": {
      "text/html": [
       "<div>\n",
       "<style scoped>\n",
       "    .dataframe tbody tr th:only-of-type {\n",
       "        vertical-align: middle;\n",
       "    }\n",
       "\n",
       "    .dataframe tbody tr th {\n",
       "        vertical-align: top;\n",
       "    }\n",
       "\n",
       "    .dataframe thead th {\n",
       "        text-align: right;\n",
       "    }\n",
       "</style>\n",
       "<table border=\"1\" class=\"dataframe\">\n",
       "  <thead>\n",
       "    <tr style=\"text-align: right;\">\n",
       "      <th></th>\n",
       "      <th>Date</th>\n",
       "      <th>Polarity</th>\n",
       "      <th>Analysis</th>\n",
       "      <th>Price</th>\n",
       "    </tr>\n",
       "  </thead>\n",
       "  <tbody>\n",
       "    <tr>\n",
       "      <th>0</th>\n",
       "      <td>2017-06-24</td>\n",
       "      <td>0.073669</td>\n",
       "      <td>Positive</td>\n",
       "      <td>2618.416736</td>\n",
       "    </tr>\n",
       "    <tr>\n",
       "      <th>1</th>\n",
       "      <td>2017-06-25</td>\n",
       "      <td>0.087462</td>\n",
       "      <td>Positive</td>\n",
       "      <td>2606.863235</td>\n",
       "    </tr>\n",
       "    <tr>\n",
       "      <th>2</th>\n",
       "      <td>2017-06-26</td>\n",
       "      <td>0.060505</td>\n",
       "      <td>Positive</td>\n",
       "      <td>2488.194163</td>\n",
       "    </tr>\n",
       "    <tr>\n",
       "      <th>3</th>\n",
       "      <td>2017-06-27</td>\n",
       "      <td>0.086527</td>\n",
       "      <td>Positive</td>\n",
       "      <td>2531.348999</td>\n",
       "    </tr>\n",
       "    <tr>\n",
       "      <th>4</th>\n",
       "      <td>2017-06-28</td>\n",
       "      <td>0.104599</td>\n",
       "      <td>Positive</td>\n",
       "      <td>2575.437770</td>\n",
       "    </tr>\n",
       "  </tbody>\n",
       "</table>\n",
       "</div>"
      ],
      "text/plain": [
       "         Date  Polarity  Analysis        Price\n",
       "0  2017-06-24  0.073669  Positive  2618.416736\n",
       "1  2017-06-25  0.087462  Positive  2606.863235\n",
       "2  2017-06-26  0.060505  Positive  2488.194163\n",
       "3  2017-06-27  0.086527  Positive  2531.348999\n",
       "4  2017-06-28  0.104599  Positive  2575.437770"
      ]
     },
     "execution_count": 209,
     "metadata": {},
     "output_type": "execute_result"
    }
   ],
   "source": [
    "btc = pd.merge(df_4, btc_price, how='outer', on='Date')\n",
    "btc.head(5)"
   ]
  },
  {
   "cell_type": "code",
   "execution_count": 229,
   "id": "e09821f3",
   "metadata": {},
   "outputs": [
    {
     "data": {
      "text/plain": [
       "<AxesSubplot:xlabel='Date'>"
      ]
     },
     "execution_count": 229,
     "metadata": {},
     "output_type": "execute_result"
    },
    {
     "data": {
      "image/png": "[encoded data removed]",
      "text/plain": [
       "<Figure size 432x288 with 1 Axes>"
      ]
     },
     "metadata": {
      "needs_background": "light"
     },
     "output_type": "display_data"
    }
   ],
   "source": [
    "btc.plot(x='Date', y='Polarity')"
   ]
  },
  {
   "cell_type": "code",
   "execution_count": 230,
   "id": "27ad39fb",
   "metadata": {},
   "outputs": [
    {
     "data": {
      "text/plain": [
       "<AxesSubplot:xlabel='Date'>"
      ]
     },
     "execution_count": 230,
     "metadata": {},
     "output_type": "execute_result"
    },
    {
     "data": {
      "image/png": "[encoded data removed]",
      "text/plain": [
       "<Figure size 432x288 with 1 Axes>"
      ]
     },
     "metadata": {
      "needs_background": "light"
     },
     "output_type": "display_data"
    }
   ],
   "source": [
    "btc.plot(x='Date', y='Price')"
   ]
  },
  {
   "cell_type": "markdown",
   "id": "04d07745",
   "metadata": {},
   "source": [
    "### Correlation"
   ]
  },
  {
   "cell_type": "code",
   "execution_count": 228,
   "id": "994b456d",
   "metadata": {},
   "outputs": [
    {
     "name": "stdout",
     "output_type": "stream",
     "text": [
      "          Polarity     Price\n",
      "Polarity  1.000000  0.015837\n",
      "Price     0.015837  1.000000\n"
     ]
    }
   ],
   "source": [
    "data = btc[['Polarity', 'Price']]\n",
    "correlation = data.corr(method='pearson')\n",
    "print(correlation)"
   ]
  },
  {
   "cell_type": "code",
   "execution_count": 128,
   "id": "94040fa7",
   "metadata": {},
   "outputs": [
    {
     "name": "stdout",
     "output_type": "stream",
     "text": [
      "Positive    1461\n",
      "Name: Analysis, dtype: int64\n"
     ]
    }
   ],
   "source": [
    "items_count = df_4['Analysis'].value_counts()\n",
    "print(items_count)"
   ]
  },
  {
   "cell_type": "code",
   "execution_count": 129,
   "id": "2b6659da",
   "metadata": {},
   "outputs": [
    {
     "data": {
      "image/png": "[encoded data removed]",
      "text/plain": [
       "<Figure size 432x288 with 1 Axes>"
      ]
     },
     "metadata": {
      "needs_background": "light"
     },
     "output_type": "display_data"
    }
   ],
   "source": [
    "values = [1461, 0, 0]\n",
    "names = ['Positive', 'Neutral', 'Negative']\n",
    "\n",
    "plt.bar(names, values)\n",
    "plt.show()"
   ]
  },
  {
   "cell_type": "code",
   "execution_count": 179,
   "id": "3f50af5a",
   "metadata": {},
   "outputs": [
    {
     "name": "stderr",
     "output_type": "stream",
     "text": [
      "<ipython-input-179-6b2b9b111d98>:10: SettingWithCopyWarning: \n",
      "A value is trying to be set on a copy of a slice from a DataFrame.\n",
      "Try using .loc[row_indexer,col_indexer] = value instead\n",
      "\n",
      "See the caveats in the documentation: https://pandas.pydata.org/pandas-docs/stable/user_guide/indexing.html#returning-a-view-versus-a-copy\n",
      "  df_3['Analysis'] = df_3['Polarity'].apply(getAnalysis)\n"
     ]
    },
    {
     "data": {
      "text/html": [
       "<div>\n",
       "<style scoped>\n",
       "    .dataframe tbody tr th:only-of-type {\n",
       "        vertical-align: middle;\n",
       "    }\n",
       "\n",
       "    .dataframe tbody tr th {\n",
       "        vertical-align: top;\n",
       "    }\n",
       "\n",
       "    .dataframe thead th {\n",
       "        text-align: right;\n",
       "    }\n",
       "</style>\n",
       "<table border=\"1\" class=\"dataframe\">\n",
       "  <thead>\n",
       "    <tr style=\"text-align: right;\">\n",
       "      <th></th>\n",
       "      <th>Date</th>\n",
       "      <th>content_tokenize</th>\n",
       "      <th>Polarity</th>\n",
       "      <th>Analysis</th>\n",
       "    </tr>\n",
       "  </thead>\n",
       "  <tbody>\n",
       "    <tr>\n",
       "      <th>0</th>\n",
       "      <td>2021-06-23</td>\n",
       "      <td>fooo not underwater fooo entire net worth marc...</td>\n",
       "      <td>0.066667</td>\n",
       "      <td>Positive</td>\n",
       "    </tr>\n",
       "    <tr>\n",
       "      <th>1</th>\n",
       "      <td>2021-06-23</td>\n",
       "      <td>jejudoge cmc listing live currently voted comm...</td>\n",
       "      <td>0.068182</td>\n",
       "      <td>Positive</td>\n",
       "    </tr>\n",
       "    <tr>\n",
       "      <th>2</th>\n",
       "      <td>2021-06-23</td>\n",
       "      <td>people say bitcoin myspace something gon na co...</td>\n",
       "      <td>0.285714</td>\n",
       "      <td>Positive</td>\n",
       "    </tr>\n",
       "    <tr>\n",
       "      <th>3</th>\n",
       "      <td>2021-06-23</td>\n",
       "      <td>cryptogodjohn btc bullish amp centricrise bull...</td>\n",
       "      <td>-0.050000</td>\n",
       "      <td>Negative</td>\n",
       "    </tr>\n",
       "    <tr>\n",
       "      <th>4</th>\n",
       "      <td>2021-06-23</td>\n",
       "      <td>hex btc eth annual charts might sign come sinc...</td>\n",
       "      <td>0.222222</td>\n",
       "      <td>Positive</td>\n",
       "    </tr>\n",
       "    <tr>\n",
       "      <th>5</th>\n",
       "      <td>2021-06-23</td>\n",
       "      <td>fun facts know tell friends based sales millio...</td>\n",
       "      <td>0.300000</td>\n",
       "      <td>Positive</td>\n",
       "    </tr>\n",
       "    <tr>\n",
       "      <th>6</th>\n",
       "      <td>2021-06-23</td>\n",
       "      <td>inflation btc ada latter staking risk free way...</td>\n",
       "      <td>0.150000</td>\n",
       "      <td>Positive</td>\n",
       "    </tr>\n",
       "    <tr>\n",
       "      <th>7</th>\n",
       "      <td>2021-06-23</td>\n",
       "      <td>metx bullish cross day close low bullish rever...</td>\n",
       "      <td>0.000000</td>\n",
       "      <td>Neutral</td>\n",
       "    </tr>\n",
       "    <tr>\n",
       "      <th>8</th>\n",
       "      <td>2021-06-23</td>\n",
       "      <td>otc bitcoin first bought jejudoge ethereum jun...</td>\n",
       "      <td>0.159091</td>\n",
       "      <td>Positive</td>\n",
       "    </tr>\n",
       "    <tr>\n",
       "      <th>9</th>\n",
       "      <td>2021-06-23</td>\n",
       "      <td>rip officialmcafee crying face thank keeping u...</td>\n",
       "      <td>0.100000</td>\n",
       "      <td>Positive</td>\n",
       "    </tr>\n",
       "  </tbody>\n",
       "</table>\n",
       "</div>"
      ],
      "text/plain": [
       "         Date                                   content_tokenize  Polarity  \\\n",
       "0  2021-06-23  fooo not underwater fooo entire net worth marc...  0.066667   \n",
       "1  2021-06-23  jejudoge cmc listing live currently voted comm...  0.068182   \n",
       "2  2021-06-23  people say bitcoin myspace something gon na co...  0.285714   \n",
       "3  2021-06-23  cryptogodjohn btc bullish amp centricrise bull... -0.050000   \n",
       "4  2021-06-23  hex btc eth annual charts might sign come sinc...  0.222222   \n",
       "5  2021-06-23  fun facts know tell friends based sales millio...  0.300000   \n",
       "6  2021-06-23  inflation btc ada latter staking risk free way...  0.150000   \n",
       "7  2021-06-23  metx bullish cross day close low bullish rever...  0.000000   \n",
       "8  2021-06-23  otc bitcoin first bought jejudoge ethereum jun...  0.159091   \n",
       "9  2021-06-23  rip officialmcafee crying face thank keeping u...  0.100000   \n",
       "\n",
       "   Analysis  \n",
       "0  Positive  \n",
       "1  Positive  \n",
       "2  Positive  \n",
       "3  Negative  \n",
       "4  Positive  \n",
       "5  Positive  \n",
       "6  Positive  \n",
       "7   Neutral  \n",
       "8  Positive  \n",
       "9  Positive  "
      ]
     },
     "execution_count": 179,
     "metadata": {},
     "output_type": "execute_result"
    }
   ],
   "source": [
    "#Create a function to compute negative, neutral and positive analysis\n",
    "def getAnalysis(score):\n",
    "    if score < 0:\n",
    "        return 'Negative'\n",
    "    elif score == 0:\n",
    "        return 'Neutral'\n",
    "    else:\n",
    "        return 'Positive'\n",
    "\n",
    "df_3['Analysis'] = df_3['Polarity'].apply(getAnalysis)\n",
    "df_3.head(10)"
   ]
  },
  {
   "cell_type": "code",
   "execution_count": 180,
   "id": "3d7ff258",
   "metadata": {},
   "outputs": [
    {
     "data": {
      "text/html": [
       "<div>\n",
       "<style scoped>\n",
       "    .dataframe tbody tr th:only-of-type {\n",
       "        vertical-align: middle;\n",
       "    }\n",
       "\n",
       "    .dataframe tbody tr th {\n",
       "        vertical-align: top;\n",
       "    }\n",
       "\n",
       "    .dataframe thead th {\n",
       "        text-align: right;\n",
       "    }\n",
       "</style>\n",
       "<table border=\"1\" class=\"dataframe\">\n",
       "  <thead>\n",
       "    <tr style=\"text-align: right;\">\n",
       "      <th></th>\n",
       "      <th>Date</th>\n",
       "      <th>content_tokenize</th>\n",
       "      <th>Polarity</th>\n",
       "      <th>Analysis</th>\n",
       "    </tr>\n",
       "  </thead>\n",
       "  <tbody>\n",
       "    <tr>\n",
       "      <th>0</th>\n",
       "      <td>2021-06-23</td>\n",
       "      <td>fooo not underwater fooo entire net worth marc...</td>\n",
       "      <td>0.066667</td>\n",
       "      <td>Positive</td>\n",
       "    </tr>\n",
       "    <tr>\n",
       "      <th>1</th>\n",
       "      <td>2021-06-23</td>\n",
       "      <td>jejudoge cmc listing live currently voted comm...</td>\n",
       "      <td>0.068182</td>\n",
       "      <td>Positive</td>\n",
       "    </tr>\n",
       "    <tr>\n",
       "      <th>2</th>\n",
       "      <td>2021-06-23</td>\n",
       "      <td>people say bitcoin myspace something gon na co...</td>\n",
       "      <td>0.285714</td>\n",
       "      <td>Positive</td>\n",
       "    </tr>\n",
       "    <tr>\n",
       "      <th>3</th>\n",
       "      <td>2021-06-23</td>\n",
       "      <td>cryptogodjohn btc bullish amp centricrise bull...</td>\n",
       "      <td>-0.050000</td>\n",
       "      <td>Negative</td>\n",
       "    </tr>\n",
       "    <tr>\n",
       "      <th>4</th>\n",
       "      <td>2021-06-23</td>\n",
       "      <td>hex btc eth annual charts might sign come sinc...</td>\n",
       "      <td>0.222222</td>\n",
       "      <td>Positive</td>\n",
       "    </tr>\n",
       "  </tbody>\n",
       "</table>\n",
       "</div>"
      ],
      "text/plain": [
       "         Date                                   content_tokenize  Polarity  \\\n",
       "0  2021-06-23  fooo not underwater fooo entire net worth marc...  0.066667   \n",
       "1  2021-06-23  jejudoge cmc listing live currently voted comm...  0.068182   \n",
       "2  2021-06-23  people say bitcoin myspace something gon na co...  0.285714   \n",
       "3  2021-06-23  cryptogodjohn btc bullish amp centricrise bull... -0.050000   \n",
       "4  2021-06-23  hex btc eth annual charts might sign come sinc...  0.222222   \n",
       "\n",
       "   Analysis  \n",
       "0  Positive  \n",
       "1  Positive  \n",
       "2  Positive  \n",
       "3  Negative  \n",
       "4  Positive  "
      ]
     },
     "execution_count": 180,
     "metadata": {},
     "output_type": "execute_result"
    }
   ],
   "source": [
    "df_3.head(5)"
   ]
  },
  {
   "cell_type": "code",
   "execution_count": 181,
   "id": "b2e060ca",
   "metadata": {},
   "outputs": [],
   "source": [
    "df_group = df_3.groupby(['Date','Analysis'], as_index = False).count()"
   ]
  },
  {
   "cell_type": "code",
   "execution_count": 182,
   "id": "9d0244b8",
   "metadata": {},
   "outputs": [],
   "source": [
    "df_group.rename(columns={'Polarity': 'Count'}, inplace = True)"
   ]
  },
  {
   "cell_type": "code",
   "execution_count": 185,
   "id": "cbf2a4fc",
   "metadata": {},
   "outputs": [],
   "source": [
    "df_group = df_group.drop('content_tokenize', axis=1)"
   ]
  },
  {
   "cell_type": "code",
   "execution_count": 189,
   "id": "265cf437",
   "metadata": {},
   "outputs": [
    {
     "data": {
      "text/html": [
       "<div>\n",
       "<style scoped>\n",
       "    .dataframe tbody tr th:only-of-type {\n",
       "        vertical-align: middle;\n",
       "    }\n",
       "\n",
       "    .dataframe tbody tr th {\n",
       "        vertical-align: top;\n",
       "    }\n",
       "\n",
       "    .dataframe thead th {\n",
       "        text-align: right;\n",
       "    }\n",
       "</style>\n",
       "<table border=\"1\" class=\"dataframe\">\n",
       "  <thead>\n",
       "    <tr style=\"text-align: right;\">\n",
       "      <th></th>\n",
       "      <th>Date</th>\n",
       "      <th>Analysis</th>\n",
       "      <th>Count</th>\n",
       "    </tr>\n",
       "  </thead>\n",
       "  <tbody>\n",
       "    <tr>\n",
       "      <th>0</th>\n",
       "      <td>2017-06-24</td>\n",
       "      <td>Negative</td>\n",
       "      <td>44</td>\n",
       "    </tr>\n",
       "    <tr>\n",
       "      <th>1</th>\n",
       "      <td>2017-06-24</td>\n",
       "      <td>Neutral</td>\n",
       "      <td>167</td>\n",
       "    </tr>\n",
       "    <tr>\n",
       "      <th>2</th>\n",
       "      <td>2017-06-24</td>\n",
       "      <td>Positive</td>\n",
       "      <td>126</td>\n",
       "    </tr>\n",
       "    <tr>\n",
       "      <th>3</th>\n",
       "      <td>2017-06-25</td>\n",
       "      <td>Negative</td>\n",
       "      <td>44</td>\n",
       "    </tr>\n",
       "    <tr>\n",
       "      <th>4</th>\n",
       "      <td>2017-06-25</td>\n",
       "      <td>Neutral</td>\n",
       "      <td>189</td>\n",
       "    </tr>\n",
       "  </tbody>\n",
       "</table>\n",
       "</div>"
      ],
      "text/plain": [
       "         Date  Analysis  Count\n",
       "0  2017-06-24  Negative     44\n",
       "1  2017-06-24   Neutral    167\n",
       "2  2017-06-24  Positive    126\n",
       "3  2017-06-25  Negative     44\n",
       "4  2017-06-25   Neutral    189"
      ]
     },
     "execution_count": 189,
     "metadata": {},
     "output_type": "execute_result"
    }
   ],
   "source": [
    "df_group.head(5)"
   ]
  },
  {
   "cell_type": "code",
   "execution_count": 188,
   "id": "6ce30c59",
   "metadata": {},
   "outputs": [
    {
     "data": {
      "text/plain": [
       "2195405"
      ]
     },
     "execution_count": 188,
     "metadata": {},
     "output_type": "execute_result"
    }
   ],
   "source": [
    "df_group['Count'].sum()"
   ]
  },
  {
   "cell_type": "code",
   "execution_count": 2,
   "id": "152d3b1e",
   "metadata": {},
   "outputs": [],
   "source": [
    "# Group by date and count"
   ]
  },
  {
   "cell_type": "code",
   "execution_count": 191,
   "id": "15eaf2f5",
   "metadata": {},
   "outputs": [
    {
     "data": {
      "text/html": [
       "<div>\n",
       "<style scoped>\n",
       "    .dataframe tbody tr th:only-of-type {\n",
       "        vertical-align: middle;\n",
       "    }\n",
       "\n",
       "    .dataframe tbody tr th {\n",
       "        vertical-align: top;\n",
       "    }\n",
       "\n",
       "    .dataframe thead th {\n",
       "        text-align: right;\n",
       "    }\n",
       "</style>\n",
       "<table border=\"1\" class=\"dataframe\">\n",
       "  <thead>\n",
       "    <tr style=\"text-align: right;\">\n",
       "      <th></th>\n",
       "      <th>Date</th>\n",
       "      <th>Analysis</th>\n",
       "      <th>Count</th>\n",
       "    </tr>\n",
       "  </thead>\n",
       "  <tbody>\n",
       "    <tr>\n",
       "      <th>0</th>\n",
       "      <td>2017-06-24</td>\n",
       "      <td>Neutral</td>\n",
       "      <td>167</td>\n",
       "    </tr>\n",
       "    <tr>\n",
       "      <th>1</th>\n",
       "      <td>2017-06-25</td>\n",
       "      <td>Neutral</td>\n",
       "      <td>189</td>\n",
       "    </tr>\n",
       "    <tr>\n",
       "      <th>2</th>\n",
       "      <td>2017-06-26</td>\n",
       "      <td>Neutral</td>\n",
       "      <td>249</td>\n",
       "    </tr>\n",
       "    <tr>\n",
       "      <th>3</th>\n",
       "      <td>2017-06-27</td>\n",
       "      <td>Neutral</td>\n",
       "      <td>238</td>\n",
       "    </tr>\n",
       "    <tr>\n",
       "      <th>4</th>\n",
       "      <td>2017-06-28</td>\n",
       "      <td>Neutral</td>\n",
       "      <td>214</td>\n",
       "    </tr>\n",
       "  </tbody>\n",
       "</table>\n",
       "</div>"
      ],
      "text/plain": [
       "         Date Analysis  Count\n",
       "0  2017-06-24  Neutral    167\n",
       "1  2017-06-25  Neutral    189\n",
       "2  2017-06-26  Neutral    249\n",
       "3  2017-06-27  Neutral    238\n",
       "4  2017-06-28  Neutral    214"
      ]
     },
     "execution_count": 191,
     "metadata": {},
     "output_type": "execute_result"
    }
   ],
   "source": [
    "df_group_max = df_group.loc[df_group.groupby(['Date'])['Count'].idxmax()]\n",
    "df_group_max.reset_index(drop=True, inplace=True)\n",
    "df_group_max.head(5)"
   ]
  },
  {
   "cell_type": "code",
   "execution_count": 197,
   "id": "89b74505",
   "metadata": {},
   "outputs": [
    {
     "name": "stdout",
     "output_type": "stream",
     "text": [
      "Positive    1325\n",
      "Neutral      136\n",
      "Name: Analysis, dtype: int64\n"
     ]
    }
   ],
   "source": [
    "items_count_2 = df_group_max['Analysis'].value_counts()\n",
    "print(items_count_2)"
   ]
  },
  {
   "cell_type": "code",
   "execution_count": 199,
   "id": "57117f30",
   "metadata": {},
   "outputs": [
    {
     "data": {
      "image/png": "[encoded data removed]",
      "text/plain": [
       "<Figure size 432x288 with 1 Axes>"
      ]
     },
     "metadata": {
      "needs_background": "light"
     },
     "output_type": "display_data"
    }
   ],
   "source": [
    "values = [1325, 136, 0]\n",
    "names = ['Positive', 'Neutral', 'Negative']\n",
    "\n",
    "plt.bar(names, values)\n",
    "plt.show()"
   ]
  },
  {
   "cell_type": "code",
   "execution_count": 3,
   "id": "533a649f",
   "metadata": {},
   "outputs": [],
   "source": [
    "# Count Polarity for each Tweet"
   ]
  },
  {
   "cell_type": "code",
   "execution_count": 196,
   "id": "292f1099",
   "metadata": {},
   "outputs": [
    {
     "name": "stdout",
     "output_type": "stream",
     "text": [
      "Positive    1117408\n",
      "Neutral      717990\n",
      "Negative     360007\n",
      "Name: Analysis, dtype: int64\n"
     ]
    }
   ],
   "source": [
    "items_count_3 = df_3['Analysis'].value_counts()\n",
    "print(items_count_3)"
   ]
  },
  {
   "cell_type": "code",
   "execution_count": 195,
   "id": "4d7c9ac5",
   "metadata": {},
   "outputs": [
    {
     "data": {
      "image/png": "[encoded data removed]",
      "text/plain": [
       "<Figure size 432x288 with 1 Axes>"
      ]
     },
     "metadata": {
      "needs_background": "light"
     },
     "output_type": "display_data"
    }
   ],
   "source": [
    "values = [1117408, 717990, 360007]\n",
    "names = ['Positive', 'Neutral', 'Negative']\n",
    "\n",
    "plt.bar(names, values)\n",
    "plt.show()"
   ]
  },
  {
   "cell_type": "code",
   "execution_count": null,
   "id": "d664628e",
   "metadata": {},
   "outputs": [],
   "source": []
  },
  {
   "cell_type": "code",
   "execution_count": 76,
   "id": "c1d3f9b8",
   "metadata": {},
   "outputs": [
    {
     "name": "stdout",
     "output_type": "stream",
     "text": [
      "            Date                                   content_tokenize\n",
      "0     2017-06-24  late bitcoin price index usdthomass jamesfourm...\n",
      "1     2017-06-25  late bitcoin price index usdcomparison bitcoin...\n",
      "2     2017-06-26  late bitcoin price index usdanalyzing ether bi...\n",
      "3     2017-06-27  late bitcoin price index usdbitcoin past sell ...\n",
      "4     2017-06-28  late bitcoin price index usdkyletorpey blockch...\n",
      "...          ...                                                ...\n",
      "1456  2021-06-19  lightning network el salvador clean north amer...\n",
      "1457  2021-06-20  check boy elvis new safemoon astronaut definit...\n",
      "1458  2021-06-21  may sound counter intuitive best btc momentum ...\n",
      "1459  2021-06-22  green button bounce btckishuinu trending coinm...\n",
      "1460  2021-06-23  fooo not underwater fooo entire net worth marc...\n",
      "\n",
      "[1461 rows x 2 columns]\n"
     ]
    }
   ],
   "source": [
    "df_4 = df_3.groupby(['Date'], as_index = False).agg({'content_tokenize': ''.join}, Inplace=True)\n",
    "print(df_4)"
   ]
  },
  {
   "cell_type": "markdown",
   "id": "21157dcd",
   "metadata": {},
   "source": [
    "### Load crypto prices"
   ]
  },
  {
   "cell_type": "code",
   "execution_count": 77,
   "id": "30393c9b",
   "metadata": {},
   "outputs": [
    {
     "name": "stdout",
     "output_type": "stream",
     "text": [
      "      Unnamed: 0  index                 datetime        date  hour variable  \\\n",
      "0              0      0  2017-06-24 00:00:00.000  2017-06-24     0  bitcoin   \n",
      "1              1      1  2017-06-25 00:00:00.000  2017-06-25     0  bitcoin   \n",
      "2              2      2  2017-06-26 00:00:00.000  2017-06-26     0  bitcoin   \n",
      "3              3      3  2017-06-27 00:00:00.000  2017-06-27     0  bitcoin   \n",
      "4              4      4  2017-06-28 00:00:00.000  2017-06-28     0  bitcoin   \n",
      "...          ...    ...                      ...         ...   ...      ...   \n",
      "1456        1456   1458  2021-06-19 00:00:00.000  2021-06-19     0  bitcoin   \n",
      "1457        1457   1459  2021-06-20 00:00:00.000  2021-06-20     0  bitcoin   \n",
      "1458        1458   1460  2021-06-21 00:00:00.000  2021-06-21     0  bitcoin   \n",
      "1459        1459   1461  2021-06-22 00:00:00.000  2021-06-22     0  bitcoin   \n",
      "1460        1460   1462  2021-06-23 00:00:00.000  2021-06-23     0  bitcoin   \n",
      "\n",
      "             value  \n",
      "0      2618.416736  \n",
      "1      2606.863235  \n",
      "2      2488.194163  \n",
      "3      2531.348999  \n",
      "4      2575.437770  \n",
      "...            ...  \n",
      "1456  35881.111371  \n",
      "1457  35581.642268  \n",
      "1458  35787.077405  \n",
      "1459  31711.935468  \n",
      "1460  32507.738707  \n",
      "\n",
      "[1461 rows x 7 columns]\n"
     ]
    }
   ],
   "source": [
    "btc_price = pd.read_csv('btc_price.csv')\n",
    "print(btc_price)\n"
   ]
  },
  {
   "cell_type": "code",
   "execution_count": 78,
   "id": "95aea9ef",
   "metadata": {},
   "outputs": [],
   "source": [
    "btc_price['Date'] = btc_price['date']\n",
    "btc_price['Price'] = btc_price['value']\n",
    "btc_price = btc_price[['Date', 'Price']]"
   ]
  },
  {
   "cell_type": "code",
   "execution_count": 80,
   "id": "c6636cb1",
   "metadata": {},
   "outputs": [],
   "source": [
    "btc_price['Date'] = pd.to_datetime(btc_price['Date']).dt.date"
   ]
  },
  {
   "cell_type": "code",
   "execution_count": 81,
   "id": "bc90acd7",
   "metadata": {},
   "outputs": [
    {
     "name": "stdout",
     "output_type": "stream",
     "text": [
      "            Date                                   content_tokenize  \\\n",
      "0     2017-06-24  late bitcoin price index usdthomass jamesfourm...   \n",
      "1     2017-06-25  late bitcoin price index usdcomparison bitcoin...   \n",
      "2     2017-06-26  late bitcoin price index usdanalyzing ether bi...   \n",
      "3     2017-06-27  late bitcoin price index usdbitcoin past sell ...   \n",
      "4     2017-06-28  late bitcoin price index usdkyletorpey blockch...   \n",
      "...          ...                                                ...   \n",
      "1456  2021-06-19  lightning network el salvador clean north amer...   \n",
      "1457  2021-06-20  check boy elvis new safemoon astronaut definit...   \n",
      "1458  2021-06-21  may sound counter intuitive best btc momentum ...   \n",
      "1459  2021-06-22  green button bounce btckishuinu trending coinm...   \n",
      "1460  2021-06-23  fooo not underwater fooo entire net worth marc...   \n",
      "\n",
      "             Price  \n",
      "0      2618.416736  \n",
      "1      2606.863235  \n",
      "2      2488.194163  \n",
      "3      2531.348999  \n",
      "4      2575.437770  \n",
      "...            ...  \n",
      "1456  35881.111371  \n",
      "1457  35581.642268  \n",
      "1458  35787.077405  \n",
      "1459  31711.935468  \n",
      "1460  32507.738707  \n",
      "\n",
      "[1461 rows x 3 columns]\n"
     ]
    }
   ],
   "source": [
    "btc = pd.merge(df_4, btc_price, how='outer', on='Date')\n",
    "print(btc)"
   ]
  },
  {
   "cell_type": "markdown",
   "id": "249bce71",
   "metadata": {},
   "source": [
    "### Sentiment Analysis VADER"
   ]
  },
  {
   "cell_type": "markdown",
   "id": "6fd73855",
   "metadata": {},
   "source": [
    "#### First Approach VADER"
   ]
  },
  {
   "cell_type": "code",
   "execution_count": 82,
   "id": "ed4b88e0",
   "metadata": {},
   "outputs": [
    {
     "name": "stderr",
     "output_type": "stream",
     "text": [
      "[nltk_data] Downloading package twitter_samples to\n",
      "[nltk_data]     C:\\Users\\kbyc\\AppData\\Roaming\\nltk_data...\n",
      "[nltk_data]   Package twitter_samples is already up-to-date!\n",
      "[nltk_data] Downloading package vader_lexicon to\n",
      "[nltk_data]     C:\\Users\\kbyc\\AppData\\Roaming\\nltk_data...\n",
      "[nltk_data]   Package vader_lexicon is already up-to-date!\n"
     ]
    }
   ],
   "source": [
    "from nltk.sentiment.vader import SentimentIntensityAnalyzer\n",
    "from nltk.corpus import twitter_samples \n",
    "nltk.download('twitter_samples')\n",
    "nltk.download('vader_lexicon')\n",
    "analyzer = SentimentIntensityAnalyzer()\n"
   ]
  },
  {
   "cell_type": "code",
   "execution_count": 83,
   "id": "f7d3207e",
   "metadata": {},
   "outputs": [],
   "source": [
    "from nltk import ngrams\n",
    "from sklearn.feature_extraction.text import CountVectorizer\n",
    "from sklearn.decomposition import LatentDirichletAllocation"
   ]
  },
  {
   "cell_type": "code",
   "execution_count": 84,
   "id": "314f6305",
   "metadata": {},
   "outputs": [],
   "source": [
    "# apply sentiment analysis\n",
    "analyser = SentimentIntensityAnalyzer()\n",
    "\n",
    "sentiment_score_list = []\n",
    "sentiment_label_list = []\n",
    "\n",
    "for i in btc['content_tokenize'].values.tolist():\n",
    "    sentiment_score = analyser.polarity_scores(i)\n",
    "\n",
    "    if sentiment_score['compound'] >= 0.05:\n",
    "        sentiment_score_list.append(sentiment_score['compound'])\n",
    "        sentiment_label_list.append('Positive')\n",
    "    elif sentiment_score['compound'] > -0.05 and sentiment_score['compound'] < 0.05:\n",
    "        sentiment_score_list.append(sentiment_score['compound'])\n",
    "        sentiment_label_list.append('Neutral')\n",
    "    elif sentiment_score['compound'] <= -0.05:\n",
    "        sentiment_score_list.append(sentiment_score['compound'])\n",
    "        sentiment_label_list.append('Negative')\n",
    "    \n",
    "btc['sentiment'] = sentiment_label_list\n",
    "btc['sentiment score'] = sentiment_score_list"
   ]
  },
  {
   "cell_type": "code",
   "execution_count": 85,
   "id": "366a1c29",
   "metadata": {},
   "outputs": [
    {
     "name": "stdout",
     "output_type": "stream",
     "text": [
      "            Date                                   content_tokenize  \\\n",
      "0     2017-06-24  late bitcoin price index usdthomass jamesfourm...   \n",
      "1     2017-06-25  late bitcoin price index usdcomparison bitcoin...   \n",
      "2     2017-06-26  late bitcoin price index usdanalyzing ether bi...   \n",
      "3     2017-06-27  late bitcoin price index usdbitcoin past sell ...   \n",
      "4     2017-06-28  late bitcoin price index usdkyletorpey blockch...   \n",
      "...          ...                                                ...   \n",
      "1456  2021-06-19  lightning network el salvador clean north amer...   \n",
      "1457  2021-06-20  check boy elvis new safemoon astronaut definit...   \n",
      "1458  2021-06-21  may sound counter intuitive best btc momentum ...   \n",
      "1459  2021-06-22  green button bounce btckishuinu trending coinm...   \n",
      "1460  2021-06-23  fooo not underwater fooo entire net worth marc...   \n",
      "\n",
      "             Price sentiment  sentiment score  \n",
      "0      2618.416736  Positive           0.9999  \n",
      "1      2606.863235  Positive           0.9997  \n",
      "2      2488.194163  Positive           0.9994  \n",
      "3      2531.348999  Positive           0.9995  \n",
      "4      2575.437770  Positive           0.9998  \n",
      "...            ...       ...              ...  \n",
      "1456  35881.111371  Positive           1.0000  \n",
      "1457  35581.642268  Positive           1.0000  \n",
      "1458  35787.077405  Positive           1.0000  \n",
      "1459  31711.935468  Positive           1.0000  \n",
      "1460  32507.738707  Positive           1.0000  \n",
      "\n",
      "[1461 rows x 5 columns]\n"
     ]
    }
   ],
   "source": [
    "print(btc)"
   ]
  },
  {
   "cell_type": "markdown",
   "id": "ba9cd828",
   "metadata": {},
   "source": [
    "#### Second approach VADER\n"
   ]
  },
  {
   "cell_type": "code",
   "execution_count": 103,
   "id": "81536c95",
   "metadata": {},
   "outputs": [],
   "source": [
    "#create a function to get the Vader score\n",
    "def Vader_score_pos(text):\n",
    "    return analyser.polarity_scores(text)['pos']"
   ]
  },
  {
   "cell_type": "code",
   "execution_count": 104,
   "id": "e3574b99",
   "metadata": {},
   "outputs": [],
   "source": [
    "#create new column \n",
    "btc['Vader_score_pos'] = btc['content_tokenize'].apply(Vader_score_pos)"
   ]
  },
  {
   "cell_type": "code",
   "execution_count": 105,
   "id": "71446ad5",
   "metadata": {},
   "outputs": [],
   "source": [
    "#create a function to get the Vader score\n",
    "def Vader_score_compound(text):\n",
    "    return analyser.polarity_scores(text)['compound']"
   ]
  },
  {
   "cell_type": "code",
   "execution_count": 106,
   "id": "71cbbaa1",
   "metadata": {},
   "outputs": [],
   "source": [
    "#create new column \n",
    "btc['Vader_score_compound'] = btc['content_tokenize'].apply(Vader_score_compound)"
   ]
  },
  {
   "cell_type": "code",
   "execution_count": 110,
   "id": "33821741",
   "metadata": {},
   "outputs": [
    {
     "name": "stdout",
     "output_type": "stream",
     "text": [
      "            Date                                   content_tokenize  \\\n",
      "0     2017-06-24  late bitcoin price index usdthomass jamesfourm...   \n",
      "1     2017-06-25  late bitcoin price index usdcomparison bitcoin...   \n",
      "2     2017-06-26  late bitcoin price index usdanalyzing ether bi...   \n",
      "3     2017-06-27  late bitcoin price index usdbitcoin past sell ...   \n",
      "4     2017-06-28  late bitcoin price index usdkyletorpey blockch...   \n",
      "...          ...                                                ...   \n",
      "1456  2021-06-19  lightning network el salvador clean north amer...   \n",
      "1457  2021-06-20  check boy elvis new safemoon astronaut definit...   \n",
      "1458  2021-06-21  may sound counter intuitive best btc momentum ...   \n",
      "1459  2021-06-22  green button bounce btckishuinu trending coinm...   \n",
      "1460  2021-06-23  fooo not underwater fooo entire net worth marc...   \n",
      "\n",
      "             Price sentiment  sentiment score  \\\n",
      "0      2618.416736  Positive           0.9999   \n",
      "1      2606.863235  Positive           0.9997   \n",
      "2      2488.194163  Positive           0.9994   \n",
      "3      2531.348999  Positive           0.9995   \n",
      "4      2575.437770  Positive           0.9998   \n",
      "...            ...       ...              ...   \n",
      "1456  35881.111371  Positive           1.0000   \n",
      "1457  35581.642268  Positive           1.0000   \n",
      "1458  35787.077405  Positive           1.0000   \n",
      "1459  31711.935468  Positive           1.0000   \n",
      "1460  32507.738707  Positive           1.0000   \n",
      "\n",
      "                                            Vader_score  Vader_score_pos  \\\n",
      "0     {'neg': 0.062, 'neu': 0.777, 'pos': 0.161, 'co...            0.161   \n",
      "1     {'neg': 0.062, 'neu': 0.811, 'pos': 0.127, 'co...            0.127   \n",
      "2     {'neg': 0.096, 'neu': 0.78, 'pos': 0.124, 'com...            0.124   \n",
      "3     {'neg': 0.078, 'neu': 0.808, 'pos': 0.113, 'co...            0.113   \n",
      "4     {'neg': 0.073, 'neu': 0.79, 'pos': 0.137, 'com...            0.137   \n",
      "...                                                 ...              ...   \n",
      "1456  {'neg': 0.082, 'neu': 0.751, 'pos': 0.167, 'co...            0.167   \n",
      "1457  {'neg': 0.088, 'neu': 0.745, 'pos': 0.167, 'co...            0.167   \n",
      "1458  {'neg': 0.106, 'neu': 0.742, 'pos': 0.152, 'co...            0.152   \n",
      "1459  {'neg': 0.098, 'neu': 0.742, 'pos': 0.16, 'com...            0.160   \n",
      "1460  {'neg': 0.086, 'neu': 0.758, 'pos': 0.156, 'co...            0.156   \n",
      "\n",
      "      Vader_score_compound  \n",
      "0                   0.9999  \n",
      "1                   0.9997  \n",
      "2                   0.9994  \n",
      "3                   0.9995  \n",
      "4                   0.9998  \n",
      "...                    ...  \n",
      "1456                1.0000  \n",
      "1457                1.0000  \n",
      "1458                1.0000  \n",
      "1459                1.0000  \n",
      "1460                1.0000  \n",
      "\n",
      "[1461 rows x 8 columns]\n"
     ]
    }
   ],
   "source": [
    "print(btc)"
   ]
  },
  {
   "cell_type": "code",
   "execution_count": 113,
   "id": "c3f421b2",
   "metadata": {},
   "outputs": [
    {
     "data": {
      "text/plain": [
       "<AxesSubplot:xlabel='Date'>"
      ]
     },
     "execution_count": 113,
     "metadata": {},
     "output_type": "execute_result"
    },
    {
     "data": {
      "image/png": "[encoded data removed]",
      "text/plain": [
       "<Figure size 432x288 with 1 Axes>"
      ]
     },
     "metadata": {
      "needs_background": "light"
     },
     "output_type": "display_data"
    }
   ],
   "source": [
    "btc.plot(x='Date', y='Price')"
   ]
  },
  {
   "cell_type": "code",
   "execution_count": 111,
   "id": "38fd1a6f",
   "metadata": {},
   "outputs": [
    {
     "data": {
      "text/plain": [
       "<AxesSubplot:xlabel='Date'>"
      ]
     },
     "execution_count": 111,
     "metadata": {},
     "output_type": "execute_result"
    },
    {
     "data": {
      "image/png": "[encoded data removed]",
      "text/plain": [
       "<Figure size 432x288 with 1 Axes>"
      ]
     },
     "metadata": {
      "needs_background": "light"
     },
     "output_type": "display_data"
    }
   ],
   "source": [
    "btc.plot(x='Date', y='Vader_score_pos')"
   ]
  }
 ],
 "metadata": {
  "kernelspec": {
   "display_name": "Python 3",
   "language": "python",
   "name": "python3"
  },
  "language_info": {
   "codemirror_mode": {
    "name": "ipython",
    "version": 3
   },
   "file_extension": ".py",
   "mimetype": "text/x-python",
   "name": "python",
   "nbconvert_exporter": "python",
   "pygments_lexer": "ipython3",
   "version": "3.8.8"
  }
 },
 "nbformat": 4,
 "nbformat_minor": 5
}
